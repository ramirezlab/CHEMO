








# Importa el módulo "requests", que se utiliza para realizar solicitudes HTTP en Python
import requests

# Se define una variable url que contiene la dirección URL de un archivo en formato FASTA que contiene una secuencia de ADN
url = "https://raw.githubusercontent.com/ramirezlab/CHEMO/main/1_PART_ONE/data/sec_CYP2C9.fasta"
# Se define la variable 'response' la cual va a realizar una solicitud HTTP GET a la URL definida en la línea anterior utilizando la función 'get()' del módulo requests.
response = requests.get(url)

# Se verifica si el código de estado de la respuesta HTTP es 200, lo que indica una solicitud exitosa.
if response.status_code == 200:  
    sec_CYP2C9 = response.text                               # Obtener el contenido del archivo  desde la respuesta HTTP y se guarda en la variable sec_CYP2C9 
    print(f'Tipo variable sec_CYP2C9: {type(sec_CYP2C9)}')   # Se imprime el tipo de la variable sec_CYP2C9 utilizando la función 'type()'
else:                                                        # Se ejecuta si la solicitud HTTP no fue exitosa.
    print(f"Error al acceder al archivo. Código de estado: {response.status_code}") # Se imprime un mensaje de error indicando que hubo un problema al acceder al archivo


print('El archivo descargado del GenBank del gen citocromo P450 es:')
sec_CYP2C9





print(sec_CYP2C9)








# 1. Separar la cadena por renglones
# Se divide el string en una lista de strings. El argumento '\n' especifica que la división debe realizarse en cada salto de línea
sec_separada = sec_CYP2C9.split('\n')  
print ("Lista separada:\n", str (sec_separada)) # La función 'str()' se utiliza para convertir la lista sec_separada en una representación de string


# 2. Guardar la lista de elementos desde el segundo (índice 1) hasta el final, eliminando las referencias de la secuencia (índice 0).
sec_separada = sec_separada[1:]
# Ver la lista sin el primer elemento
print("Lista separada, sin el primer renglón:\n" + str (sec_separada))


# 3. Unir la cadena para recopilar la secuencia.
ADN_CYP2C9 =(''.join(sec_separada))
print('Secuencia final:')
ADN_CYP2C9





import requests

url = "https://raw.githubusercontent.com/ramirezlab/CHEMO/main/1_PART_ONE/data/sec_CYP2C9.fasta"
response = requests.get(url)

if response.status_code == 200:
    sec_CYP2C9 = response.text
    ADN_CYP2C9 = (''.join(sec_CYP2C9.split('\n')[1:]))
    print('Secuencia final:')
    print(ADN_CYP2C9)
else:
    print(f"Error al acceder al archivo. Código de estado: {response.status_code}")








print(f'El primer nucleótido de la secuencia es: {ADN_CYP2C9[0]}')

print(f'Los primeros diez nucleótidos de la secuencia son: {ADN_CYP2C9[:10]}')


print(f'La secuencia que abarca 2 a 10 nucleótidos es: {ADN_CYP2C9[2:10]}')


print(f'La secuencia de nucleótidos desde la posición 1100 es: {ADN_CYP2C9[1100:]}')


# Al emplear índices negativos se comienza a contar desde el final del String, útil en documentos extensos
print(f'Los últimos 25 nucleótidos de la secuencia son: {ADN_CYP2C9[-25:]}')


print(f'total de nucleótidos: {len(ADN_CYP2C9)}')





# Transcripción de la secuencia de marmota de ADN a ARN, empleando la función ".replace()"
ARN_CYP2C9 = ADN_CYP2C9.replace("T","U")
print ("Secuencia ARNm:\n", str(ARN_CYP2C9))





ARN_CYP2C9.count('U')





# Importa el módulo "requests", que se utiliza para realizar solicitudes HTTP en Python
import requests

# Se define una variable url que contiene la dirección URL de un archivo en formato FASTA que contiene una secuencia de ADN
url = "https://raw.githubusercontent.com/ramirezlab/CHEMO/main/1_PART_ONE/data/dna_marmota.fasta"

# Se define la variable response la cual va a realizar una solicitud HTTP GET a la URL definida en la línea anterior utilizando la función get() del módulo requests.
response = requests.get(url)

# Limpiar el archivo separando los strings por reglones, guardando la lista de elementos desde el segundo (índice 1) hasta el final y uniendo elstring para recopilar la secuencia
if response.status_code == 200:
    ADN_marmota = ''.join((response.text).split('\n')[1:])
    print(f'La secuencia del genoma de marmota tiene {len(ADN_marmota)} nucleótidos')
    print(f'Los primeros 100 nucleótidos del genoma de marmota son: {ADN_marmota[:100]}')
else:
    print(f"Error al acceder al archivo. Código de estado: {response.status_code}")


# Transcripción de la secuencia de marmota de ADN a ARN, empleando la función ".replace()"
ARN_marmota = ADN_marmota.replace("T","U")
print("Los primeros nucleótidos de la secuencia de ARN son: "+ (ARN_marmota[:1000]))






