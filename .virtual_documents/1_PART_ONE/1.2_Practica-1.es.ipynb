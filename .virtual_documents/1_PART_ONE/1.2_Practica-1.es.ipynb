








import requests

url = "https://raw.githubusercontent.com/ramirezlab/CHEMO/main/1_PART_ONE/data/sec_CYP2C9.fasta"
response = requests.get(url)

if response.status_code == 200:
    sec_CYP2C9 = response.text
    print(f'Tipo variable sec_CYP2C9: {type(sec_CYP2C9)}')
else:
    print(f"Error al acceder al archivo. Código de estado: {response.status_code}")


print('El archivo descargado del GenBank del gen citocromo P450 es:')
sec_CYP2C9





print(sec_CYP2C9)








# 1. Separar la cadena por renglones
sec_separada = sec_CYP2C9.split('\n')
print ("Lista separada:\n", str (sec_separada))


# 2. Guardar la lista de elementos desde el segundo (índice 1) hasta el final, eliminando las referencias de la secuencia (índice 0).
sec_separada = sec_separada[1:]
# Ver la lista sin el primer elemento
print("Lista separada, sin el primer renglón:\n" + str (sec_separada))


# Unir la cadena para recopilar la secuencia.
ADN_CYP2C9 =(''.join(sec_separada))
print('Secuencia final:')
ADN_CYP2C9





import requests

url = "https://raw.githubusercontent.com/ramirezlab/CHEMO/main/1_PART_ONE/data/sec_CYP2C9.fasta"
response = requests.get(url)

if response.status_code == 200:
    sec_CYP2C9 = response.text
    ADN_CYP2C9 = (''.join(sec_CYP2C9.split('\n')[1:]))
    print('Secuencia final:')
    print(ADN_CYP2C9)
else:
    print(f"Error al acceder al archivo. Código de estado: {response.status_code}")








print(f'El primer nucleótido de la secuencia es: {ADN_CYP2C9[0]}')

print(f'Los primeros diez nucleótidos de la secuencia son: {ADN_CYP2C9[:10]}')


print(f'La secuencia que abarca 2 a 10 nucleótidos es: {ADN_CYP2C9[2:10]}')


print(f'La secuencia de nucleótidos desde la posición 1100 es: {ADN_CYP2C9[1100:]}')


# Al emplear índices negativos se comienza a contar desde el final del String, útil en documentos extensos
print(f'Los últimos 25 nucleótidos de la secuencia son: {ADN_CYP2C9[-25:]}')


print(f'total de nucleótidos: {len(ADN_CYP2C9)}')





# Transcripción de la secuencia de marmota de ADN a ARN, empleando la función ".replace()"
ARN_CYP2C9 = ADN_CYP2C9.replace("T","U")
print ("Secuencia ARNm:\n", str(ARN_CYP2C9))





ARN_CYP2C9.count('U')





import requests

url = "https://raw.githubusercontent.com/ramirezlab/CHEMO/main/1_PART_ONE/data/dna_marmota.fasta"
response = requests.get(url)

if response.status_code == 200:
    ADN_marmota = ''.join((response.text).split('\n')[1:])
    print(f'La secuencia del genoma de marmota tiene {len(ADN_marmota)} nucleótidos')
    print(f'Los primeros 100 nucleótidos del genoma de marmota son: {ADN_marmota[:100]}')
else:
    print(f"Error al acceder al archivo. Código de estado: {response.status_code}")


# Transcripción de la secuencia de marmota de ADN a ARN, empleando la función ".replace()"
ARN_marmota = ADN_marmota.replace("T","U")
print("Los primeros nucleótidos de la secuencia de ARN son: "+ (ARN_marmota[:1000]))






