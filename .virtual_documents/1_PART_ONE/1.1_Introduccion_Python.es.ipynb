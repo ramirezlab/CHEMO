

















# Ejemplo Entero
entero_1 = 12361        # Se define la variable y se le asigna un valor entero
flotante_1 = 123.215    # Se define la variable y se le asigna un valor punto flotante
flotante_2 = 1236.0

# Se usa "+" como un operador de concatenación de cadenas en Python y "str" convierte el argumento en una cadena de caracteres
print("El tipo de la variable entero_1 es: " + str(type(entero_1)))    
print("El tipo de la variable flotante_1 es: " +  str(type(flotante_1)))
print("El tipo de la variable flotante_2 es: " + str(type(flotante_2)))








# Ejemplo operaciones con números enteros
x = 10
y = 5

print(f'La suma de dos números enteros es un entero, por ejemplo: {x + y}')


# Ejemplo operaciones con números reales en forma décimal
x = 10.0
y = 5.0

print(f'La suma de dos números de tipo flotantes da como resultado un número flotante, por ejemplo: {x + y}')


# Ejemplo operaciones con números reales y enteros
x = 10
y = 5.0

# Note que el interprete de Python da relevanciá a los tipos float sobre los tipos int.
print(f'La suma un entero y un flotante es un flotante, por ejemplo: {x + y}')





#Ejemplo
x = 15
y = 20

x + y  # La operación de esta celda es mostrada automáticamente








# Ejemplo de variable del tipo string
texto = 'Hola mundo'
print(f'texto: {texto}')


# Ejemplo de definiciones de variables tipo string, con comillas, sencillas, dobles y triples.
texto = "Hola mundo, comillas doble"
print(f'Texto - Comillas Doble: {texto}')


texto = 'Hola Mundo, comillas sencillas'
print(f'Texto - Comillas Sencillas: {texto}')


# La triple comilla conserva los separadores (espacios, saltos de línea)
texto = """Hola mundo,
triple comilla doble"""
print(f'Texto - Triple Comilla Doble: {texto}')


texto = '''Hola mundo,
triple comilla sencilla'''
print(f'Texto - Triple Comilla Sencillas: {texto}')





texto_multilinea = """Este texto es multilinea
porque posee diferentes lineas
para ello se imprime
"""
# \n es un separador de linea
print(f'Texto multilinea \n{texto_multilinea}')








texto = "Texto que se quiere manipular"

### EJEMPLO 1
print(f'Extraer una palabra del texto (texto[6:9]): {texto[6:9]}')  # del principio al final


#### EJEMPLO 2
print(f'Extraer la palabra \'quiere\' del texto recorriendo en string de adelante hacia atrás: {texto[13:19]}')  # del principio al final
print(f'Extraer la palabra \'quiere\' del texto recorriendo en string de atrás hacia adelante: {texto[-16:-10]}')  # del final al principio





texto = "Texto que se quiere manipular"

### EJEMPLO 1
print(f'¿Será que \'para\' esta en texto?')
print("para" in texto)

#### EJEMPLO 2

print(f'\n¿Será que \'quiere\' esta en texto?')
print("quiere" in texto)






texto = "Hola mundo. Este es un texto de ejemplo"
print(texto)

# Reemplazar una palabra
texto.replace("Hola", "Hi")


# Separa la frase por espacios
lista_separada = texto.split(" ")
lista_separada


# Encontrar la posición de la palabra 'mundo' en texto
texto.find("mundo")








# Guardar en la variable num una lista ordenada de elementos del 0 al 10
num = [0, 1, 2, 3, 4, 5, 6, 7, 8, 9, 10]
print(f'La lista de enteros del 0 al 10 es:')
num


# Para escribir la misma lista se puede utilizar la función range
num = list(range(11))
num





num = [1, "2", 3, "4", 5, "6", 7, 8, "9", 10]
# Notar como los elementos tipo string están entre comillas
print(f'La lista es:')
num








# num: una lista ordenada de elementos del 0-10
num = [0, 1, 2, 3, 4, 5, 6, 7, 8, 9, 10]
print('la lista es:')
print(num)
print('----------------------')

#### EJEMPLO 1
print(f'En la posición 0 de la lista está el elemento (primer elemento):')
print(num[0])
print('----------------------')

#### EJEMPLO 2
print(f'Los dos primeros elementos de la lista son:')
print(num[0:2])
print('----------------------')

#### EJEMPLO 3
print(f'Los dos últimos elementos  de la lista son:')
print(num[-2:])








num = [0, 1, 2, 3, 4, 5, 6, 7, 8, 9, 10]
print('Número de elementos de la lista:')
len(num)





#Es posible averiguar la posición de un elemento, incluso el valor en un lugar de la lista
print(f'¿En que posición se encuentra el 5?')
num.index(5)





print('Eliminar el último elemento de la lista')
print(num.pop())
print(num)





num.append(6)
print(f'La lista ahora con el elemento 6 al final:')
print(num)





num.remove(2)
print(f'La lista ahora sin el 2:')
print(num)





# volver a crear num
num = [0, 1, 2, 3, 4, 5, 6, 7, 8, 9, 10]
num.reverse()  # Cambiar el orden
print('Lista en orden contrario')
print(num)





# Sea tupla_num una tupla ordenada de elementos del 1 al 10
tupla_num = (1, 2, 3, 4, 5, 6, 7, 8, 9, 10)

print(f'La tupla de elementos del 1 al 10 es:')
print(tupla_num)








tupla_num = (1, 2, 3, 4, 5, 6, 7, 8, 9, 10)
print('Tupla de elementos')
print(tupla_num)
print('----------------------')

#### EJEMPLO 1
print('Primer elemento (posición cero)')
print(tupla_num[0])
print('----------------------')

#### EJEMPLO 2
print('Últimos cuatro elementos')
print(tupla_num[-4:])
print('----------------------')

#### EJEMPLO 3
print('tupla de elementos de la posición dos a la cinco')
print(tupla_num[2:5])
print('----------------------')





# Conjunto de elementos con algunos repetidos
conjunto_num_1 = {1, 2, 1, 2, 3, 5, 8, 1, 3, 9, 10, 2, 3, 4, 5, 6, 7, 8, 1, 0}

print('El conjunto de elementos es:')
conjunto_num_1





código_genético= {
    "GUU": "V", "GUC": "V", "GUA": "V",
    "GUG": "V", "GCU": "A", "GCC": "A",
    "GCA": "A", "GCG": "A", "GAU": "D",
    "GAC": "D", "GAA": "E", "GAG": "E",
    "GGU": "G", "GGC": "G", "GGA": "G",
    "GGG": "G", "AGA": "R", "AGG": "R",
    "AGU": "S", "AGC": "S", "AAU": "N",
    "AAC": "N", "AAA": "K", "AAG": "K",
    "ACU": "T", "ACC": "T", "ACA": "T",
    "ACG": "T", "AUU": "I", "AUC": "I",
    "AUA": "I", "AUG": "M", "CGU": "R",
    "CGC": "R", "CGA": "R", "CGG": "R",
    "CCU": "P", "CCC": "P", "CCA": "P",
    "CCG": "P", "CAU": "H", "CAC": "H",
    "CAA": "Q", "CAG": "Q", "UUU": "F",
    "UUC": "F", "UUA": "L", "UUG": "L",
    "UCU": "S", "UCC": "S", "UCA": "S",
    "UCG": "S", "UAU": "Y", "UAC": "Y",
    "UAA": "STOP", "UAG": "STOP", "UGU":"C",
    "UGC": "C", "UGA": "STOP", "UGG": "W",
    "CUU": "L", "CUC": "L", "CUA": "L",
    "CUG": "L"}

# Se imprime el diccionario previamente creado
print(código_genético)








### Ejemplo 1: ¿Cuál es el valor del código genético de GGG?
print(f'El aminoácido de GGG es: {código_genético["GGG"]}')
print('----------------------')

### Ejemplo 2: ¿Cuál es el valor del código genético de YYY?
código_genético['YYY']











### Ejemplo 2: Uso de try/catch para cuando una clave no existe en el diccionario
try:
    código_genético['YYY']
except KeyError:
    print(f'La propiedad YYY no existe en el diccionario, intenta con otra!')

















x = 1  # Valor inicial (pruebe cambiando este valor)

# Condición
if x == 1:            # Note que se usa un operador de comparación y se finaliza con dos puntos ":"
    print("La variable x es igual a 1")
else:
    print("La variable x no es igual a 1")





x = 3  # Valor inicial (pruebe cambiando este valor)

if x == 1:
    print("La variable x es igual a 1")
elif x == 2:
    print("La variable x es igual a 2")
else:
    print("La variable x no es igual a 1 ni a 2")





x = 2
y = 2
if x == 1:
    if y == 2:
       print("La variable x es igual a 1")
       print("La variable y es igual a 2")
elif x == 2:
    if y == 2:
        print("La variable x es igual a 2")
        print("La variable y es igual a 2")
else:
    print("La variable x NO es igual a 1 ni a 2")
    print("La variable y NO es igual a 1 ni a 2")








#### EJEMPLO 1
# Aumentemos el valor de x hasta 10
x = 1
print('El valor inicial de x es:', x)

while x < 10:
    print(f'El nuevo valor de x es {x}')
    x = x + 1
    if x == 5:
      break             # Break finaliza un bucle antes de que se cumpla con el while

print('Al finalizar el bucle, el valor de x es:', x)





#### EJEMPLO 1
for x in "acidos nucleicos":
  print(x)


#### EJEMPLO 1 (continuación)
acidos_nucleicos = ["desoxirribonucleico", "ADN", "ribonucleico", "ARN"]    # Se define una lista
for x in acidos_nucleicos:          # Itera sobre cada elemento de la lista acidos_nucleicos y en cada iteración asigna el valor del elemento a la variable x.
  if x == "ARN":                    # Verifica si el valor de x es igual a la cadena "ARN"
    break                           # Si la condición x == "ARN" es verdadera, el bucle se interrumpe y no se ejecuta más
  print(x)


#### EJEMPLO 2
# Tomemos como ejemplo una lista de objetos, por ejemplo los tipos de codones y su código genético:
código_genético= [
    ["GUU", "V"], ["GUC", "V"], ["GUA", "V"], ["GUG", "V"], ["GCU", "A"], ["GCC", "A"],
    ["GCA", "A"], ["GCG", "A"], ["GAU", "D"], ["GAC", "D"], ["GAA", "E"], ["GAG", "E"],
    ["GGU", "G"], ["GGC", "G"], ["GGA", "G"], ["GGG", "G"], ["AGA", "R"], ["AGG", "R"],
    ["AGU", "S"], ["AGC", "S"], ["AAU", "N"], ["AAC", "N"], ["AAA", "K"], ["AAG", "K"],
    ["ACU", "T"], ["ACC", "T"], ["ACA", "T"], ["ACG", "T"], ["AUU", "I"], ["AUC", "I"],
    ["AUA", "I"], ["AUG", "M"], ["CGU", "R"], ["CGC", "R"], ["CGA", "R"], ["CGG", "R"],
    ["CCU", "P"], ["CCC", "P"], ["CCA", "P"], ["CCG", "P"], ["CAU", "H"], ["CAC", "H"],
    ["CAA", "Q"], ["CAG", "Q"], ["UUU", "F"], ["UUC", "F"], ["UUA", "L"], ["UUG", "L"],
    ["UCU", "S"], ["UCC", "S"], ["UCA", "S"], ["UCG", "S"], ["UAU", "Y"], ["UAC", "Y"],
    ["UAA", "STOP"], ["UAG", "STOP"], ["UGU","C"], ["UGC", "C"], ["UGA", "STOP"],
    ["UGG", "W"], ["CUU", "L"], ["CUC", "L"], ["CUA", "L"], ["CUG", "L"]
]

# Se puede recorrer todos los elementos de la lista lista_prot e imprimir la proteína y su tipo:
for codón in código_genético:
    # Codón [0] hace referencia al primer elemento de la lista, en este caso el código genético
    # Codón [1] hace referencia al segundo elemento de la lista, en este caso el aminoácido
    print(f'El aminoácido de {codón[0]} es {codón[1]}') 





#### EJEMPLO 3: Uso de for para recorrer los elementos de un diccionario
código_genético= {
    "GUU": "V", "GUC": "V", "GUA": "V", "GUG": "V", "GCU": "A", "GCC": "A",
    "GCA": "A", "GCG": "A", "GAU": "D", "GAC": "D", "GAA": "E", "GAG": "E",
    "GGU": "G", "GGC": "G", "GGA": "G", "GGG": "G", "AGA": "R", "AGG": "R",
    "AGU": "S", "AGC": "S", "AAU": "N", "AAC": "N", "AAA": "K", "AAG": "K",
    "ACU": "T", "ACC": "T", "ACA": "T", "ACG": "T", "AUU": "I", "AUC": "I",
    "AUA": "I", "AUG": "M", "CGU": "R", "CGC": "R", "CGA": "R", "CGG": "R",
    "CCU": "P", "CCC": "P", "CCA": "P", "CCG": "P", "CAU": "H", "CAC": "H",
    "CAA": "Q", "CAG": "Q", "UUU": "F", "UUC": "F", "UUA": "L", "UUG": "L",
    "UCU": "S", "UCC": "S", "UCA": "S", "UCG": "S", "UAU": "Y", "UAC": "Y",
    "UAA": "STOP", "UAG": "STOP", "UGU":"C", "UGC": "C", "UGA": "STOP",
    "UGG": "W", "CUU": "L", "CUC": "L", "CUA": "L","CUG": "L"}

for codón, gen in código_genético.items():
    # Tenemos dos variables: codón que toma valor del código genético y gen que toma el valor del aminoácido correspondiente
    print(f"El aminoácido de {codón} es {gen}")











#### EJEMPLO 1: Verificación de existencia de codón de una lista de codones
# Diccionario de treplite de nucleótidos y el aminoácido que este codifica:
código_genético = {"GUU": "V", "GUC": "V", "GUA": "V", "GUG": "V", "GCU": "A", "GCC": "A", "GCA": "A", "GCG": "A",
                "GAU": "D", "GAC": "D", "GAA": "E", "GAG": "E", "GGU": "G", "GGC": "G", "GGA": "G", "GGG": "G",
                "AGA": "R", "AGG": "R", "AGU": "S", "AGC": "S", "AAU": "N", "AAC": "N", "AAA": "K", "AAG": "K",
                "ACU": "T", "ACC": "T", "ACA": "T", "ACG": "T", "AUU": "I", "AUC": "I", "AUA": "I", "AUG": "M",
                "CGU": "R", "CGC": "R", "CGA": "R", "CGG": "R", "CCU": "P", "CCC": "P", "CCA": "P", "CCG": "P",
                "CAU": "H", "CAC": "H", "CAA": "Q", "CAG": "Q", "UUU": "F", "UUC": "F", "UUA": "L", "UUG": "L",
                "UCU": "S", "UCC": "S", "UCA": "S", "UCG": "S", "UAU": "Y", "UAC": "Y", "UAA": "STOP", "UAG": "STOP",
                "UGU": "C", "UGC": "C", "UGA": "STOP", "UGG": "W", "CUU": "L", "CUC": "L", "CUA": "L", "CUG": "L"}

# Función que verifica si existe un codón definido en el diccionario y devuelve su código genético o en su defecto devuelve un valor None.
def código_gen_de_codón(codón):        # Se define la función que tiene como argumento llamado "codón"
    if codón in código_genético:       # Comprueba si el codón proporcionado está presente en el diccionario llamado código_genético
        return código_genético[codón]  # Si el codón está en el diccionario código_genético, la función devuelve el valor correspondiente a ese codón

# Ejecutar la función
print(f'El aminiácido de GCG es: {código_gen_de_codón("GCG")}')   # Se llama a la función código_gen_de_codón con el argumento "GCG"





#### EJEMPLO 2

# Función que devuelva todos los tripletes que codifican para un aminoácido dado
def encontrar_tripletes_para_aminoácido(aminoácido):   # Se define la función que tiene como argumento llamado "aminoácido)
    tripletes = []  # Creamos una lista vacía para almacenar los tripletes que codifican para el aminoácido
    for codón, aa in código_genético.items():  # Recorre cada elemento del diccionario código_genético y en cada iteración la variable codón tomará la clave (el triplete de nucleótidos) y aa tomará el valor (el aminoácido)
        if aa == aminoácido:  # Compara el valor del aminoácido (aa) con el aminoácido proporcionado como parámetro a la función (aminoácido).
            tripletes.append(codón)  # Si el aminoácido del codón coincide con el aminoácido proporcionado, agregamos el codón a la lista tripletes
    return tripletes  # Devolvemos la lista de tripletes que codifican para el aminoácido

# Ejecutar la función
print(f'Los tripletes que codifican para el aminoácido A son: {encontrar_tripletes_para_aminoácido("A")}')





#### EJEMPLO 3: Función que se encarga de encontrar una proteína a partir de RNA y un codón inicial.

# Importa el módulo 'requests', que se utiliza para realizar solicitudes HTTP en Python
import requests

# Se define una variable url que contiene la dirección URL de un archivo en formato FASTA que contiene una secuencia de ADN
url = "https://raw.githubusercontent.com/ramirezlab/CHEMO/main/1_PART_ONE/data/sec_CYP2C9.fasta"

# Se define la variable 'response' la cual va a realizar una solicitud HTTP GET a la URL definida en la línea anterior utilizando la función 'get()' del módulo requests.
response = requests.get(url)

# Se verifica si el código de estado de la respuesta HTTP es 200, lo que indica una solicitud exitosa.
if response.status_code == 200:
    sec_CYP2C9 = response.text     # Obtener el contenido del archivo desde la respuesta HTTP y se guarda en la variable sec_CYP2C9
    DNA_CYP2C9 = ''.join(sec_CYP2C9.split('\n')[1:])  # Procesar la secuencia de ADN para eliminar la primera línea (que generalmente contiene metadatos en un archivo FASTA)
    RNA_CYP2C9 = DNA_CYP2C9.replace("T", "U")         # Se convierte la secuencia de ADN a ARN, reemplazando todas las timinas (T) por uracilos (U)


#### EJEMPLO 3 CONTINUACIÓN

# Se define una función llamada rna_a_proteína que toma dos argumentos: una secuencia de ARN (rna) y un codón inicial
def rna_a_proteína(rna, codón_inicial='AUG'):
    run = True                               # Se inicializan las variables 'run' e 'i' que se usarán más adelante en el código
    i = 0
    for i in range(len(rna)):                # Se inicia un bucle 'for' para iterar sobre cada posición en la secuencia de ARN
        if rna[i:i + 3] == codón_inicial:    # Se verifica si el codón de inicio coincide con el codón inicial especificado. Si es así, se recorta la secuencia de ARN desde ese punto.
            rna = rna[i:]                    # Se recorta la secuencia de ARN desde el codón de inicio hasta el final.
            break                            # Se sale del bucle for una vez que se encuentra el codón de inicio.
        if i >= (len(rna) - 3):              # Se verifica si se llega al final de la secuencia de ARN sin encontrar el codón de inicio
            print('No se encontró el codón de inicio AUG')  # Se imprime un mensaje de error y se asigna False a la variable run si no se encuentra el codón de inicio
            rna = rna[i:i + 3]
            run = False  
            break

    # Este código solo se ejecuta si se encontró el inicio de la proteína
    if run:  # Se verifica si la variable run es True, lo que significa que se encontró el codón de inicio
        i = 0                                         # Se reinicializan las variables 'i' y 'proteína' para comenzar la traducción.
        proteína = list()
        while i <= len(rna) - 2:                      # Se itera sobre cada posición en la secuencia de ARN mientras queden al menos dos nucleótidos antes del final.
            codón = código_genético[rna[i:i + 3]]     # Se busca el codón en el diccionario 'código_genético' y se obtiene el aminoácido correspondiente
            proteína.append(codón)                    # Se agrega el aminoácido a la lista proteína
            i += 3                                    # Se avanza al siguiente codón
            if codón == 'STOP':                       # Se verifica si se encuentra el codón de parada
                print(f'>> Proteína encontrada')      # Se imprime un mensaje indicando que se encontró la proteína
                rna = rna[i:]                         # Se recorta la secuencia de ARN desde el codón de parada
                proteína = proteína[:-1]              # Se elimina el último elemento de la lista proteína (STOP).
                texto_proteína = ''.join(proteína)    # Se convierte la lista de aminoácidos en una cadena
                print(f'proteína: {texto_proteína}')  # Se imprime la secuencia de la proteína.
                break
            if i >= (len(rna) - 3):                   # Se verifica si se llega al final de la secuencia de ARN sin encontrar el codón de parada
                print('No se encontró el codón STOP') 
                rna = rna[i:i + 3]                    # Se actualiza la variable 'rna' para que contenga solo los últimos tres nucleótidos de la secuencia original desde el punto donde se detuvo la búsqueda del codón de inicio hasta tres nucleótidos después.
                break

#Invocamos la función con los argumentos necesarios
rna_a_proteína(RNA_CYP2C9, "AUG")



