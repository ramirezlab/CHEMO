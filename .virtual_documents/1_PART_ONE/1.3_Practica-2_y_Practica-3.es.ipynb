





# Diccionario de codones para la traduccion
código_genetico = {"GUU": "V", "GUC": "V", "GUA": "V", "GUG": "V", "GCU": "A", "GCC": "A", "GCA": "A", "GCG": "A",
                "GAU": "D", "GAC": "D", "GAA": "E", "GAG": "E", "GGU": "G", "GGC": "G", "GGA": "G", "GGG": "G",
                "AGA": "R", "AGG": "R", "AGU": "S", "AGC": "S", "AAU": "N", "AAC": "N", "AAA": "K", "AAG": "K",
                "ACU": "T", "ACC": "T", "ACA": "T", "ACG": "T", "AUU": "I", "AUC": "I", "AUA": "I", "AUG": "M",
                "CGU": "R", "CGC": "R", "CGA": "R", "CGG": "R", "CCU": "P", "CCC": "P", "CCA": "P", "CCG": "P",
                "CAU": "H", "CAC": "H", "CAA": "Q", "CAG": "Q", "UUU": "F", "UUC": "F", "UUA": "L", "UUG": "L",
                "UCU": "S", "UCC": "S", "UCA": "S", "UCG": "S", "UAU": "Y", "UAC": "Y", "UAA": "STOP", "UAG": "STOP",
                "UGU": "C", "UGC": "C", "UGA": "STOP", "UGG": "W", "CUU": "L", "CUC": "L", "CUA": "L", "CUG": "L"}

print(f'Los codones son: \n{list(código_genetico.keys())}')
print('-----------------')
print(f'Los aminoácidos son: \n{list(código_genetico.values())}')





import requests

url = "https://raw.githubusercontent.com/ramirezlab/CHEMO/main/1_PART_ONE/data/sec_CYP2C9.fasta"

response = requests.get(url)

if response.status_code == 200:
    sec_CYP2C9 = response.text                        
    ADN_CYP2C9 = ''.join(sec_CYP2C9.split('\n')[1:])  
    ARN_CYP2C9 = ADN_CYP2C9.replace("T", "U")         
    run = True                                        
    i = 0
    for i in range(len(ARN_CYP2C9)):       
        if ARN_CYP2C9[i:i + 3] == 'AUG':   
            ARN_CYP2C9 = ARN_CYP2C9[i:]    
            break
        if i >= (len(ARN_CYP2C9) - 3):                       
            print('No se encontró el codón de inicio AUG')  
            ARN_CYP2C9 = ARN_CYP2C9[i:i + 3]
            run = False
            break

    proteina = list()
    if run:
        i = 0
        # Inicio de la traducción
        while i <= len(ARN_CYP2C9) - 2:
            codon = código_genetico[ARN_CYP2C9[i:i + 3]]
            proteina.append(codon)
            i += 3
            if codon == 'STOP':
                print(f'>> Proteína encontrada')
                ARN_CYP2C9 = ARN_CYP2C9[i:]  # Nuevo ARN (recortado)
                proteina = proteina[:-1]
                texto_proteina = ''.join(proteina)
                print(f'Proteina: {texto_proteina}')
                break
            if i >= (len(ARN_CYP2C9) - 3):
                print('No se encontró el codón STOP')
                ARN_CYP2C9 = ARN_CYP2C9[i:i + 3]
                break

else:
    print(f"Error al acceder al archivo. Código de estado: {response.status_code}")



# la variable proteina guarda una lista con cada aminoácido
print(proteina)











#Diccionario de aminoácidos para su clasificación
propiedades= {"A": "Apolar", "V": "Apolar", "L": "Apolar", "G": "Apolar", "I": "Apolar", "F": "Apolar","W": "Apolar", "M": "Apolar", "P": "Apolar", "S": "Polar", "T": "Polar", "Y": "Polar", "N": "Polar", "Q": "Polar", "C": "Polar", "D": "Ácidos", "E": "Ácidos", "K": "Básicos", "R": "Básicos",  "H": "Básicos"}

print(f'Los aminoácidos son: \n{list(propiedades.keys())}')
print('-----------------')
print(f'Las propiedades son: \n{set(propiedades.values())}')
# se utiliza un conjunto a partir de la lista para que las propiedades no se repitan





def total_elements(lista_proteina):
    # Se importa el módulo a utilizar
    from collections import Counter
    # Se crea una lista vacia donde se va a guardar la propiedad de cada aminoácido
    list_propiedades_proteina = list()
    contador = list()

    # Se va a iterar por cada aminoácido de la proteína
    for element in lista_proteina:

        # Se busca la propiedad del aminoácido y se guarda en la lista (.append())
        list_propiedades_proteina.append(propiedades[element])
        # Se llama al método Counter para organizar los datos
        contador = Counter(list_propiedades_proteina)
    print(f'Resumen de propiedades de la proteína:')
    print(f'Total elementos: {len(lista_proteina)}')
    print(f'Frecuenca de las propiedades: {dict(contador)}')
    print(f'Propiedad más común: {contador.most_common(1)[0]}')

    return None



# Proteína encontrada en la actividad 2
print(proteina)
print('-----------')
total_elements(proteina)












