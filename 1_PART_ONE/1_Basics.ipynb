{
 "cells": [
  {
   "cell_type": "markdown",
   "metadata": {
    "pycharm": {
     "name": "#%% md\n"
    }
   },
   "source": [
    "# Introducción al lenguaje de programación Python\n",
    "El curso “Data Science for drug discovery” es una plataforma de aprendizaje autónomo dirigido a estudiantes e investigadores interesados en el desarrollo de herramientas biocomputaciones, desde Python, siendo este, el lenguaje de programación más empleado. Con el avance en las ciencias ómicas y las nuevas tecnologías se ha visto necesario adquirir habilidades informáticas aplicadas en las ciencias y el manejo de bases de datos biológicas.\n",
    "\n",
    "Bienvenido a la introducción del curso “Data Science for drug discovery”, en la primera parte encontrara los fundamentos para comprender el lenguaje de programación de Python, está enfocado en la manipulación, extracción y análisis de datos provenientes de bases de datos biológicos (ómicos), partiendo desde lo conceptos básicos de programación y sus aplicaciones, con ejemplos basados en manipulación de secuencias de DNA.\n",
    "## Contenidos\n",
    "En este primer Jupyter notebook de *Python_basic* aprenderá:\n",
    "1. Introducción a Python.\n",
    "2. Variables.\n",
    "3. Tipos de datos\n",
    "4. Tipos de arreglos\n",
    "5. Cargar archivos\n",
    "6. Manipulación de strings\n",
    "7. Estructuras de control de flujo\n",
    "8. Funciones"
   ]
  },
  {
   "cell_type": "markdown",
   "metadata": {
    "pycharm": {
     "name": "#%% md\n"
    }
   },
   "source": [
    "# Resultados del aprendizaje\n",
    "Se espera que al finalizar este curso el estudiante pueda:\n",
    "1.\tEntender los conceptos básicos del lenguaje de programación de Python\n",
    "2.\tComprender los formatos de variables:\n",
    "    -\tQué son\n",
    "    -\tLas asignaciones\n",
    "    -\tLas operaciones básicas.\n",
    "3.\tComprender los usos y los tipos de datos:\n",
    "    -\tNuméricos\n",
    "    -\tBooleano\n",
    "    -\tTexto\n",
    "    -\tArreglos\n",
    "4.\tIdentificar los tipos de arreglos y su uso:\n",
    "    -\tListas\n",
    "    -\tTuplas\n",
    "    -\tConjuntos\n",
    "    -\tDiccionarios\n",
    "5.\tCargar y modificar archivos en diferentes formatos y tamaños, visualizarlos, analizarlos, leerlos y escribir sobre ellos.\n",
    "6.\tManejar las estructuras de control de flujo básicas:\n",
    "    -\tCondicionales\n",
    "    -\tIteraciones.\n",
    "7.\tComprender las herramientas de Python que se pueden emplear en la biología."
   ]
  },
  {
   "cell_type": "markdown",
   "metadata": {
    "pycharm": {
     "name": "#%% md\n"
    }
   },
   "source": []
  },
  {
   "cell_type": "markdown",
   "metadata": {
    "pycharm": {
     "name": "#%% md\n"
    }
   },
   "source": [
    "# Teoría: conceptos básicos"
   ]
  },
  {
   "cell_type": "markdown",
   "metadata": {},
   "source": [
    "## Variables\n",
    "\n",
    "Una variable es una referencia a un valor en la memoria del computador, en donde se pueden almacenar diferentes **tipos de datos**. Por lo general se asignan valores a nombres de variables, un ejemplo de esto es: `texto = \"hola mundo\"`, `texto` es el nombre de la variable y hace referencia a `hola mundo` el cual seria el valor de la variable, y en el ejemplo anterior se utilizo el operador `=`, luego la operación que se realizó fue de asignación. A esto se le conoce como una expresión de asignación.\n",
    "\n",
    "Por lo general es el programador del software quien le asigna un nombre de variable que sea fácil de recordar y utilizar en el programa. Es importante saber que el nombre de las variables no puede comenzar por un número y distinguen entre mayusculas y minúsculas, además no se puede incluir espacios.\n",
    "\n",
    "La siguiente tabla muestra algunos de los datos que se pueden trabajar en Python:\n",
    "\n",
    "### Tipos de datos nativos de Python\n",
    "\n",
    "| Nombre en Inglés          | Nombre del tipo  | Categoria  | Descripción                                   | Ejemplo                                   |\n",
    "| :-------------------- | :--------- | :------------- | :-------------------------------------------- |:------------------------------------------|\n",
    "| integer               | `int`      | Númerico  | Enteros positivos/negativos               |                                           |\n",
    "| floating point number | `float`    | Númerico   | Números reales en forma décimal                  |                                           |\n",
    "| boolean               | `bool`     | Lógico | Verdadero ó Falso                                 |                                           |\n",
    "| string                | `str`      | Cadena  | Texto                                          |                                           |\n",
    "| list                  | `list`     | Secuencia  | Una colección de objetos ordenada y mutable   |                                           |\n",
    "| tuple                 | `tuple`    | Secuencia  | Una colección de objetos ordenada y inmutable |                                           |\n",
    "| dictionary            | `dict`     | Mapa   | Mapa de pares de objetos                    |                                           |\n",
    "| none                  | `NoneType` | Nulo    | Representa ningun valor                           | `None`                                    |"
   ]
  },
  {
   "cell_type": "markdown",
   "metadata": {
    "pycharm": {
     "name": "#%% md\n"
    }
   },
   "source": [
    "## Tipos de datos"
   ]
  },
  {
   "cell_type": "markdown",
   "metadata": {},
   "source": [
    "### Datos tipo: numéricos\n",
    "\n",
    "Hay tres tipos de datos numéricos, aquí trabajaremos generalmente con dos de ellos: `enteros` y `punto flotante` (`float`). La función `type()` nos ayuda a determinar el tipo de un objeto en Python\n",
    "\n",
    "* **Enteros (int)**: son números enteros positivos o negativos\n",
    "* **Punto flotante (float)**: son números reales en su forma decimal\n",
    "si un número entero se define con punto decimal, por ejemplo: 1.0, este será alamacenado tipo flotante"
   ]
  },
  {
   "cell_type": "code",
   "execution_count": 124,
   "metadata": {
    "pycharm": {
     "name": "#%%\n"
    }
   },
   "outputs": [
    {
     "name": "stdout",
     "output_type": "stream",
     "text": [
      "El tipo de la variable entero_1 es: <class 'int'>\n",
      "El tipo de la variable flotante_1 es: <class 'float'>\n",
      "El tipo de la variable flotante_2 es: <class 'float'>\n"
     ]
    }
   ],
   "source": [
    "#[caramirez] mejorar ejemplo\n",
    "# Ejemplo Entero\n",
    "entero_1 = 1236\n",
    "flotante_1 = 123.215\n",
    "flotante_2 = 1236.0\n",
    "\n",
    "print(\"El tipo de la variable entero_1 es: \" + str(type(entero_1)))\n",
    "print(\"El tipo de la variable flotante_1 es: \" +  str(type(flotante_1)))\n",
    "print(\"El tipo de la variable flotante_2 es: \" + str(type(flotante_2)))"
   ]
  },
  {
   "cell_type": "markdown",
   "metadata": {
    "pycharm": {
     "name": "#%% md\n"
    }
   },
   "source": [
    "#### Operaciones aritmeticas\n",
    "| Símbolo |   Descripción   |\n",
    "|:-------:|:---------------:|\n",
    "|   `+`   |     adición     |\n",
    "|   `-`   |  substracción   |\n",
    "|   `*`   | multiplicación  |\n",
    "|   `/`   |    división     |\n",
    "|  `**`   |    potencia     |\n",
    "|  `//`   | división entera |\n",
    "|   `%`   |     módulo      |\n",
    "\n",
    "*Observación*: En adelante trabajaremos con los `f-strings` que permiten hacer líneas cortas de texto con variables integradas. Más información en: [f-strings](https://platzi.com/blog/f-strings-en-python/?utm_source=google&utm_medium=cpc&utm_campaign=12915366154&utm_adgroup=&utm_content=&gclid=Cj0KCQjw3IqSBhCoARIsAMBkTb2p5ZOBtPtlGG2B7P0qrtnp8Wwvbgd2OY_F3_P-6OOU1YE_QHHCMaYaAnTaEALw_wcB&gclsrc=aw.ds), [f-strings](https://peps.python.org/pep-0498/)\n"
   ]
  },
  {
   "cell_type": "code",
   "execution_count": 112,
   "metadata": {
    "pycharm": {
     "name": "#%%\n"
    }
   },
   "outputs": [
    {
     "name": "stdout",
     "output_type": "stream",
     "text": [
      "La suma de dos números enteros es un entero, por ejemplo: 15\n",
      "La suma de dos números de tipo flotantes da como resultado un número flotante, por ejemplo: 15.0\n",
      "La suma un entero y un flotante es un flotante, por ejemplo: 15.0\n"
     ]
    }
   ],
   "source": [
    "# Ejemplo operaciones con números enteros\n",
    "x = 10\n",
    "y = 5\n",
    "\n",
    "print(f'La suma de dos números enteros es un entero, por ejemplo: {x + y}')\n",
    "\n",
    "# Ejemplo operaciones con números reales en su forma décimal\n",
    "x = 10.0\n",
    "y = 5.0\n",
    "\n",
    "print(f'La suma de dos números de tipo flotantes da como resultado un número flotante, por ejemplo: {x + y}')\n",
    "\n",
    "# Ejemplo operaciones con números reales y enteros\n",
    "x = 10\n",
    "y = 5.0\n",
    "\n",
    "# Notesé como el interprete de Python le da relevanciá a los tipos float sobre los tipos int.\n",
    "print(f'La suma un entero y un flotante es un flotante, por ejemplo: {x + y}')\n"
   ]
  },
  {
   "cell_type": "markdown",
   "metadata": {},
   "source": [
    "En los cuadernos `Jupyther` (versión interactiva de Python), la última línea de la celda será mostrada automáticamente. Esto quiere decir que no siempre será necesario utilizar la función `print()`"
   ]
  },
  {
   "cell_type": "code",
   "execution_count": 114,
   "metadata": {
    "pycharm": {
     "name": "#%%\n"
    }
   },
   "outputs": [
    {
     "data": {
      "text/plain": [
       "15.0"
      ]
     },
     "execution_count": 114,
     "metadata": {},
     "output_type": "execute_result"
    }
   ],
   "source": [
    "#Ejemplo\n",
    "x = 10.\n",
    "y = 5\n",
    "\n",
    "x + y"
   ]
  },
  {
   "cell_type": "markdown",
   "metadata": {},
   "source": [
    "### Datos tipo: Booleano (bool)\n",
    "El tipo de dato (`bool`) tiene únicamente dos valores, verdadero: `True` o falso: `False`"
   ]
  },
  {
   "cell_type": "markdown",
   "metadata": {},
   "source": [
    "### Datos tipo: texto (String)\n",
    "Los strings ó cadenas de texto, se denotan como <code>str</code> y son una secuencia de símbolos que pueden incluir letras mayúsculas y minúsculas, números, signos de puntuación y espacios.\n",
    "\n",
    "Existen tres formas de representar este tipo de datos, cualquiera de ellas es valida y no afecta el código:\n",
    "* **Entre comillas sencillas:** 'Donepezil'\n",
    "* **Entre comillas dobles:** \"Donepezil\"\n",
    "* **Entre tres comillas sencillas o tres comillas cobles:** '''Donepezil''' o \"\"\"Donepezil\"\"\" *(Sé usa principalmente para definir cadenas de textos en múltiples lineas)*"
   ]
  },
  {
   "cell_type": "code",
   "execution_count": 12,
   "metadata": {
    "pycharm": {
     "name": "#%%\n"
    }
   },
   "outputs": [
    {
     "name": "stdout",
     "output_type": "stream",
     "text": [
      "texto= Hola mundo\n"
     ]
    }
   ],
   "source": [
    "# Ejemplo\n",
    "texto = 'Hola mundo'\n",
    "print(f'texto= {texto}')"
   ]
  },
  {
   "cell_type": "markdown",
   "metadata": {
    "pycharm": {
     "name": "#%% md\n"
    }
   },
   "source": [
    "#### Métodos de String\n",
    "Hay varios operadores en el lenguaje de Python que permite manipulas los datos de los String mediante operaciones en las que se devuelven los valores sin cambiar la cadena. \n",
    "\n",
    "Entre las que se encuentran:\n",
    "* <code>.replace()</code>: sustituye en el string un valor especifico por otro.\n",
    "* <code>.split()</code>: divide el string en subcadenas según el parámetro establecido\n",
    "* <code>.find()</code>:  Busca en el string un valor específico y evidencia la posición en la que se encuentra"
   ]
  },
  {
   "cell_type": "code",
   "execution_count": 37,
   "metadata": {
    "pycharm": {
     "name": "#%%\n"
    }
   },
   "outputs": [
    {
     "name": "stdout",
     "output_type": "stream",
     "text": [
      "Texto(Comillas Dobles)= Hola mundo, comillas doble\n",
      "Texto(Comillas Sencillas)= Hola Mundo, comillas sencillas\n",
      "Texto(Triple Comilla Doble)= Hola mundo, triple comilla doble\n",
      "Texto(Triple Comilla Sencillas)= Hola mundo, triple comilla sencilla\n",
      "Texto multiline= Este texto es multilinea\n",
      "por que posee diferentes lines\n",
      "para ello se imprime\n",
      "\n",
      "Extarer la palabra para del texto: para\n",
      "Extarer la palabra para del texto: para \n",
      "Será que ara esta en texto? True\n",
      "Reemplazar Hola por Hi: Texto para manipular\n",
      "Retornar una lista a partir de la cadena de texto: ['Texto', 'para', 'manipular']\n",
      "Encontrar la palabra la en texto: 17\n"
     ]
    }
   ],
   "source": [
    "# Ejemplo de definiciones de variables tipo string, con comillas, sencillas, dobles y triples.\n",
    "texto = \"Hola mundo, comillas doble\"\n",
    "print(f'Texto(Comillas Dobles)= {texto}')\n",
    "\n",
    "texto = 'Hola Mundo, comillas sencillas'\n",
    "print(f'Texto(Comillas Sencillas)= {texto}')\n",
    "\n",
    "texto = \"\"\"Hola mundo, triple comilla doble\"\"\"\n",
    "print(f'Texto(Triple Comilla Doble)= {texto}')\n",
    "\n",
    "texto = '''Hola mundo, triple comilla sencilla'''\n",
    "print(f'Texto(Triple Comilla Sencillas)= {texto}')\n",
    "\n",
    "# En caso de incluir carácteres especiales como ', Python arrojaria un error, estos se pueden escapar con el carácter especial \\\n",
    "texto = 'Error de string \\' por la comilla'\n",
    "\n",
    "# En caso de ser necesario los strings se pueden definir en multiples lines como el siguiente\n",
    "texto_multilinea = \"\"\"Este texto es multilinea\n",
    "por que posee diferentes lines\n",
    "para ello se imprime\n",
    "\"\"\"\n",
    "print(f'Texto multiline= {texto_multilinea}')\n",
    "\n",
    "#Existen diferentes formas de manipular un string, una de ellas es por indexación\n",
    "texto = \"Texto para manipular\"\n",
    "print(f'Extarer la palabra para del texto: {texto[6:10]}') #Del principio al final\n",
    "print(f'Extarer la palabra para del texto: {texto[-14:-9]}') #Del final al principio\n",
    "\n",
    "#Tambien se puede revisar si una cadena de carácteres esta presente en un string\n",
    "print(f'Será que ara esta en texto? {\"ara\" in texto}')\n",
    "\n",
    "# Los string poseen diferentes métodos para su manipulación como lo son replace, split, find entre otros.\n",
    "print(f'Reemplazar Hola por Hi: {texto.replace(\"Hola\", \"Hi\")}')\n",
    "print(f'Retornar una lista a partir de la cadena de texto: {texto.split(\" \")}')\n",
    "print(f'Encontrar la palabra la en texto: {texto.find(\"la\")}')\n"
   ]
  },
  {
   "cell_type": "markdown",
   "metadata": {
    "pycharm": {
     "name": "#%% md\n"
    }
   },
   "source": [
    "### Datos tipo: Arreglos\n",
    "Las listas, tuplas, diccionarios y conjuntos se emplean para almacenar varios elementos en una misma variable. Dichos tipos de datos tienen las siguientes propiedades: \n",
    "\n",
    "* **Listas (List):** los elemetos tienen orden modificable, se pueden hacer modificaciones y pueden haber duplicados, además están indexados\n",
    "* **Tuplas (Tuple):** los elementos tienen un orden y no se pueden cambiar, agregar o eliminar una vez creada la tupla, además pueden hacer duplicados\n",
    "* **Conjuntos (Set):** los elementos no tienen un orden, no se pueden cambiar, agregar o eliminar una vez creado el conjunto, además no están indexadas ni pueden haber duplicados\n",
    "* **Diccionarios (Dict):** se emplean para almacenar valores de datos en pares clave:valor, los elementos tienen un orden no modificable, se pueden hacer modificaciones y no se permiten duplicados"
   ]
  },
  {
   "cell_type": "markdown",
   "metadata": {
    "pycharm": {
     "name": "#%% md\n"
    }
   },
   "source": []
  },
  {
   "cell_type": "markdown",
   "metadata": {
    "pycharm": {
     "name": "#%% md\n"
    }
   },
   "source": [
    "#### Listas\n",
    "Las listas se emplean para almacenar varios elementos en una sola variable. Los elementos o datos que se almacenan pueden ser de cualquier tipo. A continuación se encuentran als características de este tipo de datos:\n",
    "* Los elementos de las listas **están ordenados**, es decir, tienen un orden definido que no cambiará pues al agregar nuevos elementos a la lista se colocaran al final de la misma.\n",
    "* Los elementos de las listas **son modificables**, es decir, que se pueden cambiar, agregar y eliminar elementos después de que se haya creado la lista.\n",
    "* Las listas **permiten duplicados**, es decir, que pueden haber elementos con el mismo valor."
   ]
  },
  {
   "cell_type": "code",
   "execution_count": 110,
   "metadata": {
    "pycharm": {
     "name": "#%%\n"
    }
   },
   "outputs": [
    {
     "name": "stdout",
     "output_type": "stream",
     "text": [
      "La lista de enteros del 1-10 es: [0, 1, 2, 3, 4, 5, 6, 7, 8, 9, 10]\n",
      "La lista de strings es: ['1', '2', '3', '4', '5', '6', '7', '8', '9', '10']\n",
      "La lista de strings y enteros es: [1, '2', 3, '4', 5, '6', 7, 8, '9', 10]\n",
      "La lista desde otras variables y listas es: [1, 2, 3, 4, '5']\n",
      "¿En que posición se encuentra el \"5\"? 4\n",
      "En la posición 1 de la lista esta el elemento: 2\n",
      "Dame el ultimo elemento de la lista 5\n",
      "La lista ahora con 6 en ella: [1, 2, 3, 4, '6']\n",
      "La lista ahora sin el 2 en ella: [1, 3, 4, '6']\n",
      "La lista en orden contrario: ['6', 4, 3, 1]\n",
      "El tamaño de la lista es: 4\n",
      "Los dos primeros elementos de la lista son: ['6', 4]\n",
      "Los dos primeros elementos de la lista son: [3, 1]\n",
      "\"6\" esta en la lista: True\n",
      "range(6): range(0, 6), el segundo elemento es: 1\n"
     ]
    }
   ],
   "source": [
    "#Sea num una lista ordenada de elementos del 1-10\n",
    "num = [0, 1, 2, 3, 4, 5, 6, 7, 8, 9, 10]\n",
    "print(f'La lista de enteros del 1-10 es: {num}')\n",
    "\n",
    "#Sea num una lista ordenada de elementos del 1-10 del tipo string\n",
    "num = [\"1\", \"2\", \"3\", \"4\", \"5\", \"6\", \"7\", \"8\", \"9\", \"10\"]\n",
    "print(f'La lista de strings es: {num}')\n",
    "\n",
    "#La lista puede contener multiples tipos\n",
    "num = [1, \"2\", 3, \"4\", 5, \"6\", 7, 8, \"9\", 10]\n",
    "print(f'La lista de strings y enteros es: {num}')\n",
    "\n",
    "\n",
    "#las listas se pueden crear a partir de otras listas y otras variables\n",
    "x = 1\n",
    "y = \"5\"\n",
    "num = [x, 2, 3, 4, y]\n",
    "print(f'La lista desde otras variables y listas es: {num}')\n",
    "\n",
    "\n",
    "#Es posible averiguar la posición de un elemento, incluso el valor en un lugar de la lista\n",
    "print(f'¿En que posición se encuentra el \"5\"? {num.index(\"5\")}')\n",
    "\n",
    "#Utilizando la misma técnica para manipular algunos strings\n",
    "print(f'En la posición 1 de la lista esta el elemento: {num[1]}') \n",
    "\n",
    "#Las listas poseen algunos métodos para su manipulación\n",
    "print(f'Dame el ultimo elemento de la lista {num.pop()}')\n",
    "\n",
    "\n",
    "#Agregar un elemento a la lista\n",
    "num.append(\"6\")\n",
    "print(f'La lista ahora con 6 en ella: {num}')\n",
    "\n",
    "#Eliminar un elemento conocido de la lista, ejemplo el 2\n",
    "num.remove(2)\n",
    "print(f'La lista ahora sin el 2 en ella: {num}')\n",
    "\n",
    "#Se puede cambiar el ordén de la lista\n",
    "num.reverse()\n",
    "print(f'La lista en orden contrario: {num}')\n",
    "\n",
    "#La cantidad de elementos en la lista es:\n",
    "print(f'El tamaño de la lista es: {len(num)}')\n",
    "\n",
    "#A las listas se les puede manipular usando las técnicas de indexación:\n",
    "print(f'Los dos primeros elementos de la lista son: {num[0:2]}')\n",
    "\n",
    "#Crear una lista a partir del final:\n",
    "print(f'Los dos primeros elementos de la lista son: {num[-2:]}')\n",
    "\n",
    "#Se puede saber si un elemento esta en la lista:\n",
    "print(f'\"6\" esta en la lista: {\"6\" in num}')\n",
    "\n",
    "#Python tiene métodos para crear listas, como el método range(x)\n",
    "num = range(6)\n",
    "print(f'range(6): {num}, el segundo elemento es: {num[1]}')"
   ]
  },
  {
   "cell_type": "markdown",
   "metadata": {
    "pycharm": {
     "name": "#%% md\n"
    }
   },
   "source": [
    "En el anterior ejemplo se ve la forma en la que esta escrita una lista:\n",
    "* Se encuentra delimitada por corchetes cuadrados `[ ]`\n",
    "* Cada elemento está separado por comas `,`\n",
    "\n",
    "Como los elementos de la listas están ordenados se puede saber el índice de un elemento con la función <code>index()</code> la cual devuelve el índice del elemento en la primera aparición que encuentra a partir del índice 0 independientemente de cuántas veces este el elemento dentro de la lista."
   ]
  },
  {
   "cell_type": "markdown",
   "metadata": {
    "pycharm": {
     "name": "#%% md\n"
    }
   },
   "source": [
    "#### Tuplas\n",
    "Las tuplas se emplean para almacenar varios elementos en una sola variable. Los elementos o datos que se almacenan pueden ser de cualquier tipo. A continuación se encuentran als características de este tipo de datos:\n",
    "* Los elementos de las tuplas **están ordenados**, es decir, tienen un orden definido que no cambiará pues al agregar nuevos elementos a la lista se colocaran al final de la misma.\n",
    "* Los elementos de las tuplas **son inmutables**, es decir, que no se pueden cambiar, agregar y eliminar elementos después de que se haya creado la tupla.\n",
    "* Las tuplas **permiten duplicados**, es decir, que pueden haber elementos con el mismo valor."
   ]
  },
  {
   "cell_type": "code",
   "execution_count": 81,
   "metadata": {
    "pycharm": {
     "name": "#%%\n"
    }
   },
   "outputs": [
    {
     "name": "stdout",
     "output_type": "stream",
     "text": [
      "La tupla de elementos del 1-10: (1, 2, 3, 4, 5, 6, 7, 8, 9, 10)\n",
      "Dame una nueva tupla con los 3 ultimos elementos: (8, 9, 10)\n",
      "El elemento 1 se encuentra en la posición 0 de la tupla\n",
      "El elemento en la posición 1 de la tupla es: 2\n"
     ]
    }
   ],
   "source": [
    "# Sea num una tupla ordenada de elementos del 1-10\n",
    "num = (1, 2, 3, 4, 5, 6, 7, 8, 9, 10)\n",
    "print(f'La tupla de elementos del 1-10: {num}')\n",
    "\n",
    "# La tupla es inmutabler, no se pueden asignar nuevos valores a sus elementos\n",
    "# num[3] = 12\n",
    "\n",
    "# Se puede hacer una copia de la tupla por medio de la indexación ejemplo:\n",
    "print(f'Dame una nueva tupla con los 3 ultimos elementos: {num[-3:]}')\n",
    "\n",
    "\n",
    "# A los elementos de la tupla se pueden acceder de la misma forma que una lista\n",
    "print(f'El elemento 1 se encuentra en la posición {num.index(1)} de la tupla')\n",
    "print(f'El elemento en la posición 1 de la tupla es: {num[1]}')"
   ]
  },
  {
   "cell_type": "markdown",
   "metadata": {
    "pycharm": {
     "name": "#%% md\n"
    }
   },
   "source": [
    "#### Conjuntos\n",
    "Los conjuntos se emplean para almacenar varios elementos en una sola variable. Los elementos o datos que se almacenan pueden ser de cualquier tipo. A continuación se encuentran als características de este tipo de datos:\n",
    "* Los elementos de los conjuntos **no están ordenados**, es decir, no tienen un orden definido ya que los elementos pueden aparecer en un orden diferente cada vez que los usa y no se puede hacer referencia a ellos por índice o clave.\n",
    "* Los elementos de los conjuntos **son inmutables**, es decir, que no se pueden cambiar elementos después de que se haya creado el conjunto.\n",
    "* Los conjuntos **no permiten duplicados**, es decir, no pueden haber elementos con el mismo valor."
   ]
  },
  {
   "cell_type": "code",
   "execution_count": 70,
   "metadata": {
    "pycharm": {
     "name": "#%%\n"
    }
   },
   "outputs": [
    {
     "name": "stdout",
     "output_type": "stream",
     "text": [
      "El set solo puede tener elementos únicos: {0, 1, 2, 3, 4, 5, 6, 7, 8, 9, 10}\n",
      "La union de dos sets= {0, 1, 2, 3, 4, 5, 6, 7, 8, 9, 10, 11, 12, 13, 14, 15}\n"
     ]
    }
   ],
   "source": [
    "# Sea num un Set ordenado de elementos del 1-10\n",
    "num = {0, 1, 2, 3, 3, 4, 4, 5, 6, 6, 7, 7, 8, 9, 10}\n",
    "print(f'El set solo puede tener elementos únicos: {num}')\n",
    "\n",
    "# Se pueden unir dos Sets\n",
    "plus = {11, 12, 13, 14, 15}\n",
    "print(f'La union de dos sets= {num | plus}')"
   ]
  },
  {
   "cell_type": "markdown",
   "metadata": {},
   "source": [
    "# Práctica: Expresion del material genetico (parte 1)\n",
    "\n",
    "## Conceptos a trabajar\n",
    "\n",
    "Los ácidos nucleicos es la unidad básica que componen el material genético, está presente en las células procariotas, eucariotas y virus, se compone de pentosas, un grupo fosfato y las bases nitrogenadas, divididas en dos grupos: las purinas que son adenina (A) y guanina (G), y las primidinas que son citosina (C), la timina (T) y el uracilo (U). La unión de los ácidos nucleicos forma las macromoléculas esenciales para vida:\n",
    "\n",
    "![estructura](img/img_1.png)\n",
    "*Figura 1*. Estructura del DNA y RNA evidenciando sus características y los ácidos nucleicos que la componen. Tomado de:\n",
    "[Khan Academy](https://www.khanacademy.org/science/high-school-biology/hs-molecular-genetics/hs-rna-and-protein-synthesis/a/hs-rna-and-protein-synthesis-review).\n",
    "\n",
    "\n",
    "**DNA (ácido desoxirribonucleico)**: es una macromolécula encargada de almacenar y expresar la información genética esencial para las funciones de cualquier organismo, tiene una organización ordenada de cuatro bases nitrogenadas A, G, T y C, las cuales, forman una cadena de doble hélice antiparalela y complementaria, donde la A siempre se une a T, y G a C, si se modificara alguna base o su orden cambiaria la información, lo cual puede desencadenar mutaciones.\n",
    "\n",
    "**RNA (ácido ribonucleico)**: Es la macromolecular resultante de la transcripción del DNA, donde la T pasa a ser una U, es decir, es la copia determinada por la secuencia de una de las hebras de DNA.\n",
    "\n",
    "Una de las funciones de la doble cadena de DNA es la expresión del material genético, es el proceso encargado de la síntesis de las proteínas que necesita la célula (fig. 2). Consta de dos fases principales, **transcripción** y **traducción** donde una secuencia de DNA codifica para una proteína en particular implicada en diferentes procesos como metabólicos o de identidad celular.\n",
    "\n",
    "![Dogma central](./img/img_2.jpg)\n",
    "\n",
    "*Figura 2. Dogma central de la biología molecular, donde se evidencia la expresión del material genético, la transcripción de DNA a RNAm, traducción a aminoácidos y a la formación de la proteína. Tomado de:\n",
    "[Dogma](https://www.brainvta.tech/plus/list.php?tid=110).*\n",
    "\n",
    "La **transcripción** es el primer paso para la generación de proteínas, en la que a partir de una cadena de DNA, denominada como DNA molde, se sintetiza una de RNA por medio de la enzima RNA polimerasa, donde se establece una copia casi idéntica de la secuencia de DNA, con la variación de sustituir en toda la secuencia la T por el U, sin embargo, al igual que la T, el U se empareja con la A (fig. 3). En las células eucariotas, este primer transcrito, sufre un segundo proceso llamado “splicing” en el cual se eliminan fracciones específicas de la secuencia que no codifican para proteínas y se denomina RNAm, después de esta modificación, la RNAm es transportado para que se realice el segundo paso de la expresión génica.\n",
    "![Dogma central](./img/img_3.png)\n",
    "\n",
    "*Figura 3. Sintesis de RNAm, evidenciando la transcripción de DNA a RNA con la construcción de la cadena de RNAm a partir de la cadena molde de DNA, en ausencia de las enzimas implicadas. Figura modificada de: [Molecular biology of the gene, (2008), 13, 429-464]( https://books.google.com.co/books?id=7tadzgEACAAJ&dq=Molecular+biology+of+the+gene&hl=es-419&sa=X&redir_esc=y)*"
   ]
  },
  {
   "cell_type": "markdown",
   "metadata": {
    "pycharm": {
     "name": "#%% md\n"
    }
   },
   "source": [
    "### Planteamiento del problema\n",
    "Supongamos que queremos obtener información básica de la enzima del citocromo P450, la cual codifica una proteína involucrada en el metabolismo de fármacos y la síntesis lípidos como de colesterol y esteroides. Para analizar la secuencia podemos emplear herramientas biocomputaciones.\n",
    "\n",
    "Primero, debemos descargar el documento con el que se va a trabajar:\n",
    "Podemos hacer una búsqueda del gen en la base de datos de Genbank [caramirezs: link], buscamos la secuencia de DNA del citocromo P450, específicamente la subfamilia C9 de homo sapiens, ID: [LR898357.1](https://www.ncbi.nlm.nih.gov/nuccore/LR898357.1?report=fasta&to=1149).\n",
    "\n",
    "Para descargar la secuencia, se selecciona el apartado **\"Fasta\"**, luego, en la sección **\"Send to\"** y luego **\"Complete Record\"**, se elige el archivo **(File)** y el formato para obtener la secuencia **(Fasta)**, posteriormente, se da clic en **\"Create File\"** y se descargar el documento. Para reconocer el archivo cambia el nombre del documento, en este caso \"sec_CYP2C9.fasta\". [caramirezs: este archivo lo puede encontrar en la carpeta data]\n",
    "A continuación, se carga el archivo para poder realizar el proceso de transcripción, para esto, se emplea el comando `with`, donde, la variable `GEN` está guardando un objeto (en este caso, un archivo). A estos objetos se les pueden llamar diferentes maneras. La línea `sec_CYP2C9 = (GEN.read())` guarda en la variable `sec_CYP2C9` un string con el contenido de la variable GEN."
   ]
  },
  {
   "cell_type": "code",
   "execution_count": 1,
   "metadata": {
    "pycharm": {
     "name": "#%%\n"
    }
   },
   "outputs": [
    {
     "name": "stdout",
     "output_type": "stream",
     "text": [
      "<_io.TextIOWrapper name='data/dna_CYP2C9.fasta' mode='r' encoding='cp1252'>\n"
     ]
    }
   ],
   "source": [
    "#Secuencia de nucleótidos del gen CYP2C9\n",
    "with open(\"data/dna_CYP2C9.fasta\", \"r\") as GEN:\n",
    "    sec_CYP2C9 = GEN.read()\n",
    "print(GEN)"
   ]
  },
  {
   "cell_type": "code",
   "execution_count": 2,
   "metadata": {
    "pycharm": {
     "name": "#%%\n"
    }
   },
   "outputs": [
    {
     "data": {
      "text/plain": [
       "'El archivo descargado del GenBank del gen citocromo P450 es >LR898357.1 Homo sapiens CYP2C9 gene for CYP2C9\\nATGGATTCTCTTGTGGTCCTTGTGCTCTGTCTCTCATGTTTGCTTCTCCTTTCACTCTGGAGACAGAGCT\\nCTGGGAGAGGAAAACTCCCTCCTGGCCCCACTCCTCTCCCAGTGATTGGAAATATCCTACAGATAGGTAT\\nTAAGGACATCAGCAAATCCTTAACCAATCTCTCAAAGGTCTATGGCCCTGTGTTCACTCTGTATTTTGGC\\nCTGAAACCCATAGTGGTGCTGCATGGATATGAAGCAGTGAAGGAAGCCCTGATTGATCTTGGAGAGGAGT\\nTTTCTGGAAGAGGCATTTTCCCACTGGCTGAAAGAGCTAACAGAGGATTTGGAATTGTTTTCAGCAATGG\\nAAAGAAATGGAAGGAGATCCGGCGTTTCTCCCTCATGACGCTGCGGAATTTTGGGATGGGGAAGAGGAGC\\nATTGAGGACCGTGTTCAAGAGGAAGCCCGCTGCCTTGTGGAGGAGTTGAGAAAAACCAAGGCCTCACCCT\\nGTGATCCCACTTTCATCCTGGGCTGTGCTCCCTGCAATGTGATCTGCTCCATTATTTTCCATAAACGTTT\\nTGATTATAAAGATCAGCAATTTCTTAACTTAATGGAAAAGTTGAATGAAAACATCAAGATTTTGAGCAGC\\nCCCTGGGTCCAGATCTGCAATAATTTTTCTCCTATCATTGATTACTTCCCGGGAACTCACAACAAATTAC\\nTTAAAAACGTTGCTTTTATGAAAAGTTATATTTTGGAAAAAGTAAAAGAACACCAAGAATCAATGGACAT\\nGAACAACCCTCAGGACTTTATTGATTGCTTCCTGATGAAAATGGAGAAGGAAAAGCACAACCAACCATCT\\nGAATTTACTATTGAAAGCTTGGAAAACACTGCAGTTGACTTGTTTGGAGCTGGGACAGAGACGACAAGCA\\nCAACCCTGAGATATGCTCTCCTTCTCCTGCTGAAGCACCCAGAGGTCACAGCTAAAGTCCAGGAAGAGAT\\nTGAACGTGTGATTGGCAGAAACCGGAGCCCCTGCATGCAAGACAGGAGCCACATGCCCTACACAGATGCT\\nGTGGTGCACGAGGTCCAGAGATACATTGACCTTCTCCCCACCAGCCTGCCCCATGCAGTGACCTGTGACA\\nTTAAATTCAGAAACTATCTCATTCCCAAG\\n\\n'"
      ]
     },
     "execution_count": 2,
     "metadata": {},
     "output_type": "execute_result"
    }
   ],
   "source": [
    "\"El archivo descargado del GenBank del gen citocromo P450 es \" + sec_CYP2C9"
   ]
  },
  {
   "cell_type": "markdown",
   "metadata": {
    "pycharm": {
     "name": "#%% md\n"
    }
   },
   "source": [
    "## Manipulación de strings\n",
    "Al descargar una secuencia desde Genbak en formato fasta, la primer línea contiene las referencias de la secuencia, para eliminarla se hace el siguiente procedimineto:\n",
    " - Emplear el móetodo `.split()` que separa la cadena en una lista de elementos. A nosotros nos sirve separarla en los saltos de línea, que se representan con **'\\n'**.\n",
    " - Luego se debe eliminar el primer elemto (índice cero).\n",
    " - Finalmente volver a unir toda la cadena en un solo string, para esto, se emplea el método `.join()`"
   ]
  },
  {
   "cell_type": "code",
   "execution_count": 4,
   "metadata": {
    "pycharm": {
     "name": "#%%\n"
    }
   },
   "outputs": [
    {
     "name": "stdout",
     "output_type": "stream",
     "text": [
      "Lista separada:\n",
      " ['>LR898357.1 Homo sapiens CYP2C9 gene for CYP2C9', 'ATGGATTCTCTTGTGGTCCTTGTGCTCTGTCTCTCATGTTTGCTTCTCCTTTCACTCTGGAGACAGAGCT', 'CTGGGAGAGGAAAACTCCCTCCTGGCCCCACTCCTCTCCCAGTGATTGGAAATATCCTACAGATAGGTAT', 'TAAGGACATCAGCAAATCCTTAACCAATCTCTCAAAGGTCTATGGCCCTGTGTTCACTCTGTATTTTGGC', 'CTGAAACCCATAGTGGTGCTGCATGGATATGAAGCAGTGAAGGAAGCCCTGATTGATCTTGGAGAGGAGT', 'TTTCTGGAAGAGGCATTTTCCCACTGGCTGAAAGAGCTAACAGAGGATTTGGAATTGTTTTCAGCAATGG', 'AAAGAAATGGAAGGAGATCCGGCGTTTCTCCCTCATGACGCTGCGGAATTTTGGGATGGGGAAGAGGAGC', 'ATTGAGGACCGTGTTCAAGAGGAAGCCCGCTGCCTTGTGGAGGAGTTGAGAAAAACCAAGGCCTCACCCT', 'GTGATCCCACTTTCATCCTGGGCTGTGCTCCCTGCAATGTGATCTGCTCCATTATTTTCCATAAACGTTT', 'TGATTATAAAGATCAGCAATTTCTTAACTTAATGGAAAAGTTGAATGAAAACATCAAGATTTTGAGCAGC', 'CCCTGGGTCCAGATCTGCAATAATTTTTCTCCTATCATTGATTACTTCCCGGGAACTCACAACAAATTAC', 'TTAAAAACGTTGCTTTTATGAAAAGTTATATTTTGGAAAAAGTAAAAGAACACCAAGAATCAATGGACAT', 'GAACAACCCTCAGGACTTTATTGATTGCTTCCTGATGAAAATGGAGAAGGAAAAGCACAACCAACCATCT', 'GAATTTACTATTGAAAGCTTGGAAAACACTGCAGTTGACTTGTTTGGAGCTGGGACAGAGACGACAAGCA', 'CAACCCTGAGATATGCTCTCCTTCTCCTGCTGAAGCACCCAGAGGTCACAGCTAAAGTCCAGGAAGAGAT', 'TGAACGTGTGATTGGCAGAAACCGGAGCCCCTGCATGCAAGACAGGAGCCACATGCCCTACACAGATGCT', 'GTGGTGCACGAGGTCCAGAGATACATTGACCTTCTCCCCACCAGCCTGCCCCATGCAGTGACCTGTGACA', 'TTAAATTCAGAAACTATCTCATTCCCAAG', '', '']\n"
     ]
    }
   ],
   "source": [
    "# Separar la cadena por renglones\n",
    "sec_separada = sec_CYP2C9.split('\\n')\n",
    "print (\"Lista separada:\\n\", str (sec_separada))"
   ]
  },
  {
   "cell_type": "code",
   "execution_count": 5,
   "metadata": {
    "pycharm": {
     "name": "#%%\n"
    }
   },
   "outputs": [
    {
     "name": "stdout",
     "output_type": "stream",
     "text": [
      "Lista separada, sin el primer renglón:\n",
      "['ATGGATTCTCTTGTGGTCCTTGTGCTCTGTCTCTCATGTTTGCTTCTCCTTTCACTCTGGAGACAGAGCT', 'CTGGGAGAGGAAAACTCCCTCCTGGCCCCACTCCTCTCCCAGTGATTGGAAATATCCTACAGATAGGTAT', 'TAAGGACATCAGCAAATCCTTAACCAATCTCTCAAAGGTCTATGGCCCTGTGTTCACTCTGTATTTTGGC', 'CTGAAACCCATAGTGGTGCTGCATGGATATGAAGCAGTGAAGGAAGCCCTGATTGATCTTGGAGAGGAGT', 'TTTCTGGAAGAGGCATTTTCCCACTGGCTGAAAGAGCTAACAGAGGATTTGGAATTGTTTTCAGCAATGG', 'AAAGAAATGGAAGGAGATCCGGCGTTTCTCCCTCATGACGCTGCGGAATTTTGGGATGGGGAAGAGGAGC', 'ATTGAGGACCGTGTTCAAGAGGAAGCCCGCTGCCTTGTGGAGGAGTTGAGAAAAACCAAGGCCTCACCCT', 'GTGATCCCACTTTCATCCTGGGCTGTGCTCCCTGCAATGTGATCTGCTCCATTATTTTCCATAAACGTTT', 'TGATTATAAAGATCAGCAATTTCTTAACTTAATGGAAAAGTTGAATGAAAACATCAAGATTTTGAGCAGC', 'CCCTGGGTCCAGATCTGCAATAATTTTTCTCCTATCATTGATTACTTCCCGGGAACTCACAACAAATTAC', 'TTAAAAACGTTGCTTTTATGAAAAGTTATATTTTGGAAAAAGTAAAAGAACACCAAGAATCAATGGACAT', 'GAACAACCCTCAGGACTTTATTGATTGCTTCCTGATGAAAATGGAGAAGGAAAAGCACAACCAACCATCT', 'GAATTTACTATTGAAAGCTTGGAAAACACTGCAGTTGACTTGTTTGGAGCTGGGACAGAGACGACAAGCA', 'CAACCCTGAGATATGCTCTCCTTCTCCTGCTGAAGCACCCAGAGGTCACAGCTAAAGTCCAGGAAGAGAT', 'TGAACGTGTGATTGGCAGAAACCGGAGCCCCTGCATGCAAGACAGGAGCCACATGCCCTACACAGATGCT', 'GTGGTGCACGAGGTCCAGAGATACATTGACCTTCTCCCCACCAGCCTGCCCCATGCAGTGACCTGTGACA', 'TTAAATTCAGAAACTATCTCATTCCCAAG', '', '']\n"
     ]
    }
   ],
   "source": [
    "# Guardar la lista de elementos desde el segundo (índice 1) hasta el final, eliminando las referencias de la secuencia (índice 0).\n",
    "sec_separada = sec_separada[1:]\n",
    "# Ver la lista sin el primer elemento\n",
    "print (\"Lista separada, sin el primer renglón:\\n\" + str (sec_separada))"
   ]
  },
  {
   "cell_type": "code",
   "execution_count": 6,
   "metadata": {
    "pycharm": {
     "name": "#%%\n"
    }
   },
   "outputs": [
    {
     "name": "stdout",
     "output_type": "stream",
     "text": [
      "Secuencia:\n",
      " ATGGATTCTCTTGTGGTCCTTGTGCTCTGTCTCTCATGTTTGCTTCTCCTTTCACTCTGGAGACAGAGCTCTGGGAGAGGAAAACTCCCTCCTGGCCCCACTCCTCTCCCAGTGATTGGAAATATCCTACAGATAGGTATTAAGGACATCAGCAAATCCTTAACCAATCTCTCAAAGGTCTATGGCCCTGTGTTCACTCTGTATTTTGGCCTGAAACCCATAGTGGTGCTGCATGGATATGAAGCAGTGAAGGAAGCCCTGATTGATCTTGGAGAGGAGTTTTCTGGAAGAGGCATTTTCCCACTGGCTGAAAGAGCTAACAGAGGATTTGGAATTGTTTTCAGCAATGGAAAGAAATGGAAGGAGATCCGGCGTTTCTCCCTCATGACGCTGCGGAATTTTGGGATGGGGAAGAGGAGCATTGAGGACCGTGTTCAAGAGGAAGCCCGCTGCCTTGTGGAGGAGTTGAGAAAAACCAAGGCCTCACCCTGTGATCCCACTTTCATCCTGGGCTGTGCTCCCTGCAATGTGATCTGCTCCATTATTTTCCATAAACGTTTTGATTATAAAGATCAGCAATTTCTTAACTTAATGGAAAAGTTGAATGAAAACATCAAGATTTTGAGCAGCCCCTGGGTCCAGATCTGCAATAATTTTTCTCCTATCATTGATTACTTCCCGGGAACTCACAACAAATTACTTAAAAACGTTGCTTTTATGAAAAGTTATATTTTGGAAAAAGTAAAAGAACACCAAGAATCAATGGACATGAACAACCCTCAGGACTTTATTGATTGCTTCCTGATGAAAATGGAGAAGGAAAAGCACAACCAACCATCTGAATTTACTATTGAAAGCTTGGAAAACACTGCAGTTGACTTGTTTGGAGCTGGGACAGAGACGACAAGCACAACCCTGAGATATGCTCTCCTTCTCCTGCTGAAGCACCCAGAGGTCACAGCTAAAGTCCAGGAAGAGATTGAACGTGTGATTGGCAGAAACCGGAGCCCCTGCATGCAAGACAGGAGCCACATGCCCTACACAGATGCTGTGGTGCACGAGGTCCAGAGATACATTGACCTTCTCCCCACCAGCCTGCCCCATGCAGTGACCTGTGACATTAAATTCAGAAACTATCTCATTCCCAAG\n"
     ]
    }
   ],
   "source": [
    "# Unir la cadena para recopilar la secuencuencia.\n",
    "DNA_CYP2C9 =(''.join(sec_separada))\n",
    "print (\"Secuencia:\\n\", str (DNA_CYP2C9))"
   ]
  },
  {
   "cell_type": "markdown",
   "metadata": {
    "pycharm": {
     "name": "#%% md\n"
    }
   },
   "source": [
    "El procedimiento anterior se puede combinar en una sola celda:"
   ]
  },
  {
   "cell_type": "code",
   "execution_count": 7,
   "metadata": {
    "pycharm": {
     "name": "#%%\n"
    }
   },
   "outputs": [
    {
     "name": "stdout",
     "output_type": "stream",
     "text": [
      "Secuencia:\n",
      " ATGGATTCTCTTGTGGTCCTTGTGCTCTGTCTCTCATGTTTGCTTCTCCTTTCACTCTGGAGACAGAGCTCTGGGAGAGGAAAACTCCCTCCTGGCCCCACTCCTCTCCCAGTGATTGGAAATATCCTACAGATAGGTATTAAGGACATCAGCAAATCCTTAACCAATCTCTCAAAGGTCTATGGCCCTGTGTTCACTCTGTATTTTGGCCTGAAACCCATAGTGGTGCTGCATGGATATGAAGCAGTGAAGGAAGCCCTGATTGATCTTGGAGAGGAGTTTTCTGGAAGAGGCATTTTCCCACTGGCTGAAAGAGCTAACAGAGGATTTGGAATTGTTTTCAGCAATGGAAAGAAATGGAAGGAGATCCGGCGTTTCTCCCTCATGACGCTGCGGAATTTTGGGATGGGGAAGAGGAGCATTGAGGACCGTGTTCAAGAGGAAGCCCGCTGCCTTGTGGAGGAGTTGAGAAAAACCAAGGCCTCACCCTGTGATCCCACTTTCATCCTGGGCTGTGCTCCCTGCAATGTGATCTGCTCCATTATTTTCCATAAACGTTTTGATTATAAAGATCAGCAATTTCTTAACTTAATGGAAAAGTTGAATGAAAACATCAAGATTTTGAGCAGCCCCTGGGTCCAGATCTGCAATAATTTTTCTCCTATCATTGATTACTTCCCGGGAACTCACAACAAATTACTTAAAAACGTTGCTTTTATGAAAAGTTATATTTTGGAAAAAGTAAAAGAACACCAAGAATCAATGGACATGAACAACCCTCAGGACTTTATTGATTGCTTCCTGATGAAAATGGAGAAGGAAAAGCACAACCAACCATCTGAATTTACTATTGAAAGCTTGGAAAACACTGCAGTTGACTTGTTTGGAGCTGGGACAGAGACGACAAGCACAACCCTGAGATATGCTCTCCTTCTCCTGCTGAAGCACCCAGAGGTCACAGCTAAAGTCCAGGAAGAGATTGAACGTGTGATTGGCAGAAACCGGAGCCCCTGCATGCAAGACAGGAGCCACATGCCCTACACAGATGCTGTGGTGCACGAGGTCCAGAGATACATTGACCTTCTCCCCACCAGCCTGCCCCATGCAGTGACCTGTGACATTAAATTCAGAAACTATCTCATTCCCAAG\n"
     ]
    }
   ],
   "source": [
    "#Secuencia de nucleótidos del gen CYP2C9\n",
    "with open(\"data/dna_CYP2C9.fasta\", \"r\") as GEN:\n",
    "    sec_CYP2C9 = GEN.read()\n",
    "DNA_CYP2C9 =(''.join(sec_CYP2C9.split('\\n')[1:]))\n",
    "print (\"Secuencia:\\n\", str (DNA_CYP2C9))"
   ]
  },
  {
   "cell_type": "markdown",
   "metadata": {
    "pycharm": {
     "name": "#%% md\n"
    }
   },
   "source": [
    "### Indexación y secuencia de listas\n",
    "\n",
    "Para manipular los datos del tipo String de gran tamaño y que no se quieran dividir, se puede lograr por medio de la referencia por la posición, a esto se le conoce como indexación, y se logra empleando corchetes <code>\"[inicio:final]\"</code> para acceder a determinados elementos de una cadena (como se empleó anteriormente).\n",
    "\n",
    "Veamos algunos ejemplos:"
   ]
  },
  {
   "cell_type": "code",
   "execution_count": 8,
   "metadata": {
    "pycharm": {
     "name": "#%%\n"
    }
   },
   "outputs": [
    {
     "name": "stdout",
     "output_type": "stream",
     "text": [
      "El primer nucleótido de la secuencia es: A\n",
      "Los primeros diez nucleótidos de la secuencia son: ATGGATTCTC\n"
     ]
    }
   ],
   "source": [
    "# Se puede imprimir hasta el decimo nucleotido, el conteo al imprimir comienza desde cero. Donde el primer nucleotido comienza con el valor [0]\n",
    "print(\"El primer nucleótido de la secuencia es: \" +  DNA_CYP2C9[0])\n",
    "\n",
    "print(\"Los primeros diez nucleótidos de la secuencia son: \" + DNA_CYP2C9[:10])"
   ]
  },
  {
   "cell_type": "code",
   "execution_count": 9,
   "metadata": {
    "pycharm": {
     "name": "#%%\n"
    }
   },
   "outputs": [
    {
     "name": "stdout",
     "output_type": "stream",
     "text": [
      "La secuencia que abarca 2 a 10 nucleótidos es: GGATTCTC\n"
     ]
    }
   ],
   "source": [
    "print(\"La secuencia que abarca 2 a 10 nucleótidos es: \" + DNA_CYP2C9[2:10])"
   ]
  },
  {
   "cell_type": "code",
   "execution_count": 10,
   "metadata": {
    "pycharm": {
     "name": "#%%\n"
    }
   },
   "outputs": [
    {
     "name": "stdout",
     "output_type": "stream",
     "text": [
      "La secuencia de nucleótidos desde la posición 1100 es: CCATGCAGTGACCTGTGACATTAAATTCAGAAACTATCTCATTCCCAAG\n"
     ]
    }
   ],
   "source": [
    "print(\"La secuencia de nucleótidos desde la posición 1100 es: \" + DNA_CYP2C9[1100:])"
   ]
  },
  {
   "cell_type": "code",
   "execution_count": 11,
   "metadata": {
    "pycharm": {
     "name": "#%%\n"
    }
   },
   "outputs": [
    {
     "data": {
      "text/plain": [
       "'Los últimos 25 nucleótidos de la secuencia son: ATTCAGAAACTATCTCATTCCCAAG'"
      ]
     },
     "execution_count": 11,
     "metadata": {},
     "output_type": "execute_result"
    }
   ],
   "source": [
    "# Al emplear índices negativos se comienza a contar desde el final del String, útil en documentos extensos\n",
    "\"Los últimos 25 nucleótidos de la secuencia son: \" + DNA_CYP2C9[-25:]"
   ]
  },
  {
   "cell_type": "markdown",
   "metadata": {
    "pycharm": {
     "name": "#%% md\n"
    }
   },
   "source": [
    "## Manipulación de strings de gran tamaño\n",
    "Las herramientas que vimos anteriormente se pueden aplicar en archivos pesados y con secuenicas largas, como es el caso del genoma completo de la Marmota monax, ID: [JAIQCD010000022.1](https://www.ncbi.nlm.nih.gov/nuccore/JAIQCD010000022.1?report=fasta), gen que se ira trabajando.\n",
    "\n",
    "Para descargar la secuencia, emplee la metodología del ejemplo 1 [caramirezs: no se menciono el ejemplo 1 arriba....], cambiando el nombre del documento a: *\"dna_marmota.fasta\"*."
   ]
  },
  {
   "cell_type": "code",
   "execution_count": 16,
   "metadata": {
    "pycharm": {
     "name": "#%%\n"
    }
   },
   "outputs": [
    {
     "name": "stdout",
     "output_type": "stream",
     "text": [
      "La secuencia del genoma de marmota tiene 34815635 nucleótidos\n",
      "Los primeros 100 nucleótidos del genoma de marmota son: CCAATATTCTGTACAATTAATTAGTAGCAGGGCATGGGTTGCATGTCTGCCATGGCAGTGACTCCTGGAGCCTGAGATAGGAGGATCTCAAGTTTGAGGT\n"
     ]
    }
   ],
   "source": [
    "# En adelante se va a trabajar con el método\n",
    "with open(\"data/dna_marmota.fasta\", \"r\") as GEN:\n",
    "    DNA_marmota =  ''.join((GEN.read()).split('\\n')[1:])\n",
    "print(f'La secuencia del genoma de marmota tiene {len(DNA_marmota)} nucleótidos') # Con el comando len() se cuenta el número de caracteres que tiene un string\n",
    "print(f'Los primeros 100 nucleótidos del genoma de marmota son: {DNA_marmota[:100]}')\n",
    "\n",
    "# [caramirezs] en adelante siempre trabajar con f-strigns, DEBEN CAMBIAR TODOS LOS TEXTOS"
   ]
  },
  {
   "cell_type": "markdown",
   "metadata": {
    "pycharm": {
     "name": "#%% md\n"
    }
   },
   "source": [
    "[caramirezs] Explicar que se va a hacer aquí"
   ]
  },
  {
   "cell_type": "code",
   "execution_count": 37,
   "metadata": {
    "pycharm": {
     "name": "#%%\n"
    }
   },
   "outputs": [
    {
     "name": "stdout",
     "output_type": "stream",
     "text": [
      "Los primeros nucleótidos de la secucenia de RNA son: CCAAUAUUCUGUACAAUUAAUUAGUAGCAGGGCAUGGGUUGCAUGUCUGCCAUGGCAGUGACUCCUGGAGCCUGAGAUAGGAGGAUCUCAAGUUUGAGGUCACUUUGUAGGACCUUGUCUCAAAAAAAAAAAAAAAAACCCGGCUGGAAUGAAGUACAACUAGUGUGACAGCAGGUGGGUUUAUCCCAUUCCCAUUUGAAAAAUAAUGGAAAAUCUAGCCACUGGAGGGAUUGAAGGCCCAAUGAGGAGGGAGUAGGGUUAAUACUGCCAUUUUUCUUCUUUGGUGUAUUUUACAAAAAUGUGUGUGUGUGUGUGUGUGUGUGUGUGUGUGUGUGUGUGUGUUUCUCCCACCUUUGUUCUAUUGCUUUGACGUGUUUUUUUUUUUUCUUUUAUUUUUGGUAUUGGCUUGUUUUCACUUUCUUGUCAAUUUCUUUUGUAUCAAUUCUGUAGCUCUUUUUUUUUUACAGAAAAGAAAAUUACAGUCAAAAUAUUUUAUUUUCCUCUUAAUACUAACUUAAUUUCAAUCUCAUAAAGAUACUGUACCUUUAGAAUUCUAUCUCCCACUGUAUGUACUCAUUUUUCUUCCUUUAUUUUGGUGUUGUGCUGGGAUAGAACUCAGGAUGCUGCAGCACUGAGCUACAUCUCUAGCUUUUCUUUCUAUUUUUGCUUUGAGUGUGACCCAGUGUAAAGUGUUAGCCUAGCAUGCCUGAGGCCUUGGCUUCAAUUCUAACUAUCAUGAAACAAAUAUACUCUGUGUACCUGAUCUGACACUACAUGCUGUGUCCAUUAUUUUAAGGCUGCUAUCCUAUUGAAGAAGGUUUCAGAAAGGAUCAUGUAAGUCAUGUAAACAUGCUCCCCAAACAUCAAGUAUCCUUUACUUAAUUGUUAUGUUGAAGGCUAAGCUUAUUUUGAAUGUCAUCAUAUGAGCAAAAAAUCAAAGUGGACAUUAUGAUAAAUACUUGUCCCAACCCAAUGCUUCCUUUCUAUUUUAUAUAAUCUU\n"
     ]
    }
   ],
   "source": [
    "# Transcripción de la secuencia de marmota de DNA a RNA, empleando la función \".replace()\"\n",
    "RNA_marmota = DNA_marmota.replace(\"T\",\"U\")\n",
    "print(\"Los primeros nucleótidos de la secucenia de RNA son: \"+ (RNA_marmota[:1000]))"
   ]
  },
  {
   "cell_type": "markdown",
   "metadata": {
    "pycharm": {
     "name": "#%% md\n"
    }
   },
   "source": [
    "[caramirezs] Dar un final a esta práctica, decir que se hizo, para qué, cómo lo vamos a utilizar más adelante, etc"
   ]
  },
  {
   "cell_type": "markdown",
   "metadata": {
    "pycharm": {
     "name": "#%% md\n"
    }
   },
   "source": [
    "# Teoría: Estructuras de control de flujo\n",
    "Python tiene expresiones que permite controlar la ejecución de un programa, a esto se le conoce como estructuras de control. \n",
    "\n",
    "Dos de las mas empleadas son:\n",
    "\n",
    "1. Estructuras de control condicionales (If, Else)\n",
    "2. Estructuras de control iterativas (Loop, While)"
   ]
  },
  {
   "cell_type": "markdown",
   "metadata": {
    "pycharm": {
     "name": "#%% md\n"
    }
   },
   "source": [
    "### 1. Condicionales\n",
    "Los condicionales permiten ejecutar una instrucción o tomar una decisión si se cumple una determinada condición, dando como resultado un valor booleano de verdadero o falso. Las funciones más empleadas:\n",
    "* <code>if</code>: donde si se cumple la expresión se ejecuta el bloque de sentencias seguidas.\n",
    "* <code>elif</code>: donde si no se cumplen las condiciones anteriores, se intenta con otra sentencia.\n",
    "* <code>else</code>:  donde la expresión booleana es falsa o no se cumple una condición tomar esta otra opción.\n",
    "\n",
    "Los operadores y las expresiones permiten validar la condición que se va a seguir, los mas conocidos son las condiciones lógicas:"
   ]
  },
  {
   "cell_type": "code",
   "execution_count": 51,
   "metadata": {},
   "outputs": [
    {
     "name": "stdout",
     "output_type": "stream",
     "text": [
      "¿És x igual a 1? = False\n",
      "¿Ës x igual a 1? True\n",
      "El nuevo valor de x es= 2\n",
      "El nuevo valor de x es= 1\n",
      "Se espera que x,y sean iguales a 1. x=1 y=1\n",
      "Ahora x,y son iguales a 0, x=0 y=0\n"
     ]
    }
   ],
   "source": [
    "#Se comprueba el valor de la variable x en una sola linea, ejemplo de expresión que retorna un valor booleano.\n",
    "x = 0\n",
    "print(f'¿És x igual a 1? = {x == 1}')\n",
    "\n",
    "x = 1\n",
    "print(f'¿Ës x igual a 1? {x == 1}')\n",
    "\n",
    "#En ciertos escenarios se pueden tomar decisiones, como puede ser aumentar el valor de x ó en su defecto disminuir su valor\n",
    "if x == 1:\n",
    "    x = x + 1\n",
    "else:\n",
    "    x = x -1\n",
    "    \n",
    "print(f'El nuevo valor de x es= {x}')\n",
    "\n",
    "#Más de una expresión de comprobación puede ser parte del bloque a traves de elif, ejemplo:\n",
    "if x == 1:\n",
    "    x = x + 1\n",
    "elif x == 2:\n",
    "    x = x - 1\n",
    "else:\n",
    "    x = 0\n",
    "    \n",
    "print(f'El nuevo valor de x es= {x}')\n",
    "\n",
    "#En ocasiones se pueden incluir expresiones if anidades tanto como sea necesario, no es recomendable como práctica de desarrollo de software, ejemplo:\n",
    "x = 2\n",
    "y = 2\n",
    "if x == 1:\n",
    "    if y == 2:\n",
    "        x = x + 1\n",
    "        y = y + 1\n",
    "elif x == 2:\n",
    "    if y == 2:\n",
    "        x = x - 1\n",
    "        y = y - 1\n",
    "else:\n",
    "    x = 0\n",
    "    y = 0\n",
    "\n",
    "print(f'Se espera que x,y sean iguales a 1. x={x} y={y}')\n",
    "\n",
    "#A veces no es necesario anidar tantas expresiones if ó elif si se utilizán expresiones lógicas mas complejas, ejemplo\n",
    "if x == 1 & y == 1:\n",
    "    x = 0\n",
    "    y = 0\n",
    "    \n",
    "print(f'Ahora x,y son iguales a 0, x={x} y={0}')"
   ]
  },
  {
   "cell_type": "markdown",
   "metadata": {
    "pycharm": {
     "name": "#%% md\n"
    }
   },
   "source": [
    "### 2. Iterativas\n",
    "Las iteraciones o loops permiten repetir una porción del código las veces que sea necesario, mientras la condición booleana sea verdadera o falsa, es decir mientras sé cumpla una condición, en python se incluyen únicamente dos funciones:\n",
    "\n",
    "* <code>while</code>: permite realizar múltiples iteraciones ejecutando un código mientras la condición sea verdadera.\n",
    "* <code>for</code>: permite iterar en orden sobre cada uno de los elementos de una secuencia, ya sea lista, tupla, diccionario, conjunto o cadena\n",
    "\n",
    "Para más información revise el siguiente [link]( https://entrenamiento-python-basico.readthedocs.io/es/latest/leccion4/bucle_while.html)"
   ]
  },
  {
   "cell_type": "code",
   "execution_count": 66,
   "metadata": {},
   "outputs": [
    {
     "name": "stdout",
     "output_type": "stream",
     "text": [
      "El nuevo valor de x es 1\n",
      "El nuevo valor de x es 2\n",
      "El nuevo valor de x es 3\n",
      "El nuevo valor de x es 4\n",
      "El nuevo valor de x es 5\n",
      "El nuevo valor de x es 6\n",
      "El nuevo valor de x es 7\n",
      "El nuevo valor de x es 8\n",
      "El nuevo valor de x es 9\n",
      "Al finalizar el bucle iterativo x=10\n",
      "El tipo de la proteina Caseina es: Vegetal\n",
      "La proteina Gluten es del tipo Vegetal\n",
      "La proteina Caseina es del tipo Animal\n",
      "La proteina Albúmina es del tipo Vegetal\n",
      "La proteina Colágeno es del tipo Vegetal\n",
      "La proteina Gelatina es del tipo Animal\n",
      "La proteina Rícina es del tipo Vegetal\n",
      "La proteina Queratina es del tipo Vegetal\n",
      "La proteina Pectina es del tipo Vegetal\n",
      "La lista de tipos de las proteinas es: ['Vegetal', 'Animal', 'Vegetal', 'Vegetal', 'Animal', 'Vegetal', 'Vegetal', 'Vegetal']\n",
      "La lista de tipos de proteinas a partir del for es: ['Vegetal', 'Animal', 'Vegetal']\n",
      "lista_de_items= [[1, 2, 3], [1, 2, 3], [1, 2, 3], [1, 2, 3], [1, 2, 3], [1, 2, 3], [1, 2, 3]]\n"
     ]
    }
   ],
   "source": [
    "#Aumentemos el valor de x hasta 10\n",
    "x = 1\n",
    "while x < 10:\n",
    "    print(f'El nuevo valor de x es {x}')\n",
    "    x = x + 1\n",
    "    \n",
    "print(f'Al finalizar el bucle iterativo x={x}')\n",
    "\n",
    "\n",
    "\n",
    "#Ahora tomemos como ejemplo una lista de objetos, por ejemplo los nombres de las proteinas más comunes y su tipo: \n",
    "proteinas = [\n",
    "    ['Gluten', 'Vegetal'],\n",
    "    ['Caseina', 'Animal'],\n",
    "    ['Albúmina','Vegetal'],\n",
    "    ['Colágeno', 'Vegetal'],\n",
    "    ['Gelatina', 'Animal'],\n",
    "    ['Rícina', 'Vegetal'], \n",
    "    ['Queratina', 'Vegetal'],\n",
    "    ['Pectina', 'Vegetal']]\n",
    "\n",
    "#Si se requiere saber el tipo de proteina de la Caseina se sabria de la siguiente forma:\n",
    "print(f'El tipo de la proteina Caseina es: {proteinas[2][1]}')\n",
    "\n",
    "#Pero si se tuviera que acceder a todos los tipos de la lista, esto seria poco eficiente. La mejor opción es usar for, ejemplo:\n",
    "for proteina in proteinas:\n",
    "    print(f'La proteina {proteina[0]} es del tipo {proteina[1]}')\n",
    "\n",
    "#A veces estos loops se pueden escribir en una linea, llamadas como listas de comprensión, ejemplo:\n",
    "print(f'La lista de tipos de las proteinas es: {[p[1] for p in proteinas]}')\n",
    "\n",
    "# el iterativo for sirve para más que eso, usamos una lista como un diccionario para ser recorrida:\n",
    "proteinas = { \"Gluten\": \"Vegetal\", \"Caseina\": \"Animal\", \"Albúmina\": \"Vegetal\"}\n",
    "tipos_de_proteinas = []\n",
    "for p in proteinas:\n",
    "    tipos_de_proteinas.append(proteinas[p])\n",
    "\n",
    "print(f'La lista de tipos de proteinas a partir del for es: {tipos_de_proteinas}')\n",
    "\n",
    "#While y for podrian ser usados en conjunto, ejemplo\n",
    "lista_de_items = []\n",
    "for i in range(7):\n",
    "    items = []\n",
    "    while len(items) < 3:\n",
    "        items.append(len(items) + 1)\n",
    "    lista_de_items.append(items)\n",
    "\n",
    "print(f'lista_de_items= {lista_de_items}')\n"
   ]
  },
  {
   "cell_type": "markdown",
   "metadata": {
    "pycharm": {
     "name": "#%% md\n"
    }
   },
   "source": [
    "# Práctica: Expresión del material genético (parte 2)\n",
    "\n",
    "A continuación, realizamos la segunda fase implicada en la expresión génica.\n",
    "La **traducción**, es la síntesis de una proteína a partir de la cadena de ARNm, esto ocurre dentro de unas proteínas llamadas ribosomas, durante este proceso, la secuencia de ARNm se lee en grupos de tres nucleótidos, llamados **codones**, los cuales, son interpretados por un **código genético** dando como resultado una codificación de aminoácido (fig. 4), los cuales se plegarán y formarán las proteínas (fig. 3).\n",
    "\n",
    "![código](./img/img_4.png)\n",
    "*Figura 4. Código genético esencial en la expresión de proteínas donde se evidencia la formación de un codón a partir de un nucleótido (uracilo, adenina, guanina, o citocina), desde la secuencia de inicio (verde) y las de parada (rojo). Figura tomada de: [Molecular biology of the gene, (2008), 15, 509-569]( https://books.google.com.co/books?id=7tadzgEACAAJ&dq=Molecular+biology+of+the+gene&hl=es-419&sa=X&redir_esc=y)*\n",
    "\n",
    "El ribosoma lee la secuencia en orden, buscando el codón de **inicio** AUG, el cual, a su vez codifica para el aminoácido de metionina y da comienzo a la traducción, al seguir avanzando construye la cadena de aminoácidos, es un proceso que repite muchas veces, en el que se leen las tripletas de nucleótidos y se adhiere el aminoácido correspondiente (fig. 3). La cadena resultante puede ser largas o cortas, se direccionan hasta encontrar uno de los tres codones que codifican para el **stop** (UAA, UGA o UAG) (fig. 4), al sintetizarlo, la cadena se libera del ribosoma y es modificada o combinada para formar una proteína funcional con una estructura especifica involucrada en algún proceso esencial para la célula u organismo.\n",
    "Fif"
   ]
  },
  {
   "cell_type": "code",
   "execution_count": null,
   "metadata": {
    "pycharm": {
     "name": "#%%\n"
    }
   },
   "outputs": [],
   "source": []
  }
 ],
 "metadata": {
  "kernelspec": {
   "display_name": "Python 3 (ipykernel)",
   "language": "python",
   "name": "python3"
  },
  "language_info": {
   "codemirror_mode": {
    "name": "ipython",
    "version": 3
   },
   "file_extension": ".py",
   "mimetype": "text/x-python",
   "name": "python",
   "nbconvert_exporter": "python",
   "pygments_lexer": "ipython3",
   "version": "3.8.12"
  }
 },
 "nbformat": 4,
 "nbformat_minor": 1
}
