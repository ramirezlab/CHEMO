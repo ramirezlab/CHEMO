{
 "cells": [
  {
   "cell_type": "markdown",
   "metadata": {},
   "source": [
    "# Introducción al lenguaje de programación Python \n",
    "\n",
    "El curso “Collaborative Chemoinformatics Open Platform” (CHEMO) es una plataforma de aprendizaje autónomo dirigido a estudiantes e investigadores interesados en el desarrollo de herramientas biocomputaciones, desde Python, siendo este, el lenguaje de programación más empleado. Con el avance en las ciencias ómicas y las nuevas tecnologías se ha visto necesario adquirir habilidades informáticas aplicadas en las ciencias y el manejo de bases de datos biológicas.\n",
    "\n",
    "Bienvenido a la introducción del curso CHEMO, en la primera parte encontrará los fundamentos para comprender el lenguaje de programación de Python, está enfocado en la manipulación, extracción y análisis de datos provenientes de bases de datos biológicos (ómicos), partiendo desde lo conceptos básicos de programación y sus aplicaciones, con ejemplos basados en manipulación de secuencias de DNA.\n",
    "\n",
    "> **Nota:** Este cuaderno esta disponible de dos maneras\n",
    "> 1. Descargando el repositorio y siguiendo las instrucciones que estan en el archivo [README.md](https://github.com/ramirezlab/CHEMO/blob/main/README.md)\n",
    "> 2. Haciendo clic aquí en [![Open In Colab](https://colab.research.google.com/assets/colab-badge.svg)](https://colab.research.google.com/github/ramirezlab/CHEMO/blob/main/1_PART_ONE/1.1_Introduccion_Python.es.ipynb?hl=es#scrollTo=M-uH78HI8bCe)\n",
    "\n",
    "\n",
    "## Contenidos\n",
    "En este primer Jupyter notebook de *Python_basic* aprenderá:\n",
    "1. Introducción a Python\n",
    "2. Variables\n",
    "3. Tipos de datos\n",
    "4. Tipos de arreglos\n",
    "5. Cargar archivos\n",
    "6. Manipulación de strings\n",
    "7. Estructuras de control de flujo\n",
    "8. Funciones"
   ]
  },
  {
   "cell_type": "markdown",
   "metadata": {},
   "source": [
    "\n",
    "# Generalidades de jupyter notebook\n",
    "\n",
    "Un jupyter notebook está compuesto de un título, una barra de herramientas y las celdas. La barra de herramientas nos permite guardar, insertar una nueva celda, cortar, copiar y pegar celdas. Además, cuenta con una sección con funciones para manipular el componente Kernel, el cual es la parte encargada de ejecutar el código que contiene el notebook. En esta sección podremos correr la celda seleccionada y avanzar, interrumpir el kernel, reiniciar el kernel y correr todas las celdas. Para todos los tutoriales recomendamos reiniciar el kernel, esto se realiza con el haciendo clic en el botón con la flecha del signo devolver. Finalmente, tenemos una opción en la barra de herramientas para las celdas que pueden ser de tipo código y se identifican por la etiqueta In [ ]: que aparece al inicio de la celda. Otra opción para la celda es markdown, es allí donde podemos incluir comentarios, imágenes y enlaces usando el lenguaje Markdown."
   ]
  },
  {
   "cell_type": "markdown",
   "metadata": {},
   "source": [
    "# Teoría: conceptos básicos"
   ]
  },
  {
   "cell_type": "markdown",
   "metadata": {},
   "source": [
    "## Variables\n",
    "\n",
    "Una variable es una referencia a un valor en la memoria del computador, en donde se pueden almacenar diferentes **tipos de datos**. Por lo general se asignan valores a nombres de variables, un ejemplo de esto es: `texto = \"hola mundo\"`, `texto` es el nombre de la variable y hace referencia a `hola mundo` el cual sería el valor de la variable, y en el ejemplo anterior se utilizó el operador `=`, luego la operación que se realizó fue de asignación. A esto se le conoce como una expresión de asignación.\n",
    "\n",
    "Por lo general es el programador del software quien le asigna un nombre de variable que sea fácil de recordar y utilizar en el programa. Es importante saber que el nombre de las variables no puede comenzar por un número y distinguen entre mayúsculas y minúsculas, además no se puede incluir espacios.\n",
    "\n",
    "La siguiente tabla muestra algunos de los datos que se pueden trabajar en Python:\n",
    "\n",
    "### Tipos de datos nativos de Python\n",
    "\n",
    "| Nombre en Inglés          | Nombre del tipo  | Categoria  | Descripción                                   | Ejemplo                                      |\n",
    "| :-------------------- | :--------- | :------------- | :-------------------------------------------- |:---------------------------------------------|\n",
    "| integer               | `int`      | Númerico  | Enteros positivos/negativos               | 1, 2, ..., n                                 |\n",
    "| floating point number | `float`    | Númerico   | Números reales en forma décimal                  | 1.0, 1.1, 1.22, 1.333, ..., n                |\n",
    "| boolean               | `bool`     | Lógico | Verdadero ó Falso                                 | True, False                                  |\n",
    "| string                | `str`      | Cadena  | Texto                                          | 'Hola mundo...'                              |\n",
    "| list                  | `list`     | Secuencia  | Una colección de objetos ordenada y mutable   | [0, 1, 2, 3, ..., n]                         |\n",
    "| tuple                 | `tuple`    | Secuencia  | Una colección de objetos ordenada y inmutable | (1, 2, 3, ..., n)                            |\n",
    "| dictionary            | `dict`     | Mapa   | Mapa de pares de objetos                    | { \"Nombre\": \"Doe\", 'Apellido: \"Laden\" } |\n",
    "| none                  | `NoneType` | Nulo    | Representa ningun valor                           | `None`                                       |\n",
    "\n",
    "(_Nota: El nombre de las variables no puede ser igual a las palabras reservadas de python_)"
   ]
  },
  {
   "cell_type": "markdown",
   "metadata": {},
   "source": [
    "## Tipos de datos"
   ]
  },
  {
   "cell_type": "markdown",
   "metadata": {},
   "source": [
    "### Datos tipo: numéricos\n",
    "\n",
    "Hay varios tipos de datos numéricos (`enteros`, `punto flotante`, `decimal`, `complejos`, entre otros), aquí trabajaremos generalmente con dos de ellos: `enteros` (`int`) y `punto flotante` (`float`) **<sup> 1 </sup>**. La función `type()` nos ayuda a determinar el tipo de un objeto en Python\n",
    "\n",
    "* **Enteros (int)**: este tipo de dato comprende todos los números enteros, ya que este conjunto es infinito, el lenguaje `Python` está limitado por la capacidad de memoria disponible.\n",
    "* **Punto flotante (float)**: este tipo de datos sirve para representar sin problemas la mayoría de números reales, los valores `float` son almacenados de una forma muy particular, denominada representación en coma flotante, en [el estándar IEEE 754](https://en.wikipedia.org/wiki/IEEE_754) se explica con detalle. Así, si un número entero se define con punto decimal, por ejemplo: 1.0, este será almacenado tipo flotante."
   ]
  },
  {
   "cell_type": "code",
   "execution_count": null,
   "metadata": {},
   "outputs": [],
   "source": [
    "# Ejemplo Entero\n",
    "entero_1 = 12361        # Se define la variable y se le asigna un valor entero\n",
    "flotante_1 = 123.215    # Se define la variable y se le asigna un valor punto flotante\n",
    "flotante_2 = 1236.0\n",
    "\n",
    "# Se usa \"+\" como un operador de concatenación de cadenas en Python y \"str\" convierte el argumento en una cadena de caracteres\n",
    "print(\"El tipo de la variable entero_1 es: \" + str(type(entero_1)))    \n",
    "print(\"El tipo de la variable flotante_1 es: \" +  str(type(flotante_1)))\n",
    "print(\"El tipo de la variable flotante_2 es: \" + str(type(flotante_2)))"
   ]
  },
  {
   "cell_type": "markdown",
   "metadata": {},
   "source": [
    "#### Operaciones comparativos\n",
    "| Símbolo |     Descripción   |\n",
    "|:-------:|:-----------------:|\n",
    "|   `==`  |       Igual       |\n",
    "|   `!=`  |     Diferente     |\n",
    "|   `>`   |     Mayor que     |\n",
    "|   `<`   |     Menor que     |\n",
    "|  `>=`   | Mayor o igual que |\n",
    "|  `<=`   | Menor o igual que |\n",
    "\n",
    "*Observación*: el símbolo `=` se reserva para definir variables y no como un operador comparativo\n"
   ]
  },
  {
   "cell_type": "markdown",
   "metadata": {},
   "source": [
    "#### Operaciones aritméticas\n",
    "| Símbolo |   Descripción   |\n",
    "|:-------:|:---------------:|\n",
    "|   `+`   |     adición     |\n",
    "|   `-`   |  sustracción   |\n",
    "|   `*`   | multiplicación  |\n",
    "|   `/`   |    división     |\n",
    "|  `**`   |    potencia     |\n",
    "|  `//`   | división entera |\n",
    "|   `%`   |     módulo      |\n",
    "\n",
    "*Observación*: En adelante trabajaremos con los `f-strings` que permiten hacer líneas cortas de texto con variables integradas. Más información en: [f-strings](https://platzi.com/blog/f-strings-en-python/?utm_source=google&utm_medium=cpc&utm_campaign=12915366154&utm_adgroup=&utm_content=&gclid=Cj0KCQjw3IqSBhCoARIsAMBkTb2p5ZOBtPtlGG2B7P0qrtnp8Wwvbgd2OY_F3_P-6OOU1YE_QHHCMaYaAnTaEALw_wcB&gclsrc=aw.ds), [f-strings](https://peps.python.org/pep-0498/)\n"
   ]
  },
  {
   "cell_type": "code",
   "execution_count": null,
   "metadata": {},
   "outputs": [],
   "source": [
    "# Ejemplo operaciones con números enteros\n",
    "x = 10\n",
    "y = 5\n",
    "\n",
    "print(f'La suma de dos números enteros es un entero, por ejemplo: {x + y}')"
   ]
  },
  {
   "cell_type": "code",
   "execution_count": null,
   "metadata": {},
   "outputs": [],
   "source": [
    "# Ejemplo operaciones con números reales en forma décimal\n",
    "x = 10.0\n",
    "y = 5.0\n",
    "\n",
    "print(f'La suma de dos números de tipo flotantes da como resultado un número flotante, por ejemplo: {x + y}')"
   ]
  },
  {
   "cell_type": "code",
   "execution_count": null,
   "metadata": {},
   "outputs": [],
   "source": [
    "# Ejemplo operaciones con números reales y enteros\n",
    "x = 10\n",
    "y = 5.0\n",
    "\n",
    "# Note que el interprete de Python da relevanciá a los tipos float sobre los tipos int.\n",
    "print(f'La suma un entero y un flotante es un flotante, por ejemplo: {x + y}')"
   ]
  },
  {
   "cell_type": "markdown",
   "metadata": {},
   "source": [
    "En los cuadernos `Jupyter` (versión interactiva de Python), la última línea de la celda será mostrada automáticamente.\n",
    "Esto quiere decir que no siempre es necesario utilizar la función `print()`"
   ]
  },
  {
   "cell_type": "code",
   "execution_count": null,
   "metadata": {},
   "outputs": [],
   "source": [
    "#Ejemplo\n",
    "x = 15\n",
    "y = 20\n",
    "\n",
    "x + y  # La operación de esta celda es mostrada automáticamente"
   ]
  },
  {
   "cell_type": "markdown",
   "metadata": {},
   "source": [
    "### Datos tipo: Booleano (bool)\n",
    "Este tipo de dato (`bool`) tiene únicamente dos valores: verdadero: `True` o falso: `False` **<sup> 1 </sup>**. Puede ser usado para operadores lógicos donde se necesite evaluar si una afirmación es cierta o no."
   ]
  },
  {
   "cell_type": "markdown",
   "metadata": {},
   "source": [
    "### Datos tipo: texto (String)\n",
    "Los strings ó cadenas de texto, se denotan como <code>str</code> y son una secuencia de símbolos que pueden incluir letras mayúsculas y minúsculas, números, signos de puntuación y espacios **<sup> 1 </sup>**.\n",
    "\n",
    "Existen tres formas de representar este tipo de datos, cualquiera de ellas es válida y no afecta el código:\n",
    "* **Entre comillas sencillas:** 'Donepezil'\n",
    "* **Entre comillas dobles:** \"Donepezil\"\n",
    "* **Entre tres comillas sencillas o tres comillas dobles:** '''Donepezil''' o \"\"\"Donepezil\"\"\" *(Sé usa principalmente para definir cadenas de textos en múltiples lineas)*"
   ]
  },
  {
   "cell_type": "code",
   "execution_count": null,
   "metadata": {},
   "outputs": [],
   "source": [
    "# Ejemplo de variable del tipo string\n",
    "texto = 'Hola mundo'\n",
    "print(f'texto: {texto}')"
   ]
  },
  {
   "cell_type": "code",
   "execution_count": null,
   "metadata": {},
   "outputs": [],
   "source": [
    "# Ejemplo de definiciones de variables tipo string, con comillas, sencillas, dobles y triples.\n",
    "texto = \"Hola mundo, comillas doble\"\n",
    "print(f'Texto - Comillas Doble: {texto}')"
   ]
  },
  {
   "cell_type": "code",
   "execution_count": null,
   "metadata": {},
   "outputs": [],
   "source": [
    "texto = 'Hola Mundo, comillas sencillas'\n",
    "print(f'Texto - Comillas Sencillas: {texto}')"
   ]
  },
  {
   "cell_type": "code",
   "execution_count": null,
   "metadata": {},
   "outputs": [],
   "source": [
    "# La triple comilla conserva los separadores (espacios, saltos de línea)\n",
    "texto = \"\"\"Hola mundo,\n",
    "triple comilla doble\"\"\"\n",
    "print(f'Texto - Triple Comilla Doble: {texto}')"
   ]
  },
  {
   "cell_type": "code",
   "execution_count": null,
   "metadata": {},
   "outputs": [],
   "source": [
    "texto = '''Hola mundo,\n",
    "triple comilla sencilla'''\n",
    "print(f'Texto - Triple Comilla Sencillas: {texto}')"
   ]
  },
  {
   "cell_type": "markdown",
   "metadata": {},
   "source": [
    "Sí el texto es una cadena muy larga, es posible escribirla en modo multilinea, como se ve a continuación:"
   ]
  },
  {
   "cell_type": "code",
   "execution_count": null,
   "metadata": {},
   "outputs": [],
   "source": [
    "texto_multilinea = \"\"\"Este texto es multilinea\n",
    "porque posee diferentes lineas\n",
    "para ello se imprime\n",
    "\"\"\"\n",
    "# \\n es un separador de linea\n",
    "print(f'Texto multilinea \\n{texto_multilinea}')"
   ]
  },
  {
   "cell_type": "markdown",
   "metadata": {},
   "source": [
    "#### Indexación"
   ]
  },
  {
   "cell_type": "markdown",
   "metadata": {},
   "source": [
    "Una de las formas más sencillas de manipular una cadena de caracteres, es a través del método de indexación:\n",
    "\n",
    "Un texto es similar a una lista, donde cada elemento tiene un _índice_, en `Python` el primer elemento tiene índice cero. De esta manera se puede hacer uso de la indexación para manipular partes del texto.\n"
   ]
  },
  {
   "cell_type": "code",
   "execution_count": null,
   "metadata": {},
   "outputs": [],
   "source": [
    "texto = \"Texto que se quiere manipular\"\n",
    "\n",
    "### EJEMPLO 1\n",
    "print(f'Extraer una palabra del texto (texto[6:9]): {texto[6:9]}')  # del principio al final"
   ]
  },
  {
   "cell_type": "code",
   "execution_count": null,
   "metadata": {},
   "outputs": [],
   "source": [
    "#### EJEMPLO 2\n",
    "print(f'Extraer la palabra \\'quiere\\' del texto recorriendo en string de adelante hacia atrás: {texto[13:19]}')  # del principio al final\n",
    "print(f'Extraer la palabra \\'quiere\\' del texto recorriendo en string de atrás hacia adelante: {texto[-16:-10]}')  # del final al principio"
   ]
  },
  {
   "cell_type": "markdown",
   "metadata": {},
   "source": [
    "Incluso es posible hacer comprobaciones lógicas con las cadenas de carácteres como se ve a continuación:"
   ]
  },
  {
   "cell_type": "code",
   "execution_count": null,
   "metadata": {},
   "outputs": [],
   "source": [
    "texto = \"Texto que se quiere manipular\"\n",
    "\n",
    "### EJEMPLO 1\n",
    "print(f'¿Será que \\'para\\' esta en texto?')\n",
    "print(\"para\" in texto)\n",
    "\n",
    "#### EJEMPLO 2\n",
    "\n",
    "print(f'\\n¿Será que \\'quiere\\' esta en texto?')\n",
    "print(\"quiere\" in texto)\n"
   ]
  },
  {
   "cell_type": "markdown",
   "metadata": {},
   "source": [
    "#### Métodos de String\n",
    "Hay varios operadores en el lenguaje de Python que permiten trabajar con los datos de los String mediante operaciones en las que se devuelven los valores sin cambiar la cadena. Entre las que se encuentran **<sup> 1 </sup>**:\n",
    "* <code>.replace()</code>: sustituye en el string un valor específico por otro.\n",
    "* <code>.split()</code>: divide el string en subcadenas según el parámetro establecido. Da como resultado una lista de elementos.\n",
    "* <code>.find()</code>:  Busca en el string un valor específico y evidencia la posición en la que se encuentra. Da como resultado el índice (posición) del elemento buscado.\n"
   ]
  },
  {
   "cell_type": "code",
   "execution_count": null,
   "metadata": {},
   "outputs": [],
   "source": [
    "texto = \"Hola mundo. Este es un texto de ejemplo\"\n",
    "print(texto)\n",
    "\n",
    "# Reemplazar una palabra\n",
    "texto.replace(\"Hola\", \"Hi\")"
   ]
  },
  {
   "cell_type": "code",
   "execution_count": null,
   "metadata": {},
   "outputs": [],
   "source": [
    "# Separa la frase por espacios\n",
    "lista_separada = texto.split(\" \")\n",
    "lista_separada"
   ]
  },
  {
   "cell_type": "code",
   "execution_count": null,
   "metadata": {},
   "outputs": [],
   "source": [
    "# Encontrar la posición de la palabra 'mundo' en texto\n",
    "texto.find(\"mundo\")"
   ]
  },
  {
   "cell_type": "markdown",
   "metadata": {},
   "source": [
    "### Datos tipo: Arreglos\n",
    "Las listas, tuplas, diccionarios y conjuntos se emplean para almacenar varios elementos en una misma variable **<sup> 1 </sup>**.\n",
    "* **Listas (list):** los elementos tienen un índice y órden, pero pueden ser modificados, además puede tener elementos duplicados\n",
    "* **Tuplas (tuple):** los elementos tienen un índice y orden, pero no se puede cambiar, agregar o eliminar una vez creada la tupla, además pueden hacer duplicados\n",
    "* **Conjuntos (set):** los elementos no tienen un orden y no están indexados, tampoco puede haber duplicados. Se pueden usar operaciones entre conjuntos (por ejemplo la _union_ o _intersección_)\n",
    "* **Diccionarios (dict):** se emplean para almacenar valores de datos en pares `clave:valor` (`keys:values`)), los elementos tienen un orden no modificable, se pueden hacer modificaciones y no se permiten duplicados"
   ]
  },
  {
   "cell_type": "markdown",
   "metadata": {},
   "source": [
    "#### Listas\n",
    "Las listas se emplean para almacenar varios elementos en una sola variable. Los elementos o datos que se almacenan pueden ser de cualquier tipo. A continuación se encuentran las características de este tipo de datos:\n",
    "* Los elementos de las listas **están ordenados**, tienen un orden definido que no cambiará. Al agregar nuevos elementos a la lista por defecto estos se ubicarán al final de la misma.\n",
    "* tienen un orden definido que no cambiará pues al agregar nuevos elementos a la lista se colocaran al final de la misma\n",
    "* Los elementos de las listas **son modificables**, es decir, que se pueden cambiar, agregar y eliminar elementos después de que se haya creado la lista\n",
    "* Las listas **permiten duplicados**, es decir, que pueden haber elementos con el mismo valor"
   ]
  },
  {
   "cell_type": "code",
   "execution_count": null,
   "metadata": {},
   "outputs": [],
   "source": [
    "# Guardar en la variable num una lista ordenada de elementos del 0 al 10\n",
    "num = [0, 1, 2, 3, 4, 5, 6, 7, 8, 9, 10]\n",
    "print(f'La lista de enteros del 0 al 10 es:')\n",
    "num"
   ]
  },
  {
   "cell_type": "code",
   "execution_count": null,
   "metadata": {},
   "outputs": [],
   "source": [
    "# Para escribir la misma lista se puede utilizar la función range\n",
    "num = list(range(11))\n",
    "num"
   ]
  },
  {
   "cell_type": "markdown",
   "metadata": {},
   "source": [
    "La listas se pueden definir a partir de diferentes tipos de datos:"
   ]
  },
  {
   "cell_type": "code",
   "execution_count": null,
   "metadata": {},
   "outputs": [],
   "source": [
    "num = [1, \"2\", 3, \"4\", 5, \"6\", 7, 8, \"9\", 10]\n",
    "# Notar como los elementos tipo string están entre comillas\n",
    "print(f'La lista es:')\n",
    "num"
   ]
  },
  {
   "cell_type": "markdown",
   "metadata": {},
   "source": [
    "En el anterior ejemplo se ve la forma en la que esta escrita una lista:\n",
    "* Se encuentra delimitada por corchetes cuadrados `[ ]`\n",
    "* Cada elemento está separado por comas `,`\n",
    "\n",
    "Como los elementos de la listas están ordenados se puede saber el índice de un elemento con la función <code>index()</code> la cual devuelve el índice del elemento en la primera aparición que encuentra a partir del índice 0 independientemente de cuántas veces este el elemento dentro de la lista."
   ]
  },
  {
   "cell_type": "markdown",
   "metadata": {},
   "source": [
    "##### Indexación\n",
    "Utilizando la misma técnica para manipular las variables tipo string, por el método de indexación se puede manipular de manera similar las listas:"
   ]
  },
  {
   "cell_type": "code",
   "execution_count": null,
   "metadata": {},
   "outputs": [],
   "source": [
    "# num: una lista ordenada de elementos del 0-10\n",
    "num = [0, 1, 2, 3, 4, 5, 6, 7, 8, 9, 10]\n",
    "print('la lista es:')\n",
    "print(num)\n",
    "print('----------------------')\n",
    "\n",
    "#### EJEMPLO 1\n",
    "print(f'En la posición 0 de la lista está el elemento (primer elemento):')\n",
    "print(num[0])\n",
    "print('----------------------')\n",
    "\n",
    "#### EJEMPLO 2\n",
    "print(f'Los dos primeros elementos de la lista son:')\n",
    "print(num[0:2])\n",
    "print('----------------------')\n",
    "\n",
    "#### EJEMPLO 3\n",
    "print(f'Los dos últimos elementos  de la lista son:')\n",
    "print(num[-2:])"
   ]
  },
  {
   "cell_type": "markdown",
   "metadata": {},
   "source": [
    "##### Métodos de listas\n",
    "A veces es necesario realizar algunas operaciones básicas sobre las listas, algunos de los métodos existentes son:\n",
    "\n",
    "* <code>.len()</code>\n",
    "* <code>.index()</code>\n",
    "* <code>.pop()</code>\n",
    "* <code>.append()</code>\n",
    "* <code>.remove()</code>\n",
    "* <code>.reverse()</code>"
   ]
  },
  {
   "cell_type": "markdown",
   "metadata": {},
   "source": [
    "###### Método .len()\n",
    "Con `.len(<lista>)` se puede determinar el número de elementos de la lista:"
   ]
  },
  {
   "cell_type": "code",
   "execution_count": null,
   "metadata": {},
   "outputs": [],
   "source": [
    "num = [0, 1, 2, 3, 4, 5, 6, 7, 8, 9, 10]\n",
    "print('Número de elementos de la lista:')\n",
    "len(num)"
   ]
  },
  {
   "cell_type": "markdown",
   "metadata": {},
   "source": [
    "###### Método .index()\n",
    "Con `.index(<elemento>)` se puede encontrar la posición ó index de un elemento en la lista:"
   ]
  },
  {
   "cell_type": "code",
   "execution_count": null,
   "metadata": {},
   "outputs": [],
   "source": [
    "#Es posible averiguar la posición de un elemento, incluso el valor en un lugar de la lista\n",
    "print(f'¿En que posición se encuentra el 5?')\n",
    "num.index(5)"
   ]
  },
  {
   "cell_type": "markdown",
   "metadata": {},
   "source": [
    "###### Método .pop()\n",
    "Con `.pop(<índice>)`. Se puede eliminar un elemento de la lista y retornarlo.\n",
    "- En caso de que no se especifique el índice, se elimina el último elemento\n",
    "\n",
    "Este método **sobreescribe** la lista:"
   ]
  },
  {
   "cell_type": "code",
   "execution_count": null,
   "metadata": {},
   "outputs": [],
   "source": [
    "print('Eliminar el último elemento de la lista')\n",
    "print(num.pop())\n",
    "print(num)"
   ]
  },
  {
   "cell_type": "markdown",
   "metadata": {},
   "source": [
    "###### Método  .append()\n",
    "Con `.append(<elemento>)` se agrega el elemento al final la lista. Este método __sobreescribe__ la lista."
   ]
  },
  {
   "cell_type": "code",
   "execution_count": null,
   "metadata": {},
   "outputs": [],
   "source": [
    "num.append(6)\n",
    "print(f'La lista ahora con el elemento 6 al final:')\n",
    "print(num)"
   ]
  },
  {
   "cell_type": "markdown",
   "metadata": {},
   "source": [
    "###### Método  .remove()\n",
    "Con `.remove(<elemento>)` se elimina un elemento de una lista, es necesario indicar el elemento a eliminar:\n",
    "- En caso de tener varios elementos iguales, solo se elimina el primero\n",
    "- Si el elemento no está en la lista, devuelve un error 'ValueError'\n",
    "\n",
    "Este método __sobreescribe__ la lista."
   ]
  },
  {
   "cell_type": "code",
   "execution_count": null,
   "metadata": {},
   "outputs": [],
   "source": [
    "num.remove(2)\n",
    "print(f'La lista ahora sin el 2:')\n",
    "print(num)"
   ]
  },
  {
   "cell_type": "markdown",
   "metadata": {},
   "source": [
    "###### Método  .reverse()\n",
    "Con `.reverse()` se reordena la lista, del último elemento al primero. Este método __sobreescribe__ la lista."
   ]
  },
  {
   "cell_type": "code",
   "execution_count": null,
   "metadata": {},
   "outputs": [],
   "source": [
    "# volver a crear num\n",
    "num = [0, 1, 2, 3, 4, 5, 6, 7, 8, 9, 10]\n",
    "num.reverse()  # Cambiar el orden\n",
    "print('Lista en orden contrario')\n",
    "print(num)"
   ]
  },
  {
   "cell_type": "markdown",
   "metadata": {},
   "source": [
    "#### Tuplas\n",
    "Las tuplas se emplean para almacenar varios elementos en una sola variable. Los elementos o datos que se almacenan pueden ser de cualquier tipo. A continuación se encuentran las características de este tipo de datos:\n",
    "* Los elementos de las tuplas **están ordenados**, es decir, tienen un orden definido que no cambiará pues al agregar nuevos elementos a la lista se colocaran al final de la misma.\n",
    "* Los elementos de las tuplas **son inmutables**, es decir, que no se pueden cambiar, agregar y eliminar elementos después de que se haya creado la tupla.\n",
    "* Las tuplas **permiten duplicados**, es decir, que pueden haber elementos con el mismo valor."
   ]
  },
  {
   "cell_type": "code",
   "execution_count": null,
   "metadata": {},
   "outputs": [],
   "source": [
    "# Sea tupla_num una tupla ordenada de elementos del 1 al 10\n",
    "tupla_num = (1, 2, 3, 4, 5, 6, 7, 8, 9, 10)\n",
    "\n",
    "print(f'La tupla de elementos del 1 al 10 es:')\n",
    "print(tupla_num)"
   ]
  },
  {
   "cell_type": "markdown",
   "metadata": {},
   "source": [
    "Una tupla es inmutable, por lo cual no se pueden asignar nuevos valores a sus elementos"
   ]
  },
  {
   "cell_type": "markdown",
   "metadata": {},
   "source": [
    "A los elementos de la tupla se pueden acceder de la misma forma que una lista\n"
   ]
  },
  {
   "cell_type": "code",
   "execution_count": null,
   "metadata": {},
   "outputs": [],
   "source": [
    "tupla_num = (1, 2, 3, 4, 5, 6, 7, 8, 9, 10)\n",
    "print('Tupla de elementos')\n",
    "print(tupla_num)\n",
    "print('----------------------')\n",
    "\n",
    "#### EJEMPLO 1\n",
    "print('Primer elemento (posición cero)')\n",
    "print(tupla_num[0])\n",
    "print('----------------------')\n",
    "\n",
    "#### EJEMPLO 2\n",
    "print('Últimos cuatro elementos')\n",
    "print(tupla_num[-4:])\n",
    "print('----------------------')\n",
    "\n",
    "#### EJEMPLO 3\n",
    "print('tupla de elementos de la posición dos a la cinco')\n",
    "print(tupla_num[2:5])\n",
    "print('----------------------')"
   ]
  },
  {
   "cell_type": "markdown",
   "metadata": {},
   "source": [
    "#### Conjuntos\n",
    "Los conjuntos se emplean para almacenar varios elementos en una sola variable. Los elementos o datos que se almacenan pueden ser de cualquier tipo. A continuación se encuentran las características de este tipo de datos:\n",
    "* Los elementos de los conjuntos **no están ordenados**, es decir, no tienen un orden definido ya que los elementos pueden aparecer en un orden diferente cada vez que los usa y no se puede hacer referencia a ellos por índice o clave.\n",
    "* Los elementos de los conjuntos **son inmutables**, es decir, que no se pueden cambiar elementos después de que se haya creado el conjunto.\n",
    "* Los conjuntos **no permiten duplicados**, es decir, no pueden haber elementos con el mismo valor."
   ]
  },
  {
   "cell_type": "code",
   "execution_count": null,
   "metadata": {},
   "outputs": [],
   "source": [
    "# Conjunto de elementos con algunos repetidos\n",
    "conjunto_num_1 = {1, 2, 1, 2, 3, 5, 8, 1, 3, 9, 10, 2, 3, 4, 5, 6, 7, 8, 1, 0}\n",
    "\n",
    "print('El conjunto de elementos es:')\n",
    "conjunto_num_1"
   ]
  },
  {
   "cell_type": "markdown",
   "metadata": {},
   "source": [
    "#### Diccionarios\n",
    "\n",
    "Los diccionarios son una estructura de datos especial, que nos aporta un poco más flexibilidad debido a su naturaleza de lista de objetos donde cada par contiene una clave y un valor. Por clave hacemos referencia a un valor que describe el tipo de dato guardado, a este tipo de estructuras se les conoce como una lista de objetos clave-valor.\n",
    "\n",
    "Veamos un ejemplo, para ello definiremos un diccionario de codónes con su traducción a su código genético:"
   ]
  },
  {
   "cell_type": "code",
   "execution_count": null,
   "metadata": {},
   "outputs": [],
   "source": [
    "código_genético= {\n",
    "    \"GUU\": \"V\", \"GUC\": \"V\", \"GUA\": \"V\",\n",
    "    \"GUG\": \"V\", \"GCU\": \"A\", \"GCC\": \"A\",\n",
    "    \"GCA\": \"A\", \"GCG\": \"A\", \"GAU\": \"D\",\n",
    "    \"GAC\": \"D\", \"GAA\": \"E\", \"GAG\": \"E\",\n",
    "    \"GGU\": \"G\", \"GGC\": \"G\", \"GGA\": \"G\",\n",
    "    \"GGG\": \"G\", \"AGA\": \"R\", \"AGG\": \"R\",\n",
    "    \"AGU\": \"S\", \"AGC\": \"S\", \"AAU\": \"N\",\n",
    "    \"AAC\": \"N\", \"AAA\": \"K\", \"AAG\": \"K\",\n",
    "    \"ACU\": \"T\", \"ACC\": \"T\", \"ACA\": \"T\",\n",
    "    \"ACG\": \"T\", \"AUU\": \"I\", \"AUC\": \"I\",\n",
    "    \"AUA\": \"I\", \"AUG\": \"M\", \"CGU\": \"R\",\n",
    "    \"CGC\": \"R\", \"CGA\": \"R\", \"CGG\": \"R\",\n",
    "    \"CCU\": \"P\", \"CCC\": \"P\", \"CCA\": \"P\",\n",
    "    \"CCG\": \"P\", \"CAU\": \"H\", \"CAC\": \"H\",\n",
    "    \"CAA\": \"Q\", \"CAG\": \"Q\", \"UUU\": \"F\",\n",
    "    \"UUC\": \"F\", \"UUA\": \"L\", \"UUG\": \"L\",\n",
    "    \"UCU\": \"S\", \"UCC\": \"S\", \"UCA\": \"S\",\n",
    "    \"UCG\": \"S\", \"UAU\": \"Y\", \"UAC\": \"Y\",\n",
    "    \"UAA\": \"STOP\", \"UAG\": \"STOP\", \"UGU\":\"C\",\n",
    "    \"UGC\": \"C\", \"UGA\": \"STOP\", \"UGG\": \"W\",\n",
    "    \"CUU\": \"L\", \"CUC\": \"L\", \"CUA\": \"L\",\n",
    "    \"CUG\": \"L\"}\n",
    "\n",
    "# Se imprime el diccionario previamente creado\n",
    "print(código_genético)"
   ]
  },
  {
   "cell_type": "markdown",
   "metadata": {},
   "source": [
    "Python tiene su propia forma de definir diccionarios, a través de la palabra clave `dict`. Lo que nos daria una forma más elegante de creación:"
   ]
  },
  {
   "cell_type": "markdown",
   "metadata": {},
   "source": [
    "Por lo general podemos acceder a los valores del diccionario de la misma manera que lo hacemos con los arreglos y las listas."
   ]
  },
  {
   "cell_type": "code",
   "execution_count": null,
   "metadata": {},
   "outputs": [],
   "source": [
    "### Ejemplo 1: ¿Cuál es el valor del código genético de GGG?\n",
    "print(f'El aminoácido de GGG es: {código_genético[\"GGG\"]}')\n",
    "print('----------------------')\n",
    "\n",
    "### Ejemplo 2: ¿Cuál es el valor del código genético de YYY?\n",
    "código_genético['YYY']"
   ]
  },
  {
   "cell_type": "markdown",
   "metadata": {},
   "source": [
    "En ejemplo 2 de la celda anterior arrojó el error `KeyError` debido a que `YYY` no está definida en el diccionario. En `Python` se pueden usar excepciones para definir de que manera manejar los errores. Esto se hace con la secuencia de comandos `try/except`. Por lo general un bloque del tipo `try/except` tiene la siguiente estructura:"
   ]
  },
  {
   "cell_type": "markdown",
   "metadata": {},
   "source": [
    "```markdown\n",
    "try:\n",
    "    bloque código\n",
    "except <tipo>:\n",
    "    bloque código\n",
    "```"
   ]
  },
  {
   "cell_type": "markdown",
   "metadata": {},
   "source": [
    "Ahora, el ejemplo se puede escribir de la siguiente manera:"
   ]
  },
  {
   "cell_type": "code",
   "execution_count": null,
   "metadata": {},
   "outputs": [],
   "source": [
    "### Ejemplo 2: Uso de try/catch para cuando una clave no existe en el diccionario\n",
    "try:\n",
    "    código_genético['YYY']\n",
    "except KeyError:\n",
    "    print(f'La propiedad YYY no existe en el diccionario, intenta con otra!')"
   ]
  },
  {
   "cell_type": "markdown",
   "metadata": {},
   "source": [
    "# Teoría: Estructuras de control de flujo\n",
    "Python tiene sentencias de control de flujo que permite agrupar comandos de manera controlada. Dos de las más empleadas son:\n",
    "1. Estructuras de control condicionales\n",
    "2. Estructuras de control iterativas"
   ]
  },
  {
   "cell_type": "markdown",
   "metadata": {},
   "source": [
    "### 1. Condicionales\n",
    "\n",
    "Los condicionales permiten ejecutar una instrucción o tomar una decisión si se cumple una determinada condición, dando como resultado un valor booleano de verdadero o falso. Las funciones más empleadas **<sup> 2 </sup>**:\n",
    "* <code>if</code>: donde si se cumple la expresión se ejecuta el bloque de sentencias seguidas.\n",
    "* <code>elif</code>: donde si no se cumplen las condiciones anteriores, se intenta con otra sentencia.\n",
    "* <code>else</code>:  donde la expresión booleana es falsa o no se cumple una condición tomar esta otra opción."
   ]
  },
  {
   "cell_type": "markdown",
   "metadata": {},
   "source": [
    "#### Estructura de un condicional:\n",
    "\n",
    "Por lo general un bloque de código de un condicional debe seguir la siguiente forma:\n",
    "\n",
    "```markdown\n",
    "if <condición_1>:\n",
    "    bloque código\n",
    "    \n",
    "elif <condición_2>:\n",
    "    bloque código\n",
    " ...\n",
    "else:\n",
    "    bloque código\n",
    "```"
   ]
  },
  {
   "cell_type": "markdown",
   "metadata": {},
   "source": [
    "Evalúa la expresión lógica condicion_1 y ejecuta el primer bloque de código si es `True`; si no, evalúa las siguientes condiciones hasta llegar a la primera que es `True` y ejecuta el bloque de código asociado. Si ninguna condición es `True` ejecuta el bloque de código después de `else`.\n",
    "\n",
    "*Observaciones*\n",
    "\n",
    "- Un condicional `if` no necesariamente necesita `elif` o `else`\n",
    "- Solo puede aparecer un `else`, y debe ir al final\n",
    "- Los bloques de código deben estar indentados por 4 espacios\n",
    "- El final del bloque condicional es cuando la línea vuelve al nivel anterior"
   ]
  },
  {
   "cell_type": "markdown",
   "metadata": {},
   "source": [
    "En ciertos escenarios se pueden tomar decisiones, como puede ser aumentar el valor de x ó en su defecto disminuir su valor"
   ]
  },
  {
   "cell_type": "code",
   "execution_count": null,
   "metadata": {},
   "outputs": [],
   "source": [
    "x = 1  # Valor inicial (pruebe cambiando este valor)\n",
    "\n",
    "# Condición\n",
    "if x == 1:            # Note que se usa un operador de comparación y se finaliza con dos puntos \":\"\n",
    "    print(\"La variable x es igual a 1\")\n",
    "else:\n",
    "    print(\"La variable x no es igual a 1\")"
   ]
  },
  {
   "cell_type": "markdown",
   "metadata": {},
   "source": [
    "Cuando se tiene una condición seguida de otra es posible unir el `else` y el `if` a través de `elif`, ejemplo:"
   ]
  },
  {
   "cell_type": "code",
   "execution_count": null,
   "metadata": {},
   "outputs": [],
   "source": [
    "x = 3  # Valor inicial (pruebe cambiando este valor)\n",
    "\n",
    "if x == 1:\n",
    "    print(\"La variable x es igual a 1\")\n",
    "elif x == 2:\n",
    "    print(\"La variable x es igual a 2\")\n",
    "else:\n",
    "    print(\"La variable x no es igual a 1 ni a 2\")"
   ]
  },
  {
   "cell_type": "markdown",
   "metadata": {},
   "source": [
    "En ocasiones se pueden incluir expresiones **if** anidadas tanto como sea necesario, no es recomendable como práctica de desarrollo de software, por ejemplo:"
   ]
  },
  {
   "cell_type": "code",
   "execution_count": null,
   "metadata": {},
   "outputs": [],
   "source": [
    "x = 2\n",
    "y = 2\n",
    "if x == 1:\n",
    "    if y == 2:\n",
    "       print(\"La variable x es igual a 1\")\n",
    "       print(\"La variable y es igual a 2\")\n",
    "elif x == 2:\n",
    "    if y == 2:\n",
    "        print(\"La variable x es igual a 2\")\n",
    "        print(\"La variable y es igual a 2\")\n",
    "else:\n",
    "    print(\"La variable x NO es igual a 1 ni a 2\")\n",
    "    print(\"La variable y NO es igual a 1 ni a 2\")"
   ]
  },
  {
   "cell_type": "markdown",
   "metadata": {},
   "source": [
    "### 2. Iteraciones\n",
    "Las iteraciones o bucles permiten repetir una porción del código las veces que sea necesario, mientras la condición booleana sea verdadera o falsa, en python se incluyen únicamente dos funciones **<sup> 3 </sup>**:\n",
    "* <code>while</code>: permite realizar múltiples iteraciones ejecutando un código mientras la condición sea verdadera.\n",
    "* <code>for</code>: permite iterar en orden sobre cada uno de los elementos de una secuencia, ya sea lista, tupla, diccionario, conjunto o cadena.\n"
   ]
  },
  {
   "cell_type": "markdown",
   "metadata": {},
   "source": [
    "#### Estructura de While:\n",
    "\n",
    "Por lo general un bloque de código While debe seguir la siguiente forma:\n",
    "\n",
    "```markdown\n",
    "while <condición>:\n",
    "    bloque de código\n",
    "```\n",
    "\n",
    "*Recordemos que en Python no es necesario la palabra clave `return` al final de un bloqué de código ya que la convención es que siempre se retorna la última línea del código.*"
   ]
  },
  {
   "cell_type": "code",
   "execution_count": null,
   "metadata": {},
   "outputs": [],
   "source": [
    "#### EJEMPLO 1\n",
    "# Aumentemos el valor de x hasta 10\n",
    "x = 1\n",
    "print('El valor inicial de x es:', x)\n",
    "\n",
    "while x < 10:\n",
    "    print(f'El nuevo valor de x es {x}')\n",
    "    x = x + 1\n",
    "    if x == 5:\n",
    "      break             # Break finaliza un bucle antes de que se cumpla con el while\n",
    "\n",
    "print('Al finalizar el bucle, el valor de x es:', x)"
   ]
  },
  {
   "cell_type": "markdown",
   "metadata": {},
   "source": [
    "#### Estructura For\n",
    "\n",
    "De la misma forma el bloque `for` sigue una estructura estandar para su definición:\n",
    "\n",
    "```markdown\n",
    "for <var> in <secuencia>:\n",
    "    bloque de código\n",
    "```\n",
    "\n",
    "*Recordemos: no es necesario la palabra clave `return` como en otros lenguajes.*"
   ]
  },
  {
   "cell_type": "code",
   "execution_count": null,
   "metadata": {},
   "outputs": [],
   "source": [
    "#### EJEMPLO 1\n",
    "for x in \"acidos nucleicos\":\n",
    "  print(x)"
   ]
  },
  {
   "cell_type": "code",
   "execution_count": null,
   "metadata": {},
   "outputs": [],
   "source": [
    "#### EJEMPLO 1 (continuación)\n",
    "acidos_nucleicos = [\"desoxirribonucleico\", \"ADN\", \"ribonucleico\", \"ARN\"]    # Se define una lista\n",
    "for x in acidos_nucleicos:          # Itera sobre cada elemento de la lista acidos_nucleicos y en cada iteración asigna el valor del elemento a la variable x.\n",
    "  if x == \"ARN\":                    # Verifica si el valor de x es igual a la cadena \"ARN\"\n",
    "    break                           # Si la condición x == \"ARN\" es verdadera, el bucle se interrumpe y no se ejecuta más\n",
    "  print(x)"
   ]
  },
  {
   "cell_type": "code",
   "execution_count": null,
   "metadata": {},
   "outputs": [],
   "source": [
    "#### EJEMPLO 2\n",
    "# Tomemos como ejemplo una lista de objetos, por ejemplo los tipos de codones y su código genético:\n",
    "código_genético= [\n",
    "    [\"GUU\", \"V\"], [\"GUC\", \"V\"], [\"GUA\", \"V\"], [\"GUG\", \"V\"], [\"GCU\", \"A\"], [\"GCC\", \"A\"],\n",
    "    [\"GCA\", \"A\"], [\"GCG\", \"A\"], [\"GAU\", \"D\"], [\"GAC\", \"D\"], [\"GAA\", \"E\"], [\"GAG\", \"E\"],\n",
    "    [\"GGU\", \"G\"], [\"GGC\", \"G\"], [\"GGA\", \"G\"], [\"GGG\", \"G\"], [\"AGA\", \"R\"], [\"AGG\", \"R\"],\n",
    "    [\"AGU\", \"S\"], [\"AGC\", \"S\"], [\"AAU\", \"N\"], [\"AAC\", \"N\"], [\"AAA\", \"K\"], [\"AAG\", \"K\"],\n",
    "    [\"ACU\", \"T\"], [\"ACC\", \"T\"], [\"ACA\", \"T\"], [\"ACG\", \"T\"], [\"AUU\", \"I\"], [\"AUC\", \"I\"],\n",
    "    [\"AUA\", \"I\"], [\"AUG\", \"M\"], [\"CGU\", \"R\"], [\"CGC\", \"R\"], [\"CGA\", \"R\"], [\"CGG\", \"R\"],\n",
    "    [\"CCU\", \"P\"], [\"CCC\", \"P\"], [\"CCA\", \"P\"], [\"CCG\", \"P\"], [\"CAU\", \"H\"], [\"CAC\", \"H\"],\n",
    "    [\"CAA\", \"Q\"], [\"CAG\", \"Q\"], [\"UUU\", \"F\"], [\"UUC\", \"F\"], [\"UUA\", \"L\"], [\"UUG\", \"L\"],\n",
    "    [\"UCU\", \"S\"], [\"UCC\", \"S\"], [\"UCA\", \"S\"], [\"UCG\", \"S\"], [\"UAU\", \"Y\"], [\"UAC\", \"Y\"],\n",
    "    [\"UAA\", \"STOP\"], [\"UAG\", \"STOP\"], [\"UGU\",\"C\"], [\"UGC\", \"C\"], [\"UGA\", \"STOP\"],\n",
    "    [\"UGG\", \"W\"], [\"CUU\", \"L\"], [\"CUC\", \"L\"], [\"CUA\", \"L\"], [\"CUG\", \"L\"]\n",
    "]\n",
    "\n",
    "# Se puede recorrer todos los elementos de la lista lista_prot e imprimir la proteína y su tipo:\n",
    "for codón in código_genético:\n",
    "    # Codón [0] hace referencia al primer elemento de la lista, en este caso el código genético\n",
    "    # Codón [1] hace referencia al segundo elemento de la lista, en este caso el aminoácido\n",
    "    print(f'El aminoácido de {codón[0]} es {codón[1]}') "
   ]
  },
  {
   "cell_type": "markdown",
   "metadata": {},
   "source": [
    "Podemos iterar los elementos de un diccionario a través de los pares `key-value` usando el método `.items()`."
   ]
  },
  {
   "cell_type": "code",
   "execution_count": null,
   "metadata": {},
   "outputs": [],
   "source": [
    "#### EJEMPLO 3: Uso de for para recorrer los elementos de un diccionario\n",
    "código_genético= {\n",
    "    \"GUU\": \"V\", \"GUC\": \"V\", \"GUA\": \"V\", \"GUG\": \"V\", \"GCU\": \"A\", \"GCC\": \"A\",\n",
    "    \"GCA\": \"A\", \"GCG\": \"A\", \"GAU\": \"D\", \"GAC\": \"D\", \"GAA\": \"E\", \"GAG\": \"E\",\n",
    "    \"GGU\": \"G\", \"GGC\": \"G\", \"GGA\": \"G\", \"GGG\": \"G\", \"AGA\": \"R\", \"AGG\": \"R\",\n",
    "    \"AGU\": \"S\", \"AGC\": \"S\", \"AAU\": \"N\", \"AAC\": \"N\", \"AAA\": \"K\", \"AAG\": \"K\",\n",
    "    \"ACU\": \"T\", \"ACC\": \"T\", \"ACA\": \"T\", \"ACG\": \"T\", \"AUU\": \"I\", \"AUC\": \"I\",\n",
    "    \"AUA\": \"I\", \"AUG\": \"M\", \"CGU\": \"R\", \"CGC\": \"R\", \"CGA\": \"R\", \"CGG\": \"R\",\n",
    "    \"CCU\": \"P\", \"CCC\": \"P\", \"CCA\": \"P\", \"CCG\": \"P\", \"CAU\": \"H\", \"CAC\": \"H\",\n",
    "    \"CAA\": \"Q\", \"CAG\": \"Q\", \"UUU\": \"F\", \"UUC\": \"F\", \"UUA\": \"L\", \"UUG\": \"L\",\n",
    "    \"UCU\": \"S\", \"UCC\": \"S\", \"UCA\": \"S\", \"UCG\": \"S\", \"UAU\": \"Y\", \"UAC\": \"Y\",\n",
    "    \"UAA\": \"STOP\", \"UAG\": \"STOP\", \"UGU\":\"C\", \"UGC\": \"C\", \"UGA\": \"STOP\",\n",
    "    \"UGG\": \"W\", \"CUU\": \"L\", \"CUC\": \"L\", \"CUA\": \"L\",\"CUG\": \"L\"}\n",
    "\n",
    "for codón, gen in código_genético.items():\n",
    "    # Tenemos dos variables: codón que toma valor del código genético y gen que toma el valor del aminoácido correspondiente\n",
    "    print(f\"El aminoácido de {codón} es {gen}\")"
   ]
  },
  {
   "cell_type": "markdown",
   "metadata": {},
   "source": [
    "# Teoría: Funciones\n",
    "\n",
    "A parte de las expresiones y funcionalidades nativas de Python conocidas hasta ahora a través del libro, existen otras que son muy relevantes y necesarias a la hora de escribir cualquier programa de computadora. Y hablamos de las **funciones**: Una función básicamente es un fragmento de código que se puede reutilizar, que tiene un nombre que la identifica, y recibe unos parámetros de entrada **<sup> 4 </sup>**. Las funciones por lo general no siempre devuelven un mismo resultado, ellas tienen un comportamiento basado en los valores de sus argumentos.\n",
    "\n",
    "A la hora de definir una función, es importante tener en cuenta que:\n",
    "\n",
    "1. Tener un nombre que explique a primera vista, el resultado y la operación que realiza.\n",
    "2. La mayoría de las funciones reciben uno o varios parámetros necesarios para realizar la operación, aunque pueden no recibir ninguno.\n",
    "3. Por lo general devuelven un resultado, aunque no siempre sucede.\n"
   ]
  },
  {
   "cell_type": "markdown",
   "metadata": {},
   "source": [
    "#### Estructura de una función:\n",
    "\n",
    "Por lo general un bloque de código de una función debe seguir la siguiente forma:\n",
    "\n",
    "```markdown\n",
    "def <nombre_función>(<parámetros>):\n",
    "    bloque código\n",
    "    bloque código\n",
    "    ...\n",
    "    retun <objeto>\n",
    "```"
   ]
  },
  {
   "cell_type": "markdown",
   "metadata": {},
   "source": [
    "Veamos un ejemplo:\n",
    "La siguiente función al ser ejecutada devuelve un dato del tipo `string` si la proteína se encuentra en el diccionario o en su defecto devuelve `None`."
   ]
  },
  {
   "cell_type": "code",
   "execution_count": null,
   "metadata": {},
   "outputs": [],
   "source": [
    "#### EJEMPLO 1: Verificación de existencia de codón de una lista de codones\n",
    "# Diccionario de treplite de nucleótidos y el aminoácido que este codifica:\n",
    "código_genético = {\"GUU\": \"V\", \"GUC\": \"V\", \"GUA\": \"V\", \"GUG\": \"V\", \"GCU\": \"A\", \"GCC\": \"A\", \"GCA\": \"A\", \"GCG\": \"A\",\n",
    "                \"GAU\": \"D\", \"GAC\": \"D\", \"GAA\": \"E\", \"GAG\": \"E\", \"GGU\": \"G\", \"GGC\": \"G\", \"GGA\": \"G\", \"GGG\": \"G\",\n",
    "                \"AGA\": \"R\", \"AGG\": \"R\", \"AGU\": \"S\", \"AGC\": \"S\", \"AAU\": \"N\", \"AAC\": \"N\", \"AAA\": \"K\", \"AAG\": \"K\",\n",
    "                \"ACU\": \"T\", \"ACC\": \"T\", \"ACA\": \"T\", \"ACG\": \"T\", \"AUU\": \"I\", \"AUC\": \"I\", \"AUA\": \"I\", \"AUG\": \"M\",\n",
    "                \"CGU\": \"R\", \"CGC\": \"R\", \"CGA\": \"R\", \"CGG\": \"R\", \"CCU\": \"P\", \"CCC\": \"P\", \"CCA\": \"P\", \"CCG\": \"P\",\n",
    "                \"CAU\": \"H\", \"CAC\": \"H\", \"CAA\": \"Q\", \"CAG\": \"Q\", \"UUU\": \"F\", \"UUC\": \"F\", \"UUA\": \"L\", \"UUG\": \"L\",\n",
    "                \"UCU\": \"S\", \"UCC\": \"S\", \"UCA\": \"S\", \"UCG\": \"S\", \"UAU\": \"Y\", \"UAC\": \"Y\", \"UAA\": \"STOP\", \"UAG\": \"STOP\",\n",
    "                \"UGU\": \"C\", \"UGC\": \"C\", \"UGA\": \"STOP\", \"UGG\": \"W\", \"CUU\": \"L\", \"CUC\": \"L\", \"CUA\": \"L\", \"CUG\": \"L\"}\n",
    "\n",
    "# Función que verifica si existe un codón definido en el diccionario y devuelve su código genético o en su defecto devuelve un valor None.\n",
    "def código_gen_de_codón(codón):        # Se define la función que tiene como argumento llamado \"codón\"\n",
    "    if codón in código_genético:       # Comprueba si el codón proporcionado está presente en el diccionario llamado código_genético\n",
    "        return código_genético[codón]  # Si el codón está en el diccionario código_genético, la función devuelve el valor correspondiente a ese codón\n",
    "\n",
    "# Ejecutar la función\n",
    "print(f'El aminiácido de GCG es: {código_gen_de_codón(\"GCG\")}')   # Se llama a la función código_gen_de_codón con el argumento \"GCG\""
   ]
  },
  {
   "cell_type": "markdown",
   "metadata": {},
   "source": [
    "*Observaciones*:\n",
    "* Toda función debe iniciar con la palabra clave **def** seguido del nombre, seguido de los parámetros entre paréntesis y finalizar la línea con dos puntos\n",
    "    * El nombre de la función es: **código_gen_de_codón**\n",
    "    * El parámetro que recibe la función es: **codón**\n",
    "* El cuerpo de la función esta indentado con cuatro espacios\n",
    "* Una vez creada la función se puede invocar con su nombre seguido de paréntesis y si es necesario enviar los parámetros por referencia.\n",
    "\n",
    "\n",
    "\n"
   ]
  },
  {
   "cell_type": "code",
   "execution_count": null,
   "metadata": {},
   "outputs": [],
   "source": [
    "#### EJEMPLO 2\n",
    "\n",
    "# Función que devuelva todos los tripletes que codifican para un aminoácido dado\n",
    "def encontrar_tripletes_para_aminoácido(aminoácido):   # Se define la función que tiene como argumento llamado \"aminoácido)\n",
    "    tripletes = []  # Creamos una lista vacía para almacenar los tripletes que codifican para el aminoácido\n",
    "    for codón, aa in código_genético.items():  # Recorre cada elemento del diccionario código_genético y en cada iteración la variable codón tomará la clave (el triplete de nucleótidos) y aa tomará el valor (el aminoácido)\n",
    "        if aa == aminoácido:  # Compara el valor del aminoácido (aa) con el aminoácido proporcionado como parámetro a la función (aminoácido).\n",
    "            tripletes.append(codón)  # Si el aminoácido del codón coincide con el aminoácido proporcionado, agregamos el codón a la lista tripletes\n",
    "    return tripletes  # Devolvemos la lista de tripletes que codifican para el aminoácido\n",
    "\n",
    "# Ejecutar la función\n",
    "print(f'Los tripletes que codifican para el aminoácido A son: {encontrar_tripletes_para_aminoácido(\"A\")}')"
   ]
  },
  {
   "cell_type": "markdown",
   "metadata": {},
   "source": [
    "Ahora realizemos una función que sea del tipo general y que nos sirva para encontrar cualquier proteína."
   ]
  },
  {
   "cell_type": "code",
   "execution_count": null,
   "metadata": {},
   "outputs": [],
   "source": [
    "#### EJEMPLO 3: Función que se encarga de encontrar una proteína a partir de RNA y un codón inicial.\n",
    "\n",
    "# Importa el módulo \"requests\", que se utiliza para realizar solicitudes HTTP en Python\n",
    "import requests\n",
    "\n",
    "# Se define una variable url que contiene la dirección URL de un archivo en formato FASTA que contiene una secuencia de ADN\n",
    "url = \"https://raw.githubusercontent.com/ramirezlab/CHEMO/main/1_PART_ONE/data/sec_CYP2C9.fasta\"\n",
    "\n",
    "# Se define la variable response la cual va a realizar una solicitud HTTP GET a la URL definida en la línea anterior utilizando la función get() del módulo requests.\n",
    "response = requests.get(url)\n",
    "\n",
    "# Se verifica si el código de estado de la respuesta HTTP es 200, lo que indica una solicitud exitosa.\n",
    "if response.status_code == 200:\n",
    "    sec_CYP2C9 = response.text     # Obtener el contenido del archivo desde la respuesta desde la respuesta HTTP y se guarda en la variable sec_CYP2C9\n",
    "    DNA_CYP2C9 = ''.join(sec_CYP2C9.split('\\n')[1:])  # Procesar la secuencia de ADN para eliminar la primera línea (que generalmente contiene metadatos en un archivo FASTA)\n",
    "    RNA_CYP2C9 = DNA_CYP2C9.replace(\"T\", \"U\")         # Se convierte la secuencia de ADN a ARN, reemplazando todas las timinas (T) por uracilos (U)"
   ]
  },
  {
   "cell_type": "code",
   "execution_count": null,
   "metadata": {},
   "outputs": [],
   "source": [
    "#### EJEMPLO 3 CONTINUACIÓN\n",
    "\n",
    "# Se define una función llamada rna_a_proteína que toma dos argumentos: una secuencia de ARN (rna) y un codón inicial\n",
    "def rna_a_proteína(rna, codón_inicial='AUG'):\n",
    "    run = True                               # Se inicializan las variables 'run' e 'i' que se usarán más adelante en el código\n",
    "    i = 0\n",
    "    for i in range(len(rna)):                # Se inicia un bucle 'for' para iterar sobre cada posición en la secuencia de ARN\n",
    "        if rna[i:i + 3] == codón_inicial:    # Se verifica si el codón de inicio coincide con el codón inicial especificado. Si es así, se recorta la secuencia de ARN desde ese punto.\n",
    "            rna = rna[i:]                    # Se recorta la secuencia de ARN desde el codón de inicio hasta el final.\n",
    "            break                            # Se sale del bucle for una vez que se encuentra el codón de inicio.\n",
    "        if i >= (len(rna) - 3):              # Se verifica si se llega al final de la secuencia de ARN sin encontrar el codón de inicio\n",
    "            print('No se encontró el codón de inicio AUG')  # Se imprime un mensaje de error y se asigna False a la variable run si no se encuentra el codón de inicio\n",
    "            rna = rna[i:i + 3]\n",
    "            run = False  \n",
    "            break\n",
    "\n",
    "    # Este código solo se ejecuta si se encontró el inicio de la proteína\n",
    "    if run:  # Se verifica si la variable run es True, lo que significa que se encontró el codón de inicio\n",
    "        i = 0  # Se reinicializan las variables 'i' y 'proteína' para comenzar la traducción.\n",
    "        proteína = list()\n",
    "        while i <= len(rna) - 2:  # Se itera sobre cada posición en la secuencia de ARN mientras queden al menos dos nucleótidos antes del final.\n",
    "            codón = código_genético[rna[i:i + 3]] # Se busca el codón en el diccionario 'código_genético' y se obtiene el aminoácido correspondiente\n",
    "            proteína.append(codón)   # Se agrega el aminoácido a la lista proteína\n",
    "            i += 3                   #  Se avanza al siguiente codón\n",
    "            if codón == 'STOP':      # Se verifica si se encuentra el codón de parada\n",
    "                print(f'>> Proteína encontrada')\n",
    "                rna = rna[i:]  # nuevo RNA (recortado)\n",
    "                proteína = proteína[:-1]\n",
    "                texto_proteína = ''.join(proteína)\n",
    "                print(f'proteína: {texto_proteína}')\n",
    "                break\n",
    "            if i >= (len(rna) - 3):\n",
    "                print('No se encontró el codón STOP')\n",
    "                rna = rna[i:i + 3]\n",
    "                break\n",
    "\n",
    "#Invocamos la función con los argumentos necesarios\n",
    "rna_a_proteína(RNA_CYP2C9, \"AUG\")"
   ]
  },
  {
   "cell_type": "markdown",
   "metadata": {},
   "source": [
    "# Referencias\n",
    "1. Tipos integrados. (2023). Python documentation. https://docs.python.org/3/library/stdtypes.html\n",
    "2. Más herramientas para control de flujo. (2023). Python documentation. https://docs.python.org/3/tutorial/controlflow.html\n",
    "3. Sentencias compuestas. (2023). Python documentation. https://docs.python.org/es/3/reference/compound_stmts.html#while\n",
    "4. Sentencias compuestas. (2023). Python documentation. https://docs.python.org/es/3/reference/compound_stmts.html#function-definitions"
   ]
  }
 ],
 "metadata": {
  "kernelspec": {
   "display_name": "Python 3 (ipykernel)",
   "language": "python",
   "name": "python3"
  },
  "language_info": {
   "codemirror_mode": {
    "name": "ipython",
    "version": 3
   },
   "file_extension": ".py",
   "mimetype": "text/x-python",
   "name": "python",
   "nbconvert_exporter": "python",
   "pygments_lexer": "ipython3",
   "version": "3.11.7"
  }
 },
 "nbformat": 4,
 "nbformat_minor": 4
}
