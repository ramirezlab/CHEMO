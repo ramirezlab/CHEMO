{
 "cells": [
  {
   "cell_type": "markdown",
   "metadata": {},
   "source": [
    "# Práctica 2: Expresión del material genético\n",
    "\n",
    "> **Nota:** Este libro esta disponible de dos maneras: \n",
    "> 1. Descargando el repositorio y siguiendo las instrucciones que estan en el archivo [README.md](https://github.com/ramirezlab/CHEMO/blob/main/README.md)\n",
    "> 2. Haciendo clic aquí en [![Open In Colab](https://colab.research.google.com/assets/colab-badge.svg)](https://colab.research.google.com/github/ramirezlab/CHEMO/blob/main/1_PART_ONE/1.3_Practica-2_y_Practica-3.es.ipynb) \n",
    "\n",
    "## Conceptos a trabajar\n",
    "\n",
    "La **traducción**, es la síntesis de una proteína a partir de la cadena de ARNm, esto ocurre dentro de unas proteínas llamadas ribosomas, durante este proceso, la secuencia de ARNm se lee en grupos de tres nucleótidos, llamados **codones**, los cuales, son interpretados por un **código genético** dando como resultado una codificación de aminoácido **<sup> 1 </sup>** (fig. 1), los cuales se plegarán y formarán las proteínas.\n",
    "\n",
    "<img src=\"img/Figura4-en-es.png\" alt=\"code\" width=\"1000\"/>\n",
    "\n",
    "*Figura 1. Código genético esencial en la expresión de proteínas donde se evidencia la formación de un codón a partir de un nucleótido (uracilo, adenina, guanina, o citocina), desde la secuencia de inicio (verde) y las de parada (rojo). Figura adaptada de: [Molecular biology of the gene, (2008), 15, 509-569]( https://books.google.com.co/books?id=7tadzgEACAAJ&dq=Molecular+biology+of+the+gene&hl=es-419&sa=X&redir_esc=y)*\n",
    "\n",
    "El ribosoma lee la secuencia en orden, buscando el codón de **inicio** AUG, el cual, a su vez codifica para el aminoácido de metionina y da comienzo a la traducción, al seguir avanzando construye la cadena de aminoácidos, es un proceso que repite muchas veces, en el que se leen las tripletas de nucleótidos y se adhiere el aminoácido correspondiente (fig. 3 libro 1.2). La cadena resultante puede ser largas o cortas, se direccionan hasta encontrar uno de los tres codones que codifican para el **stop** (UAA, UGA o UAG) (fig. 1), al sintetizarlo, la cadena se libera del ribosoma y es modificada o combinada para formar una proteína funcional con una estructura especifica involucrada en algún proceso esencial para la célula u organismo **<sup> 2 </sup>**."
   ]
  },
  {
   "cell_type": "markdown",
   "metadata": {},
   "source": [
    "## Planteamiento del problema\n",
    "Continuando con el objetivo general, de obtener información básica de la enzima del citocromo P450, proteina anteriormente trabajada. Para ello, vamos a realizar la segunda fase implicada en la expresión génica, con el fin obtener los aminoácidos que codifican para la proteína.\n",
    "\n",
    "Primero, debemos crear un diccionario en el que se encuentre el código genético, donde especifiquen los codones (tripletas de nucleótidos) que sintetiza su correspondiente aminoácido. Debemos tener en cuenta los pares `key-value`, donde las `key` serían los codones y los `value` los aminoácidos."
   ]
  },
  {
   "cell_type": "code",
   "execution_count": null,
   "metadata": {},
   "outputs": [],
   "source": [
    "# Diccionario de codones para la traduccion\n",
    "código_genetico = {\"GUU\": \"V\", \"GUC\": \"V\", \"GUA\": \"V\", \"GUG\": \"V\", \"GCU\": \"A\", \"GCC\": \"A\", \"GCA\": \"A\", \"GCG\": \"A\",\n",
    "                \"GAU\": \"D\", \"GAC\": \"D\", \"GAA\": \"E\", \"GAG\": \"E\", \"GGU\": \"G\", \"GGC\": \"G\", \"GGA\": \"G\", \"GGG\": \"G\",\n",
    "                \"AGA\": \"R\", \"AGG\": \"R\", \"AGU\": \"S\", \"AGC\": \"S\", \"AAU\": \"N\", \"AAC\": \"N\", \"AAA\": \"K\", \"AAG\": \"K\",\n",
    "                \"ACU\": \"T\", \"ACC\": \"T\", \"ACA\": \"T\", \"ACG\": \"T\", \"AUU\": \"I\", \"AUC\": \"I\", \"AUA\": \"I\", \"AUG\": \"M\",\n",
    "                \"CGU\": \"R\", \"CGC\": \"R\", \"CGA\": \"R\", \"CGG\": \"R\", \"CCU\": \"P\", \"CCC\": \"P\", \"CCA\": \"P\", \"CCG\": \"P\",\n",
    "                \"CAU\": \"H\", \"CAC\": \"H\", \"CAA\": \"Q\", \"CAG\": \"Q\", \"UUU\": \"F\", \"UUC\": \"F\", \"UUA\": \"L\", \"UUG\": \"L\",\n",
    "                \"UCU\": \"S\", \"UCC\": \"S\", \"UCA\": \"S\", \"UCG\": \"S\", \"UAU\": \"Y\", \"UAC\": \"Y\", \"UAA\": \"STOP\", \"UAG\": \"STOP\",\n",
    "                \"UGU\": \"C\", \"UGC\": \"C\", \"UGA\": \"STOP\", \"UGG\": \"W\", \"CUU\": \"L\", \"CUC\": \"L\", \"CUA\": \"L\", \"CUG\": \"L\"}\n",
    "\n",
    "print(f'Los codones son: \\n{list(código_genetico.keys())}')\n",
    "print('-----------------')\n",
    "print(f'Los aminoácidos son: \\n{list(código_genetico.values())}')"
   ]
  },
  {
   "cell_type": "markdown",
   "metadata": {},
   "source": [
    "## Estructuras de control\n",
    "A continuación, emplearemos las **estructuras de control** para poder analizar la secuencia de ARN del citocromo `ARN_CYP2C9` para sintetizar la proteína, siguiendo estos pasos:\n",
    "1. Identificar el inicio de la proteína: AUG\n",
    "2. Dividir de tres en tres\n",
    "3. Encontrar el stop (pueden ser varios, mirar diccionario)\n",
    "4. Imprimir la proteína: AUG(codones - de tres en tres)STOP"
   ]
  },
  {
   "cell_type": "code",
   "execution_count": null,
   "metadata": {},
   "outputs": [],
   "source": [
    "# Importa el módulo 'request'\", que se utiliza para realizar solicitudes HTTP en Python\n",
    "import requests\n",
    "\n",
    "# Se define una variable url que contiene la dirección URL de un archivo en formato FASTA que contiene una secuencia de ADN\n",
    "url = \"https://raw.githubusercontent.com/ramirezlab/CHEMO/main/1_PART_ONE/data/sec_CYP2C9.fasta\"\n",
    "\n",
    "# Se define la variable 'response' la cual va a realizar una solicitud HTTP GET a la URL definida en la línea anterior utilizando la función 'get()' del módulo requests.\n",
    "response = requests.get(url)\n",
    "\n",
    "# Se verifica si el código de estado de la respuesta HTTP es 200, lo que indica una solicitud exitosa.\n",
    "if response.status_code == 200:\n",
    "    sec_CYP2C9 = response.text                        # Obtener el contenido del archivo desde la respuesta HTTP y se guarda en la variable sec_CYP2C9\n",
    "    ADN_CYP2C9 = ''.join(sec_CYP2C9.split('\\n')[1:])  # Procesar la secuencia de ADN para eliminar la primera línea (que generalmente contiene metadatos en un archivo FASTA)\n",
    "    ARN_CYP2C9 = ADN_CYP2C9.replace(\"T\", \"U\")         # Se convierte la secuencia de ADN a ARN, reemplazando todas las timinas (T) por uracilos (U)\n",
    "    run = True\n",
    "    i = 0\n",
    "    for i in range(len(ARN_CYP2C9)):\n",
    "        if ARN_CYP2C9[i:i + 3] == 'AUG':  # Inicio de proteína encontrado\n",
    "            ARN_CYP2C9 = ARN_CYP2C9[i:]  # Recorte de secuencia. Nuevo ARN\n",
    "            break\n",
    "        if i >= (len(ARN_CYP2C9) - 3):  # Inicio de proteína NO encontrado\n",
    "            print('No se encontró el codón de inicio AUG')\n",
    "            ARN_CYP2C9 = ARN_CYP2C9[i:i + 3]\n",
    "            run = False\n",
    "            break\n",
    "\n",
    "    proteina = list()\n",
    "    if run:\n",
    "        i = 0\n",
    "        # Inicio de la traducción\n",
    "        while i <= len(ARN_CYP2C9) - 2:\n",
    "            codon = código_genetico[ARN_CYP2C9[i:i + 3]]\n",
    "            proteina.append(codon)\n",
    "            i += 3\n",
    "            if codon == 'STOP':\n",
    "                print(f'>> Proteína encontrada')\n",
    "                ARN_CYP2C9 = ARN_CYP2C9[i:]  # Nuevo ARN (recortado)\n",
    "                proteina = proteina[:-1]\n",
    "                texto_proteina = ''.join(proteina)\n",
    "                print(f'Proteina: {texto_proteina}')\n",
    "                break\n",
    "            if i >= (len(ARN_CYP2C9) - 3):\n",
    "                print('No se encontró el codón STOP')\n",
    "                ARN_CYP2C9 = ARN_CYP2C9[i:i + 3]\n",
    "                break\n",
    "\n",
    "else:\n",
    "    print(f\"Error al acceder al archivo. Código de estado: {response.status_code}\")\n"
   ]
  },
  {
   "cell_type": "code",
   "execution_count": null,
   "metadata": {},
   "outputs": [],
   "source": [
    "# la variable proteina guarda una lista con cada aminoácido\n",
    "print(proteina)"
   ]
  },
  {
   "cell_type": "markdown",
   "metadata": {},
   "source": [
    "## Conclusiones\n",
    "\n",
    "En este punto de la práctica, utilizamos diversos comandos y métodos con el fin de obtener una secuencia de aminoácidos a partir de un `strigns` de ADN, siendo este un proceso que puede emplearse en secuencias de nucleótidos de diferentes tamaños y de diferentes organismos.\n",
    "\n",
    "Así pues, para obtener los aminoácidos que componen las proteínas empelamos **arreglos** y **estructuras de control**, donde se obtuvo información básica de los aminoácidos de la proteína citocromo P450, la cual, emplearemos para clasificarlos y obtener información general de la enzima desde sus subunidades (práctica 3)."
   ]
  },
  {
   "cell_type": "markdown",
   "metadata": {},
   "source": [
    "# Práctica 3: Proteínas y aminoácidos\n",
    "## Conceptos a trabajar\n",
    "La diversidad funcional expresada por las proteínas, parten de la variedad molecular y la secuencia especifica que las componen. Los aminoácidos son subunidades de bajo peso molecular, los cuales, cumplen una función específica en la estructura de la proteína, por sus propiedades fisicoquímicas, como, polaridad, acidez o basicidad, aromaticidad, tamaño, capacidad de formar enlaces o su reactividad química **<sup> 3 </sup>** (Fig. 2). Por tal razón, pueden ser clasificados de diversas formas:\n",
    "\n",
    "1.\tPor la polaridad, la capacidad de interaccionar con moléculas de agua, dividiéndose en:\n",
    "\n",
    "   * Apolares: hidrofóbicos.\n",
    "   * Polares: hidrofílicos.\n",
    "   * Ácidos: carga negativa a pH.\n",
    "   * Básicos: carga positiva a pH fisiológico.\n",
    "\n",
    "<img src=\"img/Figura6-es.jpg\" alt=\"aminoácidos2\" width=\"900\"/>\n",
    "\n",
    "*Figura 2. Estructura y clasificación de los aminoácidos por su polaridad. Figura adaptada de: [A Brief Guide to the Twenty Common Amino Acids (2014)](https://www.compoundchem.com/2014/09/16/aminoacids/)*\n",
    "\n",
    "2. Por la conformación de su cadena latera, se pueden agrupar en:\n",
    "   * Alifáticos\n",
    "   * Aromáticos\n",
    "   * Hidroxiáminoacidos\n",
    "   * Tioaminoácidos\n",
    "   * Iminoácidos\n",
    "   * Dicarboxílicos\n",
    "   * Amidas\n",
    "   * Dibásicos\n",
    "\n",
    "Conocer las propiedades fisicoquímicas de las proteínas, han facilitado la predicción de sus estructuras secundarias, es decir, entender el plegamiento de las proteínas para la formación tridimensional a partir de la cadena de aminoácidos que la forman, esto mediante los posibles enlaces que establecen entre las subunidades y entre proteínas."
   ]
  },
  {
   "cell_type": "markdown",
   "metadata": {},
   "source": [
    "## Planteamiento del problema\n",
    "Para dar solución al objetivo general de la práctica, analizaremos 2 propiedades fisicoquímicas de la enzima del citocromo P450, empleando como guía la información de las figuras 6 y 7. De esta forma, obtendremos la información básica de la proteína, la cual, facilitaría una predicción de su plegamiento mediante el uso de las ciencias ómicas. Las propiedades que vamos a evaluar son:\n",
    "* Polaridad\n",
    "* Acidez o basicidad\n",
    "\n",
    "Antes de comenzar, debemos crear un diccionario de las propiedades fisicoquímicas que queremos evaluar, con la clasificación de cada aminoácido. Donde, las `key` serían los aminoácidos y los `value` las propiedades."
   ]
  },
  {
   "cell_type": "code",
   "execution_count": null,
   "metadata": {},
   "outputs": [],
   "source": [
    "#Diccionario de aminoácidos para su clasificación\n",
    "propiedades= {\"A\": \"Apolar\", \"V\": \"Apolar\", \"L\": \"Apolar\", \"G\": \"Apolar\", \"I\": \"Apolar\", \"F\": \"Apolar\",\"W\": \"Apolar\", \"M\": \"Apolar\", \"P\": \"Apolar\", \"S\": \"Polar\", \"T\": \"Polar\", \"Y\": \"Polar\", \"N\": \"Polar\", \"Q\": \"Polar\", \"C\": \"Polar\", \"D\": \"Ácidos\", \"E\": \"Ácidos\", \"K\": \"Básicos\", \"R\": \"Básicos\",  \"H\": \"Básicos\"}\n",
    "\n",
    "print(f'Los aminoácidos son: \\n{list(propiedades.keys())}')\n",
    "print('-----------------')\n",
    "print(f'Las propiedades son: \\n{set(propiedades.values())}')\n",
    "# se utiliza un conjunto a partir de la lista para que las propiedades no se repitan"
   ]
  },
  {
   "cell_type": "markdown",
   "metadata": {},
   "source": [
    "A continuación, vamos a crear la función `total_elements` para obtener el número de nucleótidos polares, apolares, ácidos y básicos presentes en la proteína.\n",
    "Se utilizará el módulo `collections.Counter` el cual organiza los elementos de una lista en un `Counter` que dice cuantas veces se repite cada elemento.\n",
    "El objeto `Counter` se puede comvertir luego en un `diccionario` donde podemos ver la infromación.\n",
    "\n",
    "`Counter` también tiene métodos útilies, por ejemplo: `.most_common(n)`, el cual retoARN el n-elemento más común del `Counter`.\n",
    "\n",
    "Mayor información https://docs.python.org/3/library/collections.html"
   ]
  },
  {
   "cell_type": "code",
   "execution_count": null,
   "metadata": {},
   "outputs": [],
   "source": [
    "def total_elements(lista_proteina):\n",
    "    # Se importa el módulo a utilizar\n",
    "    from collections import Counter\n",
    "    # Se crea una lista vacia donde se va a guardar la propiedad de cada aminoácido\n",
    "    list_propiedades_proteina = list()\n",
    "    contador = list()\n",
    "\n",
    "    # Se va a iterar por cada aminoácido de la proteína\n",
    "    for element in lista_proteina:\n",
    "\n",
    "        # Se busca la propiedad del aminoácido y se guarda en la lista (.append())\n",
    "        list_propiedades_proteina.append(propiedades[element])\n",
    "        # Se llama al método Counter para organizar los datos\n",
    "        contador = Counter(list_propiedades_proteina)\n",
    "    print(f'Resumen de propiedades de la proteína:')\n",
    "    print(f'Total elementos: {len(lista_proteina)}')\n",
    "    print(f'Frecuenca de las propiedades: {dict(contador)}')\n",
    "    print(f'Propiedad más común: {contador.most_common(1)[0]}')\n",
    "\n",
    "    return None\n"
   ]
  },
  {
   "cell_type": "code",
   "execution_count": null,
   "metadata": {},
   "outputs": [],
   "source": [
    "# Proteína encontrada en la actividad 2\n",
    "print(proteina)\n",
    "print('-----------')\n",
    "total_elements(proteina)"
   ]
  },
  {
   "cell_type": "markdown",
   "metadata": {},
   "source": [
    "Con esta información, ya conocemos la longitud de la secuencia de aminoácidos y las propiedades fisicoquímicas de su estructura, la cual cuenta con regiones tanto polares, como apolares, siendo esta última la más común, lo que nos permite tener una aproximación del carácter de los grupos funcionales con los que es tiende a hacer reacción."
   ]
  },
  {
   "cell_type": "markdown",
   "metadata": {},
   "source": [
    "## Actividad práctica\n",
    "\n",
    "Teniendo en cuenta lo revisado en esta primera parte, realice un codigo en python con el cual pueda: \n",
    "\n",
    "1. Realizar la transcripción y traducción del siguiente gen:\n",
    "   \n",
    "ACAAGTCTTTCCGCCTCCCCAGCCCGCCCGGGAGCTGCGAGCCGCGAGCTGGATTATGGTGGCCTGAGCAGCCAACGCAGCCGCAGGAGCCCGGAGCCCTTGCCCCTGCCCGCGC\n",
    "CGCCGCCCGCCGGGGGGACCAGGGAAGCCGCCACCGGCCCGCCATGCCCGCCCCTCCCAGCCCCGCCGGGAGCCCGCGCCCGCTGCCCAGGCTGGCCGCCGCCGTGCCGATGTAG\n",
    "CGGGCTCCGGATCCCAGCCTCTCCCCTGCTCCCGTGCTCTGCGGATCTCCCCTGACCGCTCTCCACAGCCCGGACCCGGGGGCTGGCCCAGGGCCCTGCAGGCCCTGGCGTCCTG\n",
    "ATGCCCCCAAGCTCCCTCTCCTGAGAAGCCACCAGCACCACCCAGACTTGGGGGCAGGCGCCAGGGACGGACGTGGGCCAGTGCGAGCCCAGAGGGCCCGAAGGCCGGGGCCCAC\n",
    "CATGGCCCAAGCCCTGCCCTGGCTCCTGCTGTGGATGGGCGCGGGAGTGCTGCCTGCCCACGGCACCCAGCACGGCATCCGGCTGCCCCTGCGCAGCGGCCTGGGGGGCGCCCCC\n",
    "CTGGGGCTGCGGCTGCCCCGGGAGACCGACGAAGAGCCCGAGGAGCCCGGCCGGAGGGGCAGCTTTGTGGAGATGGTGGACAACCTGAGGGGCAAGTCGGGGCAGGGCTACTACG\n",
    "TGGAGATGACCGTGGGCAGCCCCCCGCAGACGGTAAGGTGGTCAGGCCAGCCCTTAGCCCTCCGCCTGCATGAGCAGAGGGGAGACAGGATGGGGATGCCTCAAGCTAGCCCCTG\n",
    "CTCAAATGGGCTGGTGGGGACAGCAGGAGGGACCCCTCCCCAGCCATTCCCCGGGGGTCACGTGGTTGTTGGCAGAAGTGTTCCCAAGCTCCCCATTCCCTCCTCGTCTCCCCTG\n",
    "GCTGCCTAGTTCCCCTTGCTCCTCATCTGACACATACGCCGTCTGGAAGGATTTGAGGCAAGACAGACACATCAGCTGGGGACCCTGACCTGGAGGAAGGGTCCGCCACAGGGGC\n",
    "ACTATAACAGGTGTCAGCCCCCTCTGACAGTGGCCCAGTCCGAGTCTCCCAAATCCCACCACTCTAGAGGTTGGCCACCCAACCTTGTCCCCTCCTCTGATTCCCACCATTGTTC\n",
    "CCAGTACCTCCAGGACCAAGGAATCCTGGCAGCAGTTGAATAAGCACCTTGCTCCCACCATCTGGGCTGCCACTGGTACGGCAAAGTGAGGTTGTCGAGGCCCCCCTGACTGCAC\n",
    "TCCGCCCGGAAGCCCTGGACAGGCTCCTGCCGTCCCCTCCTCCTCCCCTTCTCCCTCTCGCGGTCTACACTCCGGCCCCTCCCCCACCCCACACCTCCCCAGGCCAGAGGGGAAC\n",
    "TGAACTGAGCCTGGTGAAAGAACAAATGGTAGGAAAGGAGCCAGAGCTCCCTTTTAAGAGTGGGACTCCTTCCATGGCGGGGGAGAGGGGAGTTACAGAGAAAACACTGTTATGC\n",
    "CCTCCCCATCCTTCCTGACAATCTCCAAGGTACCTTCAAGGTGGCTGGTGGAGGTGGCACCCTCTGCACCTCTGTGGGTGAGCAGCCCTCCATGTGGGGTGCTGTGGCTGACCTC\n",
    "TGTGTGCATCTGCCGCCTCTGTGGGGCAGTCCGGGCCCGGGCAGCCCTGTGGTTCTGTGTATGCTGGTGCGTGTCACCTTGAATCTGATCCTGCACATCTGTGAGCCACCTCCGG\n",
    "ATCTGTGTCTGGGAAGTCTGTCCTTGGGAGGGTCTGTGAAGGTGGGAGTGTGTTTGGGGTGGGCGGAGGGGACAGCCACACTTTCCTGAACTTCTCAGACAGCTGGATCTGGGAG\n",
    "AAACACAAACCCCCACCTCCCAATTACTTTACAGAAGCCAGCCTTCCTAGGTGCGTGCTCCCCAGCCCTACCTCTCAGCTAGTCGAAAGCCTGGTCTTCCCCACTTTCTCATCCT\n",
    "CTTTCCTGTGCACCATAACTTCCCCAGCAGTAGTCTCCAGTGGGAATTTGGGAGGGCAGGACAGAAGCCAAATCCAGGCCCTGAGCAAACAGAACGCTAGATGATATCGTCAGGG\n",
    "AGCAGCAGGTATGCAGAGACCTGGGACCTACTCCTGTTTCTGCGACTGACATGCTGTGCACACTGTGCATGGACCCCATGGCACGATGCAGGACGGGGCTGCAGAACCCACACAA\n",
    "GCTTTGAGGTCAGACAGTCCACGAATCCCAGCTCTACCACCCACAGCTTTTCCTCTTCTCAGCTGTGTGGCCTTGGGCAAATTGCATAACCTCTCTGAAACTACTGTCATATCTT\n",
    "TAAAATGAGTAGGAAATGAGACCTCCTTTGCAAGGTAATTGTGAGGATTAAGTTGTGAGGGTTAATTGTTCTAGGTGCTTTCACCCAGAACAATACACCAGCATATAAAACTGAC\n",
    "CTCCAACAAATATGAAGTCACTTTATCCTTGTCTGGCCTGTTCTGCCTCTTCAATTCTATGCAATGAGGCATAAAAACTCGGATGTCCTGGGCCTCCACGTTTTACATGTATAAA\n",
    "ACTGGGGTATCCTGTAATCCCAGCACTTTGGGGGGCCAAGGTGGGCAGATCACCTGAGGTCAGGAGTTCGAGACCAGCTTGGCTAACATAGCAAAACCCTGTTTCTACTAAAAAT\n",
    "ACAAAAATAATTCGCCGGGCCTGGTGGCATGCACCTGTAATCCCAGCTACTCAGGAGGCTGAGGCAGGAGAATCGCTTGAACCTGGGAGGCGGAGGTTGCAGTGAGACAAGATCG\n",
    "CACCATTGCCCTCCAGCCTGGGCAACAAGAGCAAAACTCTGTCTCAGAAAAAATAAAAACAAAAACAAAAACGGGGTATCCATTGCTGTACTTCCCTGATCCCCTGAAATAATGC\n",
    "ATACATCCTGCAGCCCAGTACTTAGCAGAGAGTAATTGCTCAATAAATGTCAGTTCCTTCCTCGTTCCTTTCTAGAAGAGGAAAGTGGGCTTAAAGTTCAACACCAGTCCAGGAA\n",
    "GCTAGTGCCAGGGAGCCCACAACTAAAGCAACTGTGTGGCTTGCACTATGATTTCTAACTAAGCCTGCATCAGCCAGTCTCTGCTCTCTGGTGGCTTGGACTCTCTCCCCATCTG\n",
    "TCTGTAAGAAGGACGCCCTTTCTTCCTACCTGGCGCGGCTGTTGTAAGTGCCAAATGAGAACTTGGATGGCATTGTATTCTGAACAAGAAAAAGTAAAATTTGGGGAGCACTTTC\n",
    "TCTGTGCTAGGCAATTAATTGGTGGTGCCTGGGGGCTGATCCACAAAGAGACAAGAAGACATGTTTTCTGCCCACATAGAGTTACAGTGGAAGTGAAAGGGCGGAAGTGACGAGT\n",
    "ACAAGGTCATCCATGCAGATATACTCAAAGCGAGGTCGGCAAACCCTCATTGGAGTCAGCTAAAAATGTAAATTCCCTGGCCCCATCCCTGACCTCTAGAGACAGGATCTCTGAC\n",
    "AGTGGGGCCCCGTAGTTTGTGCCTCAAATTTGAGAACCATTTATGGCTGGACGCGGTGGCTCACGCCTGTAATCCCAACACTTTGGGAGGCTGAGGCCGGCGGATCACCTGAGGT\n",
    "CAGGAGTTCGCGACCAGCCTGGCCAACGTGGTGAAACCCCATCTCTACGAAAAATGCAAAAATTATCTGGGCATG\n",
    "\n",
    "2. Realizar el cálculo de las propiedades de la nueva proteína (Número de aminoacidos que componen la proteina, clasificación de los aminoácidos y propiedad más común).\n",
    "\n",
    "\n",
    "Al finalizar deberá preparar un documento en formato PDF en el cual adjunte el codigo propuesto y la salida de la ejecución la cual deberá incluir la secuencia de la proteina, el número de aminoacidos que componen la proteina, clasificación de los aminoácidos y propiedad más común."
   ]
  },
  {
   "cell_type": "markdown",
   "metadata": {},
   "source": [
    "## Conclusiones\n",
    "En este tutorial, comprendido los usos de las herramientas básicas de Python empleadas en las prácticas bioinformáticas, que van desde el manejo y recopilación de datos, hasta el uso de comandos y métodos para su manipulación y análisis. Esto se realizó mediante dos fases, una teórica y una práctica, donde realizamos la expresión del material genético de una proteína desde una secuencia de ADN, hasta obtener los correspondientes aminoácidos y sus propiedades.\n",
    "En los próximos tutoriales, explicaremos más herramientas de Python utilizadas en la recopilación y organización de datos obtenidos de recursos electrónicos, implementando diferentes librerías y su desarrollo.\n"
   ]
  },
  {
   "cell_type": "markdown",
   "metadata": {},
   "source": [
    "# Referencias\n",
    "\n",
    "1. Translation. (2023). Genome.Gov. https://www.genome.gov/genetics-glossary/Translation\n",
    "2. Genetic code. (2023). Genome.Gov. https://www.genome.gov/genetics-glossary/Genetic-Code\n",
    "8. Cortés, G. & Aguilar-Ruiz, J. (2006). Importancia de las Propiedades Físico-Químicas de los Aminoácidos en la Predicción de Estructuras de Proteínas usando Vecinos más Cercanos"
   ]
  }
 ],
 "metadata": {
  "kernelspec": {
   "display_name": "Python 3 (ipykernel)",
   "language": "python",
   "name": "python3"
  },
  "language_info": {
   "codemirror_mode": {
    "name": "ipython",
    "version": 3
   },
   "file_extension": ".py",
   "mimetype": "text/x-python",
   "name": "python",
   "nbconvert_exporter": "python",
   "pygments_lexer": "ipython3",
   "version": "3.11.7"
  }
 },
 "nbformat": 4,
 "nbformat_minor": 4
}
