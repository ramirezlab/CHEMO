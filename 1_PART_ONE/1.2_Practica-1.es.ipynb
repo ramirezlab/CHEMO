{
 "cells": [
  {
   "cell_type": "markdown",
   "metadata": {},
   "source": [
    "# Práctica 1: Expresión del material genético\n",
    "\n",
    "> **Nota:** Este libro esta disponible de dos maneras: \n",
    "> 1. Descargando el repositorio y siguiendo las instrucciones que estan en el archivo [README.md](https://github.com/ramirezlab/CHEMO/blob/main/README.md)\n",
    "> 2. Haciendo clic aquí en [![Open In Colab](https://colab.research.google.com/assets/colab-badge.svg)](https://colab.research.google.com/github/ramirezlab/CHEMO/blob/main/1_PART_ONE/1.2_Practica-1.es.ipynb?hl=es)\n",
    "\n",
    "## Conceptos a trabajar\n",
    "\n",
    "Los **ácidos nucleicos** son la unidad básica que compone el material genético **<sup> 1 </sup>**. Están presentes en las células procariotas, eucariotas y virus. Se componen de pentosas, un grupo fosfato y bases nitrogenadas. Estas últimas están divididas en dos grupos: las purinas que son adenina (A) y guanina (G), y las pirimidinas que son citosina (C), la timina (T) y el uracilo (U)**<sup> 2 </sup>**. La unión de los ácidos nucleicos forma las macromoléculas esenciales para vida:\n",
    "\n",
    "<img src=\"img/Figura1-es.jpg\" alt=\"estructura\" width=\"600\"/>\n",
    "\n",
    "*Figura 1*. Estructura del ADN y ARN evidenciando sus características y los ácidos nucleicos que la componen. Elaboración propia\n",
    "\n",
    "**ADN (ácido desoxirribonucleico)**: Es una macromolécula encargada de almacenar y expresar la información genética esencial para las funciones de cualquier organismo, tiene una organización ordenada de cuatro bases nitrogenadas A, G, T y C, las cuales, forman una cadena de doble hélice antiparalela y complementaria, donde la A siempre se une a T, y G a C, si se modificara alguna base o su orden puede cambiar la información que codifica ese ADN **<sup> 3 </sup>**.\n",
    "\n",
    "**ARN (ácido ribonucleico)**: Es la macromolécula resultante de la transcripción del ADN, donde la T pasa a ser una U, es decir, es la copia determinada por la secuencia de una de las hebras de ADN **<sup> 4 </sup>**.\n",
    "\n",
    "Una de las funciones de la doble cadena de ADN es la expresión del material genético, es el proceso encargado de la síntesis de las proteínas que necesita la célula (fig. 2). Consta de dos fases principales, **transcripción** y **traducción** donde una secuencia de ADN codifica para una proteína en particular implicada en diferentes procesos como metabólicos o de identidad celular.\n",
    "\n",
    "<img src=\"img/Figura2-es.jpg\" alt=\"Transcripción-traducción\" width=\"600\"/>\n",
    "\n",
    "*Figura 2. Dogma central de la biología molecular, donde se evidencia la expresión del material genético, la transcripción de ADN a ARNm, traducción a aminoácidos y a la formación de la proteína. Figura modificada de:\n",
    "[Dogma](https://www.brainvta.tech/plus/list.php?tid=110).*\n",
    "\n",
    "La **transcripción** es el primer paso para la generación de proteínas, en la que a partir de una cadena de ADN, denominada como ADN molde, se sintetiza una de ARN por medio de la enzima ARN polimerasa, donde se establece una copia casi idéntica de la secuencia de ADN, con la variación de sustituir en toda la secuencia la T por el U, sin embargo, al igual que la T, el U se empareja con la A (fig. 3). En las células eucariotas, este primer transcrito, sufre un segundo proceso llamado “splicing” en el cual se eliminan fracciones específicas de la secuencia que no codifican proteínas. La transcripción es como traducir un libro de un idioma a otro **<sup> 5 </sup>**. \n",
    "\n",
    "<img src=\"img/Figura3-es.png\" alt=\"Transcripción\" width=\"600\"/>\n",
    "\n",
    "*Figura 3. Sintesis de ARNm, evidenciando la transcripción de ADN a ARN con la construcción de la cadena de ARNm a partir de la cadena molde de ADN, en ausencia de las enzimas implicadas. Figura modificada de: [Molecular biology of the gene, (2008), 13, 429-464]( https://books.google.com.co/books?id=7tadzgEACAAJ&dq=Molecular+biology+of+the+gene&hl=es-419&sa=X&redir_esc=y)*"
   ]
  },
  {
   "cell_type": "markdown",
   "metadata": {},
   "source": [
    "## Planteamiento del problema\n",
    "Supongamos que queremos obtener información básica de la enzima del citocromo P450, la cual codifica una proteína involucrada en el metabolismo de fármacos y la síntesis lípidos como de colesterol y esteroides. Para analizar la secuencia podemos emplear herramientas bioinformáticas, comenzaremos con la manipulación de <code>strings</code> de la secuencia, transcribiendo la secuencia de ADN a ARNm.\n",
    "\n",
    "Primero, debemos descargar el documento con el que se va a trabajar. Podemos hacer una búsqueda del gen en la base de datos de Genbank: buscamos la secuencia de ADN del citocromo P450, específicamente la subfamilia C9 de homo sapiens, ID: [NM_000771.4](https://www.ncbi.nlm.nih.gov/nuccore/NM_000771.4?report=genbank).\n",
    "\n",
    "Para descargar la secuencia, se selecciona el apartado **\"Fasta\"**, luego, en la sección **\"Send to\"** y luego **\"Complete Record\"**, se elige el archivo **(File)** y el formato para obtener la secuencia **(Fasta)**, posteriormente, se da clic en **\"Create File\"** y se descargar el documento. Para reconocer el archivo cambia el nombre del documento, en este caso \"sec_CYP2C9.fasta\".\n",
    "- *El archivo `sec_CYP2C9.fasta` lo puede encontrar en la carpeta `/data/`*\n",
    "\n",
    "A continuación, se carga el archivo para poder realizar el proceso de transcripción, para esto, se emplea el comando `with`, donde, la variable `GEN` está guardando un objeto (en este caso, un archivo). A estos objetos se les pueden llamar diferentes maneras. La línea `sec_CYP2C9 = (GEN.read())` guarda en la variable `sec_CYP2C9` un string con el contenido de la variable GEN."
   ]
  },
  {
   "cell_type": "markdown",
   "metadata": {},
   "source": [
    "### Secuencia NM_000771"
   ]
  },
  {
   "cell_type": "code",
   "execution_count": null,
   "metadata": {},
   "outputs": [],
   "source": [
    "# Importa el módulo \"requests\", que se utiliza para realizar solicitudes HTTP en Python\n",
    "import requests\n",
    "\n",
    "# Se define una variable url que contiene la dirección URL de un archivo en formato FASTA que contiene una secuencia de ADN\n",
    "url = \"https://raw.githubusercontent.com/ramirezlab/CHEMO/main/1_PART_ONE/data/sec_CYP2C9.fasta\"\n",
    "# Se define la variable 'response' la cual va a realizar una solicitud HTTP GET a la URL definida en la línea anterior utilizando la función 'get()' del módulo requests.\n",
    "response = requests.get(url)\n",
    "\n",
    "# Se verifica si el código de estado de la respuesta HTTP es 200, lo que indica una solicitud exitosa.\n",
    "if response.status_code == 200:  \n",
    "    sec_CYP2C9 = response.text                               # Obtener el contenido del archivo  desde la respuesta HTTP y se guarda en la variable sec_CYP2C9 \n",
    "    print(f'Tipo variable sec_CYP2C9: {type(sec_CYP2C9)}')   # Se imprime el tipo de la variable sec_CYP2C9 utilizando la función 'type()'\n",
    "else:                                                        # Se ejecuta si la solicitud HTTP no fue exitosa.\n",
    "    print(f\"Error al acceder al archivo. Código de estado: {response.status_code}\") # Se imprime un mensaje de error indicando que hubo un problema al acceder al archivo"
   ]
  },
  {
   "cell_type": "code",
   "execution_count": null,
   "metadata": {},
   "outputs": [],
   "source": [
    "print('El archivo descargado del GenBank del gen citocromo P450 es:')\n",
    "sec_CYP2C9"
   ]
  },
  {
   "cell_type": "markdown",
   "metadata": {},
   "source": [
    "Vemos que la variable `sec_CYP2C9` guardó una línea de texto con el **caracter especial** `\\n`. Este caracter siginifica *salto de línea*. Si imprimimos la secuencia se ve mejor:"
   ]
  },
  {
   "cell_type": "code",
   "execution_count": null,
   "metadata": {},
   "outputs": [],
   "source": [
    "print(sec_CYP2C9)"
   ]
  },
  {
   "cell_type": "markdown",
   "metadata": {},
   "source": [
    "## Manipulación de strings"
   ]
  },
  {
   "cell_type": "markdown",
   "metadata": {},
   "source": [
    "### Carga y manipulación de archivos de texto\n",
    "Al descargar una secuencia desde Genbak en formato fasta, la primera línea contiene las referencias de la secuencia y el texto está separado por `\\n`, con el siguiente procedimiento se puede limpiar el texto y dejar solamente la secuencia:\n",
    " - Emplear el método `.split()` que separa la cadena en una lista de elementos. A nosotros nos sirve separarla en los saltos de línea, que se representan con **'\\n'**.\n",
    " - Luego se debe eliminar el primer elemento (índice cero).\n",
    " - Finalmente volver a unir toda la cadena en un solo string, para esto, se emplea el método `.join()`"
   ]
  },
  {
   "cell_type": "code",
   "execution_count": null,
   "metadata": {},
   "outputs": [],
   "source": [
    "# 1. Separar la cadena por renglones\n",
    "sec_separada = sec_CYP2C9.split('\\n')\n",
    "print (\"Lista separada:\\n\", str (sec_separada))"
   ]
  },
  {
   "cell_type": "code",
   "execution_count": null,
   "metadata": {},
   "outputs": [],
   "source": [
    "# 2. Guardar la lista de elementos desde el segundo (índice 1) hasta el final, eliminando las referencias de la secuencia (índice 0).\n",
    "sec_separada = sec_separada[1:]\n",
    "# Ver la lista sin el primer elemento\n",
    "print(\"Lista separada, sin el primer renglón:\\n\" + str (sec_separada))"
   ]
  },
  {
   "cell_type": "code",
   "execution_count": null,
   "metadata": {},
   "outputs": [],
   "source": [
    "# Unir la cadena para recopilar la secuencia.\n",
    "ADN_CYP2C9 =(''.join(sec_separada))\n",
    "print('Secuencia final:')\n",
    "ADN_CYP2C9"
   ]
  },
  {
   "cell_type": "markdown",
   "metadata": {},
   "source": [
    "Todo el proceso, desde cargar el archivo, hasta limpiarlo y guardarlo en una variable se puede combinar en una sola celda:"
   ]
  },
  {
   "cell_type": "code",
   "execution_count": null,
   "metadata": {},
   "outputs": [],
   "source": [
    "import requests\n",
    "\n",
    "url = \"https://raw.githubusercontent.com/ramirezlab/CHEMO/main/1_PART_ONE/data/sec_CYP2C9.fasta\"\n",
    "response = requests.get(url)\n",
    "\n",
    "if response.status_code == 200:\n",
    "    sec_CYP2C9 = response.text\n",
    "    ADN_CYP2C9 = (''.join(sec_CYP2C9.split('\\n')[1:]))\n",
    "    print('Secuencia final:')\n",
    "    print(ADN_CYP2C9)\n",
    "else:\n",
    "    print(f\"Error al acceder al archivo. Código de estado: {response.status_code}\")"
   ]
  },
  {
   "cell_type": "markdown",
   "metadata": {},
   "source": [
    "### Indexación y secuencia de listas\n",
    "Para manejar datos de tipo `string` muy largos, se puede referenciar variables por la posición, desde diferentes secciones, empleando corchetes <code>\"[inicio:final]\"</code> para acceder a determinados elementos de una cadena.\n",
    "Veamos algunos ejemplos:"
   ]
  },
  {
   "cell_type": "markdown",
   "metadata": {},
   "source": [
    "#### Ejemplo 1\n",
    "Imprimir partes de la secuencia `ADN_CYP2C9`\n",
    "(_el conteo comienza desde cero_)\n",
    "*Observación*: En adelante trabajaremos con los `f-strings` que permiten hacer líneas cortas de texto con variables integradas. Más información en: [f-strings](https://platzi.com/blog/f-strings-en-python/?utm_source=google&utm_medium=cpc&utm_campaign=12915366154&utm_adgroup=&utm_content=&gclid=Cj0KCQjw3IqSBhCoARIsAMBkTb2p5ZOBtPtlGG2B7P0qrtnp8Wwvbgd2OY_F3_P-6OOU1YE_QHHCMaYaAnTaEALw_wcB&gclsrc=aw.ds), [f-strings](https://peps.python.org/pep-0498/)"
   ]
  },
  {
   "cell_type": "code",
   "execution_count": null,
   "metadata": {},
   "outputs": [],
   "source": [
    "print(f'El primer nucleótido de la secuencia es: {ADN_CYP2C9[0]}')\n",
    "\n",
    "print(f'Los primeros diez nucleótidos de la secuencia son: {ADN_CYP2C9[:10]}')"
   ]
  },
  {
   "cell_type": "code",
   "execution_count": null,
   "metadata": {},
   "outputs": [],
   "source": [
    "print(f'La secuencia que abarca 2 a 10 nucleótidos es: {ADN_CYP2C9[2:10]}')"
   ]
  },
  {
   "cell_type": "code",
   "execution_count": null,
   "metadata": {},
   "outputs": [],
   "source": [
    "print(f'La secuencia de nucleótidos desde la posición 1100 es: {ADN_CYP2C9[1100:]}')"
   ]
  },
  {
   "cell_type": "code",
   "execution_count": null,
   "metadata": {},
   "outputs": [],
   "source": [
    "# Al emplear índices negativos se comienza a contar desde el final del String, útil en documentos extensos\n",
    "print(f'Los últimos 25 nucleótidos de la secuencia son: {ADN_CYP2C9[-25:]}')"
   ]
  },
  {
   "cell_type": "code",
   "execution_count": null,
   "metadata": {},
   "outputs": [],
   "source": [
    "print(f'total de nucleótidos: {len(ADN_CYP2C9)}')"
   ]
  },
  {
   "cell_type": "markdown",
   "metadata": {},
   "source": [
    "### Transcripción ADN\n",
    "Lo segundo que vamos a realizar es el proceso de **transcripción**, siendo la primera fase de la expresión génica. Para ello, sustituiremos en toda la secuencia la timina (T) por el uracilo (U). Empleando el método de String <code>.replace()</code>, obteniendo la secuencia de ARNm, que será sintetizado en una proteína."
   ]
  },
  {
   "cell_type": "code",
   "execution_count": null,
   "metadata": {},
   "outputs": [],
   "source": [
    "# Transcripción de la secuencia de marmota de ADN a ARN, empleando la función \".replace()\"\n",
    "ARN_CYP2C9 = ADN_CYP2C9.replace(\"T\",\"U\")\n",
    "print (\"Secuencia ARNm:\\n\", str(ARN_CYP2C9))"
   ]
  },
  {
   "cell_type": "markdown",
   "metadata": {},
   "source": [
    "Podemos contar cuántas veces se realizó el cambio"
   ]
  },
  {
   "cell_type": "code",
   "execution_count": null,
   "metadata": {},
   "outputs": [],
   "source": [
    "ARN_CYP2C9.count('U')"
   ]
  },
  {
   "cell_type": "markdown",
   "metadata": {},
   "source": [
    "## Manipulación de strings de gran tamaño\n",
    "\n",
    "Las herramientas que vimos anteriormente se pueden aplicar en archivos pesados y con secuencias largas, como es el caso del genoma completo de la Marmota monax, ID: [JAIQCD010000022.1](https://www.ncbi.nlm.nih.gov/nuccore/JAIQCD010000022.1?report=fasta), gen que se irá trabajando en lo que queda de este cuaderno.\n",
    "\n",
    "El archivo está en la ubicación `data/ADN_marmota.fasta`, a continuación se muestra como se puede cargar y guardar en la variable `ADN_marmota`"
   ]
  },
  {
   "cell_type": "code",
   "execution_count": null,
   "metadata": {},
   "outputs": [],
   "source": [
    "import requests\n",
    "\n",
    "url = \"https://raw.githubusercontent.com/ramirezlab/CHEMO/main/1_PART_ONE/data/dna_marmota.fasta\"\n",
    "response = requests.get(url)\n",
    "\n",
    "if response.status_code == 200:\n",
    "    ADN_marmota = ''.join((response.text).split('\\n')[1:])\n",
    "    print(f'La secuencia del genoma de marmota tiene {len(ADN_marmota)} nucleótidos')\n",
    "    print(f'Los primeros 100 nucleótidos del genoma de marmota son: {ADN_marmota[:100]}')\n",
    "else:\n",
    "    print(f\"Error al acceder al archivo. Código de estado: {response.status_code}\")"
   ]
  },
  {
   "cell_type": "code",
   "execution_count": null,
   "metadata": {},
   "outputs": [],
   "source": [
    "# Transcripción de la secuencia de marmota de ADN a ARN, empleando la función \".replace()\"\n",
    "ARN_marmota = ADN_marmota.replace(\"T\",\"U\")\n",
    "print(\"Los primeros nucleótidos de la secuencia de ARN son: \"+ (ARN_marmota[:1000]))"
   ]
  },
  {
   "cell_type": "markdown",
   "metadata": {},
   "source": [
    "## Conclusiones\n",
    "En esta primera práctica, se emplearon comandos y métodos relacionados con la manipulación de `strings` de archivos de diferentes tamaños. Se trabajó con dos cadenas de ADN diferentes, donde vimos las herramientas que se pueden implementar en las prácticas biológicas\n",
    "\n",
    "Al mismo tiempo, se obtuvo información básica del genoma completo del citocromo P450, partiendo de la cadena de ADN para obtener el ARNm de la secuencia, la cual, será traducida a aminoácidos (práctica 2)."
   ]
  },
  {
   "cell_type": "markdown",
   "metadata": {},
   "source": [
    "# Referencias\n",
    "1. Nucleic acids. (2023). Genome.Gov. https://www.genome.gov/genetics-glossary/Nucleic-Acids\n",
    "2. Base pair. (2023). Genome.Gov. https://www.genome.gov/genetics-glossary/Base-Pair\n",
    "3. Deoxyribonucleic acid (ADN). (2023). Genome.Gov. https://www.genome.gov/genetics-glossary/Deoxyribonucleic-Acid\n",
    "4. Ribonucleic acid(ARN). (2023). Genome.Gov. https://www.genome.gov/genetics-glossary/ARN-Ribonucleic-Acid\n",
    "5. Transcription. (2023). Genome.Gov. https://www.genome.gov/genetics-glossary/Transcription"
   ]
  }
 ],
 "metadata": {
  "kernelspec": {
   "display_name": "Python 3 (ipykernel)",
   "language": "python",
   "name": "python3"
  },
  "language_info": {
   "codemirror_mode": {
    "name": "ipython",
    "version": 3
   },
   "file_extension": ".py",
   "mimetype": "text/x-python",
   "name": "python",
   "nbconvert_exporter": "python",
   "pygments_lexer": "ipython3",
   "version": "3.11.7"
  }
 },
 "nbformat": 4,
 "nbformat_minor": 4
}
