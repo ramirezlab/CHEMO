{
 "cells": [
  {
   "cell_type": "markdown",
   "id": "04d0f1c7",
   "metadata": {},
   "source": [
    "# Introducción: Pandas\n",
    "\n",
    "Antes de introducir el concepto de Dataframes es importante dar paso a un componente primordial hoy día en el ecosistema de Python Y son las librerías o paquetes desarrollados por terceros, si bien en la parte I, se habló de varias de las funcionalidades built-in en Python, ahora es el momento de introducir una de las librerías más famosas y su nombre es Panda, la cual nos sirve para desarrolladas programas que permitan analizar y manipular datos en gran escala.  Pero antes de llegar al concepto de Dataframe es importante entender los siguientes temas:\n",
    "\n",
    "1.\tNumpy Arrays\n",
    "2.\tSeries"
   ]
  },
  {
   "cell_type": "markdown",
   "id": "4d720d73",
   "metadata": {},
   "source": [
    "## Teoria: Numpy Array\n",
    "\n",
    "Numpy es una libreria o paquete desarrollado por terceros y que se usa extensivamente en proyectos de machine learning. Para la parte dos estaremos usando la libreria que ya viene instalada dentro del proyecto de Anaconda, en este caso dirijase a la parte de instalacion y creacion del ambiente virtual.\n",
    "\n",
    "En este parte del libron estaremos hablando de uno de las caracteristicas de la libreria mas populares y que tienen por nombre Numpy Array, veran la importancia de esta funcionalidad a lo largo del libro y porque de uso en el universo cientifico de Python.\n",
    "\n",
    "Para empezar, importaremos la libreria y creamos nuestro primer Numpy Array:\n",
    "\n",
    "* Aqui la idea es mencionar las ventajas y caracteristicas comparado con las listas que tienen los arreglos de numy\n",
    "* La operacion de suma, adicion, resta y multiplicacion\n"
   ]
  },
  {
   "cell_type": "code",
   "execution_count": 3,
   "id": "ff6c629d",
   "metadata": {},
   "outputs": [
    {
     "data": {
      "text/plain": [
       "array([ 0,  1,  2,  3,  4,  5,  6,  7,  8,  9, 10])"
      ]
     },
     "execution_count": 3,
     "metadata": {},
     "output_type": "execute_result"
    }
   ],
   "source": [
    "# Se importa la libreria numpy y se renombra como es de constumbre a np. Por lo general el acronimo para la libreria numpy es np.\n",
    "import numpy as np\n",
    "\n",
    "# Se crea el arreglo de numeros del 1-10\n",
    "nums = np.array([0, 1, 2, 3, 4, 5, 6, 7, 8, 9, 10])\n",
    "\n",
    "# Se imprime el valor del arreglo\n",
    "nums"
   ]
  },
  {
   "cell_type": "markdown",
   "id": "b4facdf3",
   "metadata": {},
   "source": [
    "**Vale la pena mencionar que un array de Numpy se parece mucho a una lista de Python.** La diferencia principal radica en el tipo de operaciones de orden matematico que se pueden realizar sobre un arreglo de Numpy y las listas nativas de Python.\n",
    "\n",
    "Miremos esto de que se trata intentemos sumar los elementos de una lista nativa Python:"
   ]
  },
  {
   "cell_type": "code",
   "execution_count": 4,
   "id": "805faa73",
   "metadata": {},
   "outputs": [
    {
     "data": {
      "text/plain": [
       "[0, 1, 2, 3, 4, 5, 6, 7, 8, 9, 10, 0, 1, 2, 3, 4, 5, 6, 7, 8, 9, 10]"
      ]
     },
     "execution_count": 4,
     "metadata": {},
     "output_type": "execute_result"
    }
   ],
   "source": [
    "# Lista nativa de python, con los numeros del 1-10\n",
    "nums = [0, 1, 2, 3, 4, 5, 6, 7, 8, 9, 10]\n",
    "\n",
    "# Suma de los elementos de la lista\n",
    "nums + nums"
   ]
  },
  {
   "cell_type": "code",
   "execution_count": null,
   "id": "677499f5",
   "metadata": {},
   "outputs": [],
   "source": [
    "Como se evidencia los elementos de la lista se duplicaron en una lista de mayor tamano, Pasara lo mismo con un arreglo de Numpy? Veamoslo:"
   ]
  },
  {
   "cell_type": "code",
   "execution_count": 5,
   "id": "12b04833",
   "metadata": {},
   "outputs": [
    {
     "data": {
      "text/plain": [
       "array([ 0,  2,  4,  6,  8, 10, 12, 14, 16, 18, 20])"
      ]
     },
     "execution_count": 5,
     "metadata": {},
     "output_type": "execute_result"
    }
   ],
   "source": [
    "import numpy as np\n",
    "\n",
    "# Se crea el arreglo de numeros del 1-10\n",
    "nums = np.array([0, 1, 2, 3, 4, 5, 6, 7, 8, 9, 10])\n",
    "\n",
    "# Se suman los elementos del arreglo de Numpy\n",
    "nums + nums"
   ]
  },
  {
   "cell_type": "markdown",
   "id": "4ecdfeab",
   "metadata": {},
   "source": [
    "Se mantuvo el tamano de la lista, pero sus elementos fueron sumados, y es aqui el potencial y la simpleza de los arreglos de Numpy, y porque de uso en el mundo cientifico, miremos su codigo equivalente con las lista de Python:"
   ]
  },
  {
   "cell_type": "code",
   "execution_count": 8,
   "id": "903532ab",
   "metadata": {},
   "outputs": [
    {
     "data": {
      "text/plain": [
       "[0, 2, 4, 6, 8, 10, 12, 14, 16, 18, 20]"
      ]
     },
     "execution_count": 8,
     "metadata": {},
     "output_type": "execute_result"
    }
   ],
   "source": [
    "# Lista por compresion con adicion de sus elementos\n",
    "[x + x for x in [0, 1, 2, 3, 4, 5, 6, 7, 8, 9, 10]]"
   ]
  },
  {
   "cell_type": "markdown",
   "id": "70da365b",
   "metadata": {},
   "source": [
    "No creemos que sea complicado estar creando listas de *comprension de python* pero claramente se reducirian las lineas de codigo en nuestro programa.\n",
    "\n",
    "Veamos que pasaria con las demas operaciones, empezando con la resta:"
   ]
  },
  {
   "cell_type": "code",
   "execution_count": 9,
   "id": "e4f82257",
   "metadata": {},
   "outputs": [
    {
     "data": {
      "text/plain": [
       "array([0, 0, 0, 0, 0, 0, 0, 0, 0, 0, 0])"
      ]
     },
     "execution_count": 9,
     "metadata": {},
     "output_type": "execute_result"
    }
   ],
   "source": [
    "import numpy as np\n",
    "\n",
    "# Se crea el arreglo de numeros del 1-10\n",
    "nums = np.array([0, 1, 2, 3, 4, 5, 6, 7, 8, 9, 10])\n",
    "\n",
    "# Se suman los elementos del arreglo de Numpy\n",
    "nums - nums"
   ]
  },
  {
   "cell_type": "markdown",
   "id": "637b0086",
   "metadata": {},
   "source": [
    "Con el arreglo de Numpy obtendriamos 0, y tiene todo el sentido, ya que $0-0 = 0$, $1-1 = 0$, $...$, $n-n=0$, para una arreglo numpy de n tamanos, ahora que pasaria con la multiplicacion, pero antes que pasaria con la resta de una lista nativa de Python:"
   ]
  },
  {
   "cell_type": "code",
   "execution_count": 10,
   "id": "3dd923dd",
   "metadata": {},
   "outputs": [
    {
     "ename": "TypeError",
     "evalue": "unsupported operand type(s) for -: 'list' and 'list'",
     "output_type": "error",
     "traceback": [
      "\u001b[0;31m---------------------------------------------------------------------------\u001b[0m",
      "\u001b[0;31mTypeError\u001b[0m                                 Traceback (most recent call last)",
      "Input \u001b[0;32mIn [10]\u001b[0m, in \u001b[0;36m<cell line: 2>\u001b[0;34m()\u001b[0m\n\u001b[1;32m      1\u001b[0m nums \u001b[38;5;241m=\u001b[39m [\u001b[38;5;241m0\u001b[39m, \u001b[38;5;241m1\u001b[39m, \u001b[38;5;241m2\u001b[39m, \u001b[38;5;241m3\u001b[39m, \u001b[38;5;241m4\u001b[39m, \u001b[38;5;241m5\u001b[39m, \u001b[38;5;241m6\u001b[39m, \u001b[38;5;241m7\u001b[39m, \u001b[38;5;241m8\u001b[39m, \u001b[38;5;241m9\u001b[39m, \u001b[38;5;241m10\u001b[39m]\n\u001b[0;32m----> 2\u001b[0m \u001b[43mnums\u001b[49m\u001b[43m \u001b[49m\u001b[38;5;241;43m-\u001b[39;49m\u001b[43m \u001b[49m\u001b[43mnums\u001b[49m\n",
      "\u001b[0;31mTypeError\u001b[0m: unsupported operand type(s) for -: 'list' and 'list'"
     ]
    }
   ],
   "source": [
    "nums = [0, 1, 2, 3, 4, 5, 6, 7, 8, 9, 10]\n",
    "nums - nums"
   ]
  },
  {
   "cell_type": "markdown",
   "id": "3944ec26",
   "metadata": {},
   "source": [
    "Claramente el operador de resta  $(-)$ no es soportado por las listas nativas, y ahora sigamos con la multplicacion:"
   ]
  },
  {
   "cell_type": "code",
   "execution_count": 13,
   "id": "fff8ad8d",
   "metadata": {},
   "outputs": [
    {
     "data": {
      "text/plain": [
       "array([  0,   1,   4,   9,  16,  25,  36,  49,  64,  81, 100])"
      ]
     },
     "execution_count": 13,
     "metadata": {},
     "output_type": "execute_result"
    }
   ],
   "source": [
    "import numpy as np\n",
    "\n",
    "# Se crea el arreglo de numeros del 1-10\n",
    "nums = np.array([0, 1, 2, 3, 4, 5, 6, 7, 8, 9, 10])\n",
    "\n",
    "# Se suman los elementos del arreglo de Numpy\n",
    "nums * nums"
   ]
  },
  {
   "cell_type": "markdown",
   "id": "ba36c0a7",
   "metadata": {},
   "source": [
    "Obtendriamos el comportamiento similar y el esperado al de las demas operaciones, como tambien seria el caso de la division:\n"
   ]
  },
  {
   "cell_type": "code",
   "execution_count": 14,
   "id": "e8c59a3d",
   "metadata": {},
   "outputs": [
    {
     "name": "stderr",
     "output_type": "stream",
     "text": [
      "/tmp/ipykernel_1872/3848183508.py:7: RuntimeWarning: invalid value encountered in true_divide\n",
      "  nums / nums\n"
     ]
    },
    {
     "data": {
      "text/plain": [
       "array([nan,  1.,  1.,  1.,  1.,  1.,  1.,  1.,  1.,  1.,  1.])"
      ]
     },
     "execution_count": 14,
     "metadata": {},
     "output_type": "execute_result"
    }
   ],
   "source": [
    "import numpy as np\n",
    "\n",
    "# Se crea el arreglo de numeros del 1-10\n",
    "nums = np.array([0, 1, 2, 3, 4, 5, 6, 7, 8, 9, 10])\n",
    "\n",
    "# Se suman los elementos del arreglo de Numpy\n",
    "nums / nums"
   ]
  },
  {
   "cell_type": "markdown",
   "id": "805fdf89",
   "metadata": {},
   "source": [
    "Notemos que, si bien se opero la division en la mayoria de los elementos del arreglo en el primero $0/0$ nos arrojo un error, ya que estamos tratando de realizar una division sobre $0$, la cual no es soportada, pero a nuestro favor los demas elementos lograron ser divisibles por su mismo elemento obteniendo en todos los demas casos $1.0$.\n",
    "\n",
    "Si bien las listas de comprehension de Python podrian ayudarnos a emular estas operaciones incluidas nativamente sobre la libreria de Numpy, evidentemente no seria posible si quiero operar mas de dos listas a la vez, veamos el ejemplo:"
   ]
  },
  {
   "cell_type": "code",
   "execution_count": 22,
   "id": "56e07ede",
   "metadata": {},
   "outputs": [
    {
     "data": {
      "text/plain": [
       "array([ 0, 56, 56, 35, 35,  2,  0, 18, 54, 42])"
      ]
     },
     "execution_count": 22,
     "metadata": {},
     "output_type": "execute_result"
    }
   ],
   "source": [
    "# Se importa la libreria de Numpy\n",
    "import numpy as np\n",
    "\n",
    "# Se genera un arreglo de Numpy con numeros aleatorios del 1-10 y de tamano 10.\n",
    "x = np.random.choice(10, 10)\n",
    "\n",
    "# Se realiza la misma operacion sobre y\n",
    "y = np.random.choice(10, 10)\n",
    "\n",
    "# El resultado dado por la multiplicacionde estos dos arreglos seria\n",
    "x * y"
   ]
  },
  {
   "cell_type": "markdown",
   "id": "8aaefda7",
   "metadata": {},
   "source": [
    "Ahora pensemos por un segundo que nuestro arreglo de numpy es muy grande, como por ejemplo:"
   ]
  },
  {
   "cell_type": "code",
   "execution_count": 26,
   "id": "e3272eb3",
   "metadata": {},
   "outputs": [
    {
     "data": {
      "text/plain": [
       "array([18, 18,  0, ..., 40,  0, 15])"
      ]
     },
     "execution_count": 26,
     "metadata": {},
     "output_type": "execute_result"
    }
   ],
   "source": [
    "x = np.random.choice(10, 100000)\n",
    "y = np.random.choice(10, 100000)\n",
    "\n",
    "x * y"
   ]
  },
  {
   "cell_type": "markdown",
   "id": "761f8de6",
   "metadata": {},
   "source": [
    "Y magicamente Numpy multiplico un arreglo de $100000$ elementos en un abrir y cerrar de ojos. Con esto vemos el potencial matematico de la libreria comparado con las funciones nativas de Pytho."
   ]
  },
  {
   "cell_type": "markdown",
   "id": "14e53783",
   "metadata": {},
   "source": [
    "\n",
    "\n",
    "## Teoria: Series\n",
    "\n",
    "Antes de hablar de *Dataframes* es importante que hagamos un pequeno repaso de **Series**, con el cual empezaremos a interactuar con la libreria de Pandas, al mismo tiempo que nos iremos ganando confianza para abordar los temas interesantes del universo de la manipulacion de datos tipos tabulares.\n",
    "\n",
    "Que es una Serie? Que seria una Serie en el universo de los pandas? Como se crea una Serie? Veamos las respuestas a estas preguntas:\n",
    "\n"
   ]
  },
  {
   "cell_type": "code",
   "execution_count": 32,
   "id": "f2fb8895",
   "metadata": {},
   "outputs": [
    {
     "data": {
      "text/plain": [
       "Gluten       Vegetal\n",
       "Gelatina      Animal\n",
       "Queratina    Vegetal\n",
       "Pectina      Vegetal\n",
       "Colágeno     Vegetal\n",
       "dtype: object"
      ]
     },
     "execution_count": 32,
     "metadata": {},
     "output_type": "execute_result"
    }
   ],
   "source": [
    "# Se importa la libreria de Pandas\n",
    "import pandas as pd\n",
    "\n",
    "# Se crea un diccionario nativo de Python (Como lo vimos en el libro 1)\n",
    "proteinas = {'Gluten': 'Vegetal', 'Gelatina': 'Animal', 'Queratina': 'Vegetal', 'Pectina': 'Vegetal', 'Colágeno': 'Vegetal' };\n",
    "\n",
    "# Se crea una serie de proteinas de panda a partir del diccionario de proteinas\n",
    "serie_de_proteinas = pd.Series(proteinas)\n",
    "\n",
    "# Se imprime la serie creada\n",
    "serie_de_proteinas"
   ]
  },
  {
   "cell_type": "markdown",
   "id": "f7188555",
   "metadata": {},
   "source": [
    "Como ven, se imprimio la serie creada a partir de las proteinas, con sus respectivos valor en la columna, ahora bien podriamos manipular la serie como lo hicimos con las listas nativas de Python miremos como se haria:"
   ]
  },
  {
   "cell_type": "code",
   "execution_count": 43,
   "id": "69d898a9",
   "metadata": {},
   "outputs": [
    {
     "name": "stdout",
     "output_type": "stream",
     "text": [
      "Tipo de proteina de Gluten: Vegetal\n",
      "Fila 2 de la serie de proteinas: \n",
      "Gelatina    Animal\n",
      "dtype: object\n",
      "Indexacion del final al principio, en este se excluiria el Colágeno: \n",
      "Gluten       Vegetal\n",
      "Gelatina      Animal\n",
      "Queratina    Vegetal\n",
      "dtype: object\n"
     ]
    }
   ],
   "source": [
    "print(f'Tipo de proteina de Gluten: {serie_de_proteinas[0]}');\n",
    "print(f'Fila 2 de la serie de proteinas: \\n{serie_de_proteinas[1:2]}')\n",
    "print(f'Indexacion del final al principio, en este se excluiria el Colágeno: \\n{serie_de_proteinas[:-2]}')\n"
   ]
  },
  {
   "cell_type": "markdown",
   "id": "6c2427f6",
   "metadata": {},
   "source": [
    "Como vimos, acceder a los elementos de la *serie* se logra de lac misma forma que como lo hicimos con las listas. Pero a veces es necesario manipular los elementos claves *(Keys)* de una seria, de hecho podriamos acceder a los tipos de proteinas usando las claves de la serie, pero veamoslo con un ejemplo:"
   ]
  },
  {
   "cell_type": "code",
   "execution_count": 45,
   "id": "5e63bb58",
   "metadata": {},
   "outputs": [
    {
     "data": {
      "text/plain": [
       "'Animal'"
      ]
     },
     "execution_count": 45,
     "metadata": {},
     "output_type": "execute_result"
    }
   ],
   "source": [
    "# Imprive el tipo de proteina para el elemento cuya clave es Gelatina\n",
    "serie_de_proteinas[\"Gelatina\"]"
   ]
  },
  {
   "cell_type": "code",
   "execution_count": 46,
   "id": "3ad60dac",
   "metadata": {},
   "outputs": [
    {
     "data": {
      "text/plain": [
       "Index(['Gluten', 'Gelatina', 'Queratina', 'Pectina', 'Colágeno'], dtype='object')"
      ]
     },
     "execution_count": 46,
     "metadata": {},
     "output_type": "execute_result"
    }
   ],
   "source": [
    "# Imprime la lista de elementos clave de una serie\n",
    "serie_de_proteinas.index"
   ]
  },
  {
   "cell_type": "markdown",
   "id": "b01818da",
   "metadata": {},
   "source": [
    "Ahora bien, que tal si pensamos que una Serie de la libreria de Pandas es o posee algunas de las caracteristicas de los arreglos de Numpy, Podria ser esto posible? Miremos que pasaria si tenemos una serie de numeros aleatorias y asumamos que son operables como lo vimos mas arriba:"
   ]
  },
  {
   "cell_type": "code",
   "execution_count": 48,
   "id": "b3252134",
   "metadata": {},
   "outputs": [
    {
     "data": {
      "text/plain": [
       "0    0.827832\n",
       "1    0.641650\n",
       "2    1.393000\n",
       "3    0.671700\n",
       "4    0.677049\n",
       "5    0.435522\n",
       "6    0.760107\n",
       "7    0.811108\n",
       "8    1.257118\n",
       "9    1.730951\n",
       "dtype: float64"
      ]
     },
     "execution_count": 48,
     "metadata": {},
     "output_type": "execute_result"
    }
   ],
   "source": [
    "# Se importa Panda y Numpy (sigamos la convencion de nombres que ya establecimos)\n",
    "import pandas as pd\n",
    "import numpy as np\n",
    "\n",
    "# Se crean dos series a partir de un arreglo de numpy de numeros aleatorios\n",
    "a = pd.Series(np.random.rand(10))\n",
    "b = pd.Series(np.random.rand(10))\n",
    "\n",
    "# Se imprime la serie con su respectivo resultado despues de la operacion de adicion\n",
    "a + b"
   ]
  },
  {
   "cell_type": "markdown",
   "id": "39202f16",
   "metadata": {},
   "source": [
    "Inicialmente la suma funciono de la misma forma que los arreglos de Numpy, pero esta vez lo hicimos sobre la serie, eventualmente podriamos mezclar indexacion y multiplicacion al mismo tiempo para lograr obtener una nueva serie con nuestro propio sabor veamos este ejemplo:"
   ]
  },
  {
   "cell_type": "code",
   "execution_count": 52,
   "id": "879f66db",
   "metadata": {},
   "outputs": [
    {
     "data": {
      "text/plain": [
       "0         NaN\n",
       "1    0.101402\n",
       "2    0.481464\n",
       "3    0.088272\n",
       "4    0.104572\n",
       "5    0.042915\n",
       "6    0.012857\n",
       "7    0.078402\n",
       "8    0.313555\n",
       "9         NaN\n",
       "dtype: float64"
      ]
     },
     "execution_count": 52,
     "metadata": {},
     "output_type": "execute_result"
    }
   ],
   "source": [
    "a[1:] * b[:-1]"
   ]
  },
  {
   "cell_type": "markdown",
   "id": "90470aa7",
   "metadata": {},
   "source": [
    "Obtuvimos la nueva serie, y de paso algunos *NaN* o *(Not a Number)* porque algunos elementos de las series no concordaron los indexes. Lo interesante de este ejemplo es que pudimos explorar el potencial de los arreglos de Numpy y las Series de Pandas para hacer calculos matematicos.\n",
    "\n",
    "*Si bien en este ejemplo usamos arreglos de Numpy, las series se podrian definir a partir de arreglos nativos de Python*"
   ]
  },
  {
   "cell_type": "markdown",
   "id": "aff54dcb",
   "metadata": {},
   "source": [
    "* Aqui la idea es mencionar las propiedas y caracteristicas de la serie de la libreria de pandas\n",
    "* Usar el metodo de get, index y mostrar como se manipulan la series por porciones (split)"
   ]
  },
  {
   "cell_type": "code",
   "execution_count": null,
   "id": "5748985e",
   "metadata": {},
   "outputs": [],
   "source": [
    "import panda as panda\n",
    "> point_dict = {\"Bulgaria\": 45, \"Romania\": 43, \"Israel\": 30,\n",
    "\"Denmark\": 42}"
   ]
  },
  {
   "cell_type": "markdown",
   "id": "a9eaaa2e",
   "metadata": {},
   "source": [
    "Luego terminar con un ejemplo de numpy y pandas para continuar con DataFrames\n"
   ]
  },
  {
   "cell_type": "markdown",
   "id": "64df83e8",
   "metadata": {},
   "source": [
    "## Teoria: Dataframes:\n"
   ]
  },
  {
   "cell_type": "markdown",
   "id": "27decf0c",
   "metadata": {},
   "source": [
    "Ya hablamos de los arreglos de Numpy, vimos un poco las Series de la libreria Pandas y ahora que? Que sigue? Si ya vimos algunas de las funcionalidades mas relevantes de ambas librerias, pues bien los Dataframes son quizas mucho mas relevantes y emocionates comparada con las caracteristicas mencionadas con anterioridad.\n",
    "\n",
    "Hablaremos de Dataframes en lo que resta de la parte dos y empezaremos pensando que un Dataframe es como una hoja de calculo, si como un Excel o como un google sheet, y porque no tambien podriamos visualizar como una base de datos compuesta de filas y columnas, a la final son un objeto que mantiene dicha estructura y que es manipulable de forma amigable.\n",
    "\n",
    "Creemos un data frame a continuacion:\n",
    "\n",
    "\n",
    "* Definicion y conceptos\n",
    "* Ejemplo de construccion del dataframe (ideas del dataframe)\n",
    "* Ejemplo de manipulacion, indexacion, columns,  etc\n",
    "* Operaciones matematicas por filas y por columnas\n",
    "* Otros metodos como add, pop, del, etc\n",
    "* Iteracion sobre los dataframes\n",
    "* Mezcla, Union y Concatenacion\n",
    "* Los metodos mas relevantes"
   ]
  },
  {
   "cell_type": "code",
   "execution_count": 57,
   "id": "0d276edb",
   "metadata": {},
   "outputs": [
    {
     "data": {
      "text/html": [
       "<div>\n",
       "<style scoped>\n",
       "    .dataframe tbody tr th:only-of-type {\n",
       "        vertical-align: middle;\n",
       "    }\n",
       "\n",
       "    .dataframe tbody tr th {\n",
       "        vertical-align: top;\n",
       "    }\n",
       "\n",
       "    .dataframe thead th {\n",
       "        text-align: right;\n",
       "    }\n",
       "</style>\n",
       "<table border=\"1\" class=\"dataframe\">\n",
       "  <thead>\n",
       "    <tr style=\"text-align: right;\">\n",
       "      <th></th>\n",
       "      <th>nombre</th>\n",
       "      <th>tipo</th>\n",
       "    </tr>\n",
       "  </thead>\n",
       "  <tbody>\n",
       "    <tr>\n",
       "      <th>0</th>\n",
       "      <td>Gluten</td>\n",
       "      <td>Vegetal</td>\n",
       "    </tr>\n",
       "    <tr>\n",
       "      <th>1</th>\n",
       "      <td>Gelatina</td>\n",
       "      <td>Animal</td>\n",
       "    </tr>\n",
       "    <tr>\n",
       "      <th>2</th>\n",
       "      <td>Queratina</td>\n",
       "      <td>Vegetal</td>\n",
       "    </tr>\n",
       "    <tr>\n",
       "      <th>3</th>\n",
       "      <td>Pectina</td>\n",
       "      <td>Vegetal</td>\n",
       "    </tr>\n",
       "    <tr>\n",
       "      <th>4</th>\n",
       "      <td>Colágeno</td>\n",
       "      <td>Vegetal</td>\n",
       "    </tr>\n",
       "  </tbody>\n",
       "</table>\n",
       "</div>"
      ],
      "text/plain": [
       "      nombre     tipo\n",
       "0     Gluten  Vegetal\n",
       "1   Gelatina   Animal\n",
       "2  Queratina  Vegetal\n",
       "3    Pectina  Vegetal\n",
       "4   Colágeno  Vegetal"
      ]
     },
     "execution_count": 57,
     "metadata": {},
     "output_type": "execute_result"
    }
   ],
   "source": [
    "# Se importa la libreria de Pandas\n",
    "import pandas as pd\n",
    "\n",
    "# Sean dos arreglos y continuemos con el ejemplo de las proteinas y su tipo\n",
    "nombre_proteinas = ['Gluten', 'Gelatina', 'Queratina', 'Pectina', 'Colágeno']\n",
    "tipo_proteinas = ['Vegetal', 'Animal', 'Vegetal', 'Vegetal', 'Vegetal']\n",
    "\n",
    "# Ahora se define un diccionario que relacione los nombres y las proteinas\n",
    "proteinas_dic = { \"nombre\": nombre_proteinas, \"tipo\": tipo_proteinas }\n",
    "\n",
    "# Se contruye el dataframe a partir del diccionario\n",
    "proteinas_df = pd.DataFrame(proteinas_dic)\n",
    "\n",
    "# Se imprime el dataframe\n",
    "proteinas_df"
   ]
  },
  {
   "cell_type": "markdown",
   "id": "262739d6",
   "metadata": {},
   "source": [
    "Notemos la visualizacion del DataFrame tal cual la descripcion incial de le dimos, un objeto con columans y filas.\n",
    "\n",
    "Esta no es la unica forma de definir un dataframe, podemos un jugar un poco con ella e incluso crear dataframes a partir de arreglos de numpy como lo vemos a continuacion:"
   ]
  },
  {
   "cell_type": "code",
   "execution_count": 61,
   "id": "0f00856e",
   "metadata": {},
   "outputs": [
    {
     "data": {
      "text/html": [
       "<div>\n",
       "<style scoped>\n",
       "    .dataframe tbody tr th:only-of-type {\n",
       "        vertical-align: middle;\n",
       "    }\n",
       "\n",
       "    .dataframe tbody tr th {\n",
       "        vertical-align: top;\n",
       "    }\n",
       "\n",
       "    .dataframe thead th {\n",
       "        text-align: right;\n",
       "    }\n",
       "</style>\n",
       "<table border=\"1\" class=\"dataframe\">\n",
       "  <thead>\n",
       "    <tr style=\"text-align: right;\">\n",
       "      <th></th>\n",
       "      <th>nombre</th>\n",
       "      <th>tipo</th>\n",
       "    </tr>\n",
       "  </thead>\n",
       "  <tbody>\n",
       "    <tr>\n",
       "      <th>0</th>\n",
       "      <td>Gluten</td>\n",
       "      <td>Vegetal</td>\n",
       "    </tr>\n",
       "    <tr>\n",
       "      <th>1</th>\n",
       "      <td>Gelatina</td>\n",
       "      <td>Animal</td>\n",
       "    </tr>\n",
       "    <tr>\n",
       "      <th>2</th>\n",
       "      <td>Queratina</td>\n",
       "      <td>Vegetal</td>\n",
       "    </tr>\n",
       "    <tr>\n",
       "      <th>3</th>\n",
       "      <td>Pectina</td>\n",
       "      <td>Vegetal</td>\n",
       "    </tr>\n",
       "    <tr>\n",
       "      <th>4</th>\n",
       "      <td>Colágeno</td>\n",
       "      <td>Vegetal</td>\n",
       "    </tr>\n",
       "  </tbody>\n",
       "</table>\n",
       "</div>"
      ],
      "text/plain": [
       "      nombre     tipo\n",
       "0     Gluten  Vegetal\n",
       "1   Gelatina   Animal\n",
       "2  Queratina  Vegetal\n",
       "3    Pectina  Vegetal\n",
       "4   Colágeno  Vegetal"
      ]
     },
     "execution_count": 61,
     "metadata": {},
     "output_type": "execute_result"
    }
   ],
   "source": [
    "# Se importa la libreria de Pandas\n",
    "import pandas as pd\n",
    "\n",
    "# Se crea el arreglo de proteinas\n",
    "proteinas = [\n",
    "    ('Gluten', 'Vegetal'),\n",
    "    ('Caseina', 'Animal'),\n",
    "    ('Albúmina','Vegetal'),\n",
    "    ('Colágeno', 'Vegetal'),\n",
    "    ('Gelatina', 'Animal'),\n",
    "    ('Rícina', 'Vegetal'),\n",
    "    ('Queratina', 'Vegetal'),\n",
    "    ('Pectina', 'Vegetal')\n",
    "]\n",
    "\n",
    "# Se contruye el dataframe a partir del diccionario\n",
    "proteinas_df = pd.DataFrame(proteinas_dic)\n",
    "\n",
    "# Se imprime el dataframe\n",
    "proteinas_df"
   ]
  },
  {
   "cell_type": "code",
   "execution_count": null,
   "id": "e11fab76",
   "metadata": {},
   "outputs": [],
   "source": [
    "El cual nos da el mismo resultado."
   ]
  }
 ],
 "metadata": {
  "kernelspec": {
   "display_name": "Python 3 (ipykernel)",
   "language": "python",
   "name": "python3"
  },
  "language_info": {
   "codemirror_mode": {
    "name": "ipython",
    "version": 3
   },
   "file_extension": ".py",
   "mimetype": "text/x-python",
   "name": "python",
   "nbconvert_exporter": "python",
   "pygments_lexer": "ipython3",
   "version": "3.8.13"
  }
 },
 "nbformat": 4,
 "nbformat_minor": 5
}
